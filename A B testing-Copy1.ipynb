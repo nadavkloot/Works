{
 "cells": [
  {
   "cell_type": "markdown",
   "id": "fbb6031f",
   "metadata": {},
   "source": [
    "# Introduction"
   ]
  },
  {
   "cell_type": "markdown",
   "id": "44e2e23e",
   "metadata": {},
   "source": [
    "I am an analyst at a big online store. Together with the marketing\n",
    "department, i've compiled a list of hypotheses that may help boost\n",
    "revenue.\n",
    "My job is to prioritize these hypotheses, launch an A/B test, and analyze the\n",
    "results."
   ]
  },
  {
   "cell_type": "markdown",
   "id": "2afa291c",
   "metadata": {},
   "source": [
    "## Description of the data:"
   ]
  },
  {
   "cell_type": "markdown",
   "id": "e609df6f",
   "metadata": {},
   "source": [
    "#### hypotheses_us.csv\n",
    "Hypotheses — brief descriptions of the hypotheses\n",
    "\n",
    "Reach — user reach, on a scale of one to ten\n",
    "\n",
    "Impact — impact on users, on a scale of one to ten\n",
    "\n",
    "Confidence — confidence in the hypothesis, on a scale of one to ten\n",
    "\n",
    "Effort — the resources required to test a hypothesis, on a scale of one to\n",
    "ten. The higher the Effort value, the more resource-intensive the test.\n"
   ]
  },
  {
   "cell_type": "markdown",
   "id": "81cf5988",
   "metadata": {},
   "source": [
    "#### orders_us.csv\n",
    "transactionId — order identifier\n",
    "\n",
    "visitorId — identifier of the user who placed the order\n",
    "\n",
    "date — of the order\n",
    "\n",
    "revenue — from the order\n",
    "\n",
    "group — the A/B test group that the user belongs to"
   ]
  },
  {
   "cell_type": "markdown",
   "id": "1eb10e8a",
   "metadata": {},
   "source": [
    "#### visits_us.csv\n",
    "date — date\n",
    "\n",
    "group — A/B test group\n",
    "\n",
    "visits — the number of visits on the date specified in the A/B test group\n",
    "specified\n"
   ]
  },
  {
   "cell_type": "markdown",
   "id": "3a4e0def",
   "metadata": {},
   "source": [
    "# Step 1: Reading and preprocessing the data:"
   ]
  },
  {
   "cell_type": "markdown",
   "id": "bf6ec919",
   "metadata": {},
   "source": [
    "Importing the libaries:"
   ]
  },
  {
   "cell_type": "code",
   "execution_count": 1,
   "id": "545bbdf8",
   "metadata": {},
   "outputs": [],
   "source": [
    "import pandas as pd\n",
    "import numpy as np\n",
    "import scipy.stats as stats\n",
    "import matplotlib.pyplot as plt\n",
    "import datetime as dt"
   ]
  },
  {
   "cell_type": "markdown",
   "id": "6c984967",
   "metadata": {},
   "source": [
    "Reading the data:"
   ]
  },
  {
   "cell_type": "code",
   "execution_count": 2,
   "id": "0ee07acf",
   "metadata": {},
   "outputs": [],
   "source": [
    "try:\n",
    "    hypothesis = pd.read_csv(r'C:\\Users\\nadav\\OneDrive\\מסמכים\\Practicum100\\databases\\hypotheses_us.csv')\n",
    "except:\n",
    "    hypothesis = pd.read_csv('/datasets/hypotheses_us.csv')"
   ]
  },
  {
   "cell_type": "code",
   "execution_count": 3,
   "id": "34ffeac6",
   "metadata": {},
   "outputs": [],
   "source": [
    "try:\n",
    "    orders = pd.read_csv(r'C:\\Users\\nadav\\OneDrive\\מסמכים\\Practicum100\\databases\\orders.csv')\n",
    "except:\n",
    "    orders = pd.read_csv('/datasets/orders_us.csv')"
   ]
  },
  {
   "cell_type": "code",
   "execution_count": 4,
   "id": "eeaab784",
   "metadata": {},
   "outputs": [],
   "source": [
    "try:\n",
    "    visits = pd.read_csv(r'C:\\Users\\nadav\\OneDrive\\מסמכים\\Practicum100\\databases\\visits.csv')\n",
    "except:\n",
    "    visits = pd.read_csv('/datasets/hypotheses_us.csv')"
   ]
  },
  {
   "cell_type": "markdown",
   "id": "5a72651c",
   "metadata": {},
   "source": [
    "Let's take a look at the data:"
   ]
  },
  {
   "cell_type": "code",
   "execution_count": 5,
   "id": "736f9ede",
   "metadata": {},
   "outputs": [
    {
     "name": "stdout",
     "output_type": "stream",
     "text": [
      "<class 'pandas.core.frame.DataFrame'>\n",
      "RangeIndex: 9 entries, 0 to 8\n",
      "Data columns (total 1 columns):\n",
      " #   Column                                     Non-Null Count  Dtype \n",
      "---  ------                                     --------------  ----- \n",
      " 0   Hypothesis;Reach;Impact;Confidence;Effort  9 non-null      object\n",
      "dtypes: object(1)\n",
      "memory usage: 200.0+ bytes\n"
     ]
    }
   ],
   "source": [
    "hypothesis.info()"
   ]
  },
  {
   "cell_type": "code",
   "execution_count": 6,
   "id": "0e3e2c2b",
   "metadata": {},
   "outputs": [
    {
     "data": {
      "text/html": [
       "<div>\n",
       "<style scoped>\n",
       "    .dataframe tbody tr th:only-of-type {\n",
       "        vertical-align: middle;\n",
       "    }\n",
       "\n",
       "    .dataframe tbody tr th {\n",
       "        vertical-align: top;\n",
       "    }\n",
       "\n",
       "    .dataframe thead th {\n",
       "        text-align: right;\n",
       "    }\n",
       "</style>\n",
       "<table border=\"1\" class=\"dataframe\">\n",
       "  <thead>\n",
       "    <tr style=\"text-align: right;\">\n",
       "      <th></th>\n",
       "      <th>Hypothesis;Reach;Impact;Confidence;Effort</th>\n",
       "    </tr>\n",
       "  </thead>\n",
       "  <tbody>\n",
       "    <tr>\n",
       "      <th>0</th>\n",
       "      <td>Add two new channels for attracting traffic. T...</td>\n",
       "    </tr>\n",
       "    <tr>\n",
       "      <th>1</th>\n",
       "      <td>Launch your own delivery service. This will sh...</td>\n",
       "    </tr>\n",
       "    <tr>\n",
       "      <th>2</th>\n",
       "      <td>Add product recommendation blocks to the store...</td>\n",
       "    </tr>\n",
       "    <tr>\n",
       "      <th>3</th>\n",
       "      <td>Change the category structure. This will incre...</td>\n",
       "    </tr>\n",
       "    <tr>\n",
       "      <th>4</th>\n",
       "      <td>Change the background color on the main page. ...</td>\n",
       "    </tr>\n",
       "    <tr>\n",
       "      <th>5</th>\n",
       "      <td>Add a customer review page. This will increase...</td>\n",
       "    </tr>\n",
       "    <tr>\n",
       "      <th>6</th>\n",
       "      <td>Show banners with current offers and sales on ...</td>\n",
       "    </tr>\n",
       "    <tr>\n",
       "      <th>7</th>\n",
       "      <td>Add a subscription form to all the main pages....</td>\n",
       "    </tr>\n",
       "    <tr>\n",
       "      <th>8</th>\n",
       "      <td>Launch a promotion that gives users discounts ...</td>\n",
       "    </tr>\n",
       "  </tbody>\n",
       "</table>\n",
       "</div>"
      ],
      "text/plain": [
       "           Hypothesis;Reach;Impact;Confidence;Effort\n",
       "0  Add two new channels for attracting traffic. T...\n",
       "1  Launch your own delivery service. This will sh...\n",
       "2  Add product recommendation blocks to the store...\n",
       "3  Change the category structure. This will incre...\n",
       "4  Change the background color on the main page. ...\n",
       "5  Add a customer review page. This will increase...\n",
       "6  Show banners with current offers and sales on ...\n",
       "7  Add a subscription form to all the main pages....\n",
       "8  Launch a promotion that gives users discounts ..."
      ]
     },
     "execution_count": 6,
     "metadata": {},
     "output_type": "execute_result"
    }
   ],
   "source": [
    "hypothesis"
   ]
  },
  {
   "cell_type": "markdown",
   "id": "328e9996",
   "metadata": {},
   "source": [
    "Looks like this data source needs pharsing. Let's re-read it:"
   ]
  },
  {
   "cell_type": "code",
   "execution_count": 7,
   "id": "f212c8c8",
   "metadata": {},
   "outputs": [],
   "source": [
    "try:\n",
    "    hypothesis = pd.read_csv(r'C:\\Users\\nadav\\OneDrive\\מסמכים\\Practicum100\\databases\\hypotheses_us.csv', sep = ';')\n",
    "except:\n",
    "    hypothesis = pd.read_csv('/datasets/hypotheses_us.csv', sep = ';')"
   ]
  },
  {
   "cell_type": "code",
   "execution_count": 8,
   "id": "108e8364",
   "metadata": {},
   "outputs": [
    {
     "data": {
      "text/html": [
       "<div>\n",
       "<style scoped>\n",
       "    .dataframe tbody tr th:only-of-type {\n",
       "        vertical-align: middle;\n",
       "    }\n",
       "\n",
       "    .dataframe tbody tr th {\n",
       "        vertical-align: top;\n",
       "    }\n",
       "\n",
       "    .dataframe thead th {\n",
       "        text-align: right;\n",
       "    }\n",
       "</style>\n",
       "<table border=\"1\" class=\"dataframe\">\n",
       "  <thead>\n",
       "    <tr style=\"text-align: right;\">\n",
       "      <th></th>\n",
       "      <th>Hypothesis</th>\n",
       "      <th>Reach</th>\n",
       "      <th>Impact</th>\n",
       "      <th>Confidence</th>\n",
       "      <th>Effort</th>\n",
       "    </tr>\n",
       "  </thead>\n",
       "  <tbody>\n",
       "    <tr>\n",
       "      <th>0</th>\n",
       "      <td>Add two new channels for attracting traffic. T...</td>\n",
       "      <td>3</td>\n",
       "      <td>10</td>\n",
       "      <td>8</td>\n",
       "      <td>6</td>\n",
       "    </tr>\n",
       "    <tr>\n",
       "      <th>1</th>\n",
       "      <td>Launch your own delivery service. This will sh...</td>\n",
       "      <td>2</td>\n",
       "      <td>5</td>\n",
       "      <td>4</td>\n",
       "      <td>10</td>\n",
       "    </tr>\n",
       "    <tr>\n",
       "      <th>2</th>\n",
       "      <td>Add product recommendation blocks to the store...</td>\n",
       "      <td>8</td>\n",
       "      <td>3</td>\n",
       "      <td>7</td>\n",
       "      <td>3</td>\n",
       "    </tr>\n",
       "    <tr>\n",
       "      <th>3</th>\n",
       "      <td>Change the category structure. This will incre...</td>\n",
       "      <td>8</td>\n",
       "      <td>3</td>\n",
       "      <td>3</td>\n",
       "      <td>8</td>\n",
       "    </tr>\n",
       "    <tr>\n",
       "      <th>4</th>\n",
       "      <td>Change the background color on the main page. ...</td>\n",
       "      <td>3</td>\n",
       "      <td>1</td>\n",
       "      <td>1</td>\n",
       "      <td>1</td>\n",
       "    </tr>\n",
       "    <tr>\n",
       "      <th>5</th>\n",
       "      <td>Add a customer review page. This will increase...</td>\n",
       "      <td>3</td>\n",
       "      <td>2</td>\n",
       "      <td>2</td>\n",
       "      <td>3</td>\n",
       "    </tr>\n",
       "    <tr>\n",
       "      <th>6</th>\n",
       "      <td>Show banners with current offers and sales on ...</td>\n",
       "      <td>5</td>\n",
       "      <td>3</td>\n",
       "      <td>8</td>\n",
       "      <td>3</td>\n",
       "    </tr>\n",
       "    <tr>\n",
       "      <th>7</th>\n",
       "      <td>Add a subscription form to all the main pages....</td>\n",
       "      <td>10</td>\n",
       "      <td>7</td>\n",
       "      <td>8</td>\n",
       "      <td>5</td>\n",
       "    </tr>\n",
       "    <tr>\n",
       "      <th>8</th>\n",
       "      <td>Launch a promotion that gives users discounts ...</td>\n",
       "      <td>1</td>\n",
       "      <td>9</td>\n",
       "      <td>9</td>\n",
       "      <td>5</td>\n",
       "    </tr>\n",
       "  </tbody>\n",
       "</table>\n",
       "</div>"
      ],
      "text/plain": [
       "                                          Hypothesis  Reach  Impact  \\\n",
       "0  Add two new channels for attracting traffic. T...      3      10   \n",
       "1  Launch your own delivery service. This will sh...      2       5   \n",
       "2  Add product recommendation blocks to the store...      8       3   \n",
       "3  Change the category structure. This will incre...      8       3   \n",
       "4  Change the background color on the main page. ...      3       1   \n",
       "5  Add a customer review page. This will increase...      3       2   \n",
       "6  Show banners with current offers and sales on ...      5       3   \n",
       "7  Add a subscription form to all the main pages....     10       7   \n",
       "8  Launch a promotion that gives users discounts ...      1       9   \n",
       "\n",
       "   Confidence  Effort  \n",
       "0           8       6  \n",
       "1           4      10  \n",
       "2           7       3  \n",
       "3           3       8  \n",
       "4           1       1  \n",
       "5           2       3  \n",
       "6           8       3  \n",
       "7           8       5  \n",
       "8           9       5  "
      ]
     },
     "execution_count": 8,
     "metadata": {},
     "output_type": "execute_result"
    }
   ],
   "source": [
    "hypothesis"
   ]
  },
  {
   "cell_type": "markdown",
   "id": "93a23410",
   "metadata": {},
   "source": [
    "Much better!"
   ]
  },
  {
   "cell_type": "code",
   "execution_count": 9,
   "id": "360dd0b5",
   "metadata": {},
   "outputs": [
    {
     "name": "stdout",
     "output_type": "stream",
     "text": [
      "<class 'pandas.core.frame.DataFrame'>\n",
      "RangeIndex: 9 entries, 0 to 8\n",
      "Data columns (total 5 columns):\n",
      " #   Column      Non-Null Count  Dtype \n",
      "---  ------      --------------  ----- \n",
      " 0   Hypothesis  9 non-null      object\n",
      " 1   Reach       9 non-null      int64 \n",
      " 2   Impact      9 non-null      int64 \n",
      " 3   Confidence  9 non-null      int64 \n",
      " 4   Effort      9 non-null      int64 \n",
      "dtypes: int64(4), object(1)\n",
      "memory usage: 488.0+ bytes\n"
     ]
    }
   ],
   "source": [
    "hypothesis.info()"
   ]
  },
  {
   "cell_type": "markdown",
   "id": "eaebd75f",
   "metadata": {},
   "source": [
    "All looks good here. No missing values and no duplicates."
   ]
  },
  {
   "cell_type": "code",
   "execution_count": 10,
   "id": "f002e8e1",
   "metadata": {},
   "outputs": [
    {
     "name": "stdout",
     "output_type": "stream",
     "text": [
      "<class 'pandas.core.frame.DataFrame'>\n",
      "RangeIndex: 62 entries, 0 to 61\n",
      "Data columns (total 3 columns):\n",
      " #   Column  Non-Null Count  Dtype \n",
      "---  ------  --------------  ----- \n",
      " 0   date    62 non-null     object\n",
      " 1   group   62 non-null     object\n",
      " 2   visits  62 non-null     int64 \n",
      "dtypes: int64(1), object(2)\n",
      "memory usage: 1.6+ KB\n"
     ]
    }
   ],
   "source": [
    "visits.info()"
   ]
  },
  {
   "cell_type": "code",
   "execution_count": 11,
   "id": "f3827c77",
   "metadata": {},
   "outputs": [
    {
     "data": {
      "text/html": [
       "<div>\n",
       "<style scoped>\n",
       "    .dataframe tbody tr th:only-of-type {\n",
       "        vertical-align: middle;\n",
       "    }\n",
       "\n",
       "    .dataframe tbody tr th {\n",
       "        vertical-align: top;\n",
       "    }\n",
       "\n",
       "    .dataframe thead th {\n",
       "        text-align: right;\n",
       "    }\n",
       "</style>\n",
       "<table border=\"1\" class=\"dataframe\">\n",
       "  <thead>\n",
       "    <tr style=\"text-align: right;\">\n",
       "      <th></th>\n",
       "      <th>date</th>\n",
       "      <th>group</th>\n",
       "      <th>visits</th>\n",
       "    </tr>\n",
       "  </thead>\n",
       "  <tbody>\n",
       "    <tr>\n",
       "      <th>0</th>\n",
       "      <td>2019-08-01</td>\n",
       "      <td>A</td>\n",
       "      <td>719</td>\n",
       "    </tr>\n",
       "    <tr>\n",
       "      <th>1</th>\n",
       "      <td>2019-08-02</td>\n",
       "      <td>A</td>\n",
       "      <td>619</td>\n",
       "    </tr>\n",
       "    <tr>\n",
       "      <th>2</th>\n",
       "      <td>2019-08-03</td>\n",
       "      <td>A</td>\n",
       "      <td>507</td>\n",
       "    </tr>\n",
       "    <tr>\n",
       "      <th>3</th>\n",
       "      <td>2019-08-04</td>\n",
       "      <td>A</td>\n",
       "      <td>717</td>\n",
       "    </tr>\n",
       "    <tr>\n",
       "      <th>4</th>\n",
       "      <td>2019-08-05</td>\n",
       "      <td>A</td>\n",
       "      <td>756</td>\n",
       "    </tr>\n",
       "    <tr>\n",
       "      <th>...</th>\n",
       "      <td>...</td>\n",
       "      <td>...</td>\n",
       "      <td>...</td>\n",
       "    </tr>\n",
       "    <tr>\n",
       "      <th>57</th>\n",
       "      <td>2019-08-27</td>\n",
       "      <td>B</td>\n",
       "      <td>720</td>\n",
       "    </tr>\n",
       "    <tr>\n",
       "      <th>58</th>\n",
       "      <td>2019-08-28</td>\n",
       "      <td>B</td>\n",
       "      <td>654</td>\n",
       "    </tr>\n",
       "    <tr>\n",
       "      <th>59</th>\n",
       "      <td>2019-08-29</td>\n",
       "      <td>B</td>\n",
       "      <td>531</td>\n",
       "    </tr>\n",
       "    <tr>\n",
       "      <th>60</th>\n",
       "      <td>2019-08-30</td>\n",
       "      <td>B</td>\n",
       "      <td>490</td>\n",
       "    </tr>\n",
       "    <tr>\n",
       "      <th>61</th>\n",
       "      <td>2019-08-31</td>\n",
       "      <td>B</td>\n",
       "      <td>718</td>\n",
       "    </tr>\n",
       "  </tbody>\n",
       "</table>\n",
       "<p>62 rows × 3 columns</p>\n",
       "</div>"
      ],
      "text/plain": [
       "          date group  visits\n",
       "0   2019-08-01     A     719\n",
       "1   2019-08-02     A     619\n",
       "2   2019-08-03     A     507\n",
       "3   2019-08-04     A     717\n",
       "4   2019-08-05     A     756\n",
       "..         ...   ...     ...\n",
       "57  2019-08-27     B     720\n",
       "58  2019-08-28     B     654\n",
       "59  2019-08-29     B     531\n",
       "60  2019-08-30     B     490\n",
       "61  2019-08-31     B     718\n",
       "\n",
       "[62 rows x 3 columns]"
      ]
     },
     "execution_count": 11,
     "metadata": {},
     "output_type": "execute_result"
    }
   ],
   "source": [
    "visits"
   ]
  },
  {
   "cell_type": "markdown",
   "id": "4f67d19d",
   "metadata": {},
   "source": [
    "Looks like everything is ok here. Let's check for duplicates:"
   ]
  },
  {
   "cell_type": "code",
   "execution_count": 12,
   "id": "fbce462f",
   "metadata": {},
   "outputs": [
    {
     "data": {
      "text/plain": [
       "0"
      ]
     },
     "execution_count": 12,
     "metadata": {},
     "output_type": "execute_result"
    }
   ],
   "source": [
    "visits.duplicated().sum()"
   ]
  },
  {
   "cell_type": "markdown",
   "id": "649fac40",
   "metadata": {},
   "source": [
    "Great!"
   ]
  },
  {
   "cell_type": "code",
   "execution_count": 13,
   "id": "519f6bd4",
   "metadata": {},
   "outputs": [
    {
     "name": "stdout",
     "output_type": "stream",
     "text": [
      "<class 'pandas.core.frame.DataFrame'>\n",
      "RangeIndex: 1197 entries, 0 to 1196\n",
      "Data columns (total 5 columns):\n",
      " #   Column         Non-Null Count  Dtype  \n",
      "---  ------         --------------  -----  \n",
      " 0   transactionId  1197 non-null   int64  \n",
      " 1   visitorId      1197 non-null   int64  \n",
      " 2   date           1197 non-null   object \n",
      " 3   revenue        1197 non-null   float64\n",
      " 4   group          1197 non-null   object \n",
      "dtypes: float64(1), int64(2), object(2)\n",
      "memory usage: 46.9+ KB\n"
     ]
    }
   ],
   "source": [
    "orders.info()"
   ]
  },
  {
   "cell_type": "code",
   "execution_count": 14,
   "id": "3eb33378",
   "metadata": {},
   "outputs": [
    {
     "data": {
      "text/html": [
       "<div>\n",
       "<style scoped>\n",
       "    .dataframe tbody tr th:only-of-type {\n",
       "        vertical-align: middle;\n",
       "    }\n",
       "\n",
       "    .dataframe tbody tr th {\n",
       "        vertical-align: top;\n",
       "    }\n",
       "\n",
       "    .dataframe thead th {\n",
       "        text-align: right;\n",
       "    }\n",
       "</style>\n",
       "<table border=\"1\" class=\"dataframe\">\n",
       "  <thead>\n",
       "    <tr style=\"text-align: right;\">\n",
       "      <th></th>\n",
       "      <th>transactionId</th>\n",
       "      <th>visitorId</th>\n",
       "      <th>date</th>\n",
       "      <th>revenue</th>\n",
       "      <th>group</th>\n",
       "    </tr>\n",
       "  </thead>\n",
       "  <tbody>\n",
       "    <tr>\n",
       "      <th>0</th>\n",
       "      <td>3667963787</td>\n",
       "      <td>3312258926</td>\n",
       "      <td>2019-08-15</td>\n",
       "      <td>30.4</td>\n",
       "      <td>B</td>\n",
       "    </tr>\n",
       "    <tr>\n",
       "      <th>1</th>\n",
       "      <td>2804400009</td>\n",
       "      <td>3642806036</td>\n",
       "      <td>2019-08-15</td>\n",
       "      <td>15.2</td>\n",
       "      <td>B</td>\n",
       "    </tr>\n",
       "    <tr>\n",
       "      <th>2</th>\n",
       "      <td>2961555356</td>\n",
       "      <td>4069496402</td>\n",
       "      <td>2019-08-15</td>\n",
       "      <td>10.2</td>\n",
       "      <td>A</td>\n",
       "    </tr>\n",
       "    <tr>\n",
       "      <th>3</th>\n",
       "      <td>3797467345</td>\n",
       "      <td>1196621759</td>\n",
       "      <td>2019-08-15</td>\n",
       "      <td>155.1</td>\n",
       "      <td>B</td>\n",
       "    </tr>\n",
       "    <tr>\n",
       "      <th>4</th>\n",
       "      <td>2282983706</td>\n",
       "      <td>2322279887</td>\n",
       "      <td>2019-08-15</td>\n",
       "      <td>40.5</td>\n",
       "      <td>B</td>\n",
       "    </tr>\n",
       "    <tr>\n",
       "      <th>...</th>\n",
       "      <td>...</td>\n",
       "      <td>...</td>\n",
       "      <td>...</td>\n",
       "      <td>...</td>\n",
       "      <td>...</td>\n",
       "    </tr>\n",
       "    <tr>\n",
       "      <th>1192</th>\n",
       "      <td>2662137336</td>\n",
       "      <td>3733762160</td>\n",
       "      <td>2019-08-14</td>\n",
       "      <td>100.8</td>\n",
       "      <td>B</td>\n",
       "    </tr>\n",
       "    <tr>\n",
       "      <th>1193</th>\n",
       "      <td>2203539145</td>\n",
       "      <td>370388673</td>\n",
       "      <td>2019-08-14</td>\n",
       "      <td>50.1</td>\n",
       "      <td>A</td>\n",
       "    </tr>\n",
       "    <tr>\n",
       "      <th>1194</th>\n",
       "      <td>1807773912</td>\n",
       "      <td>573423106</td>\n",
       "      <td>2019-08-14</td>\n",
       "      <td>165.3</td>\n",
       "      <td>A</td>\n",
       "    </tr>\n",
       "    <tr>\n",
       "      <th>1195</th>\n",
       "      <td>1947021204</td>\n",
       "      <td>1614305549</td>\n",
       "      <td>2019-08-14</td>\n",
       "      <td>5.5</td>\n",
       "      <td>A</td>\n",
       "    </tr>\n",
       "    <tr>\n",
       "      <th>1196</th>\n",
       "      <td>3936777065</td>\n",
       "      <td>2108080724</td>\n",
       "      <td>2019-08-15</td>\n",
       "      <td>3120.1</td>\n",
       "      <td>B</td>\n",
       "    </tr>\n",
       "  </tbody>\n",
       "</table>\n",
       "<p>1197 rows × 5 columns</p>\n",
       "</div>"
      ],
      "text/plain": [
       "      transactionId   visitorId        date  revenue group\n",
       "0        3667963787  3312258926  2019-08-15     30.4     B\n",
       "1        2804400009  3642806036  2019-08-15     15.2     B\n",
       "2        2961555356  4069496402  2019-08-15     10.2     A\n",
       "3        3797467345  1196621759  2019-08-15    155.1     B\n",
       "4        2282983706  2322279887  2019-08-15     40.5     B\n",
       "...             ...         ...         ...      ...   ...\n",
       "1192     2662137336  3733762160  2019-08-14    100.8     B\n",
       "1193     2203539145   370388673  2019-08-14     50.1     A\n",
       "1194     1807773912   573423106  2019-08-14    165.3     A\n",
       "1195     1947021204  1614305549  2019-08-14      5.5     A\n",
       "1196     3936777065  2108080724  2019-08-15   3120.1     B\n",
       "\n",
       "[1197 rows x 5 columns]"
      ]
     },
     "execution_count": 14,
     "metadata": {},
     "output_type": "execute_result"
    }
   ],
   "source": [
    "orders"
   ]
  },
  {
   "cell_type": "markdown",
   "id": "d541b23a",
   "metadata": {},
   "source": [
    "Looks like there is no missing values. Let's check for duplicates:"
   ]
  },
  {
   "cell_type": "code",
   "execution_count": 15,
   "id": "8dc38971",
   "metadata": {},
   "outputs": [
    {
     "data": {
      "text/plain": [
       "0"
      ]
     },
     "execution_count": 15,
     "metadata": {},
     "output_type": "execute_result"
    }
   ],
   "source": [
    "orders.duplicated().sum()"
   ]
  },
  {
   "cell_type": "markdown",
   "id": "cc69f94e",
   "metadata": {},
   "source": [
    "No duplicates."
   ]
  },
  {
   "cell_type": "markdown",
   "id": "fc963792",
   "metadata": {},
   "source": [
    "Let's check if we have users who are accidently on both groups:"
   ]
  },
  {
   "cell_type": "code",
   "execution_count": 16,
   "id": "050e8284",
   "metadata": {},
   "outputs": [
    {
     "data": {
      "text/plain": [
       "89"
      ]
     },
     "execution_count": 16,
     "metadata": {},
     "output_type": "execute_result"
    }
   ],
   "source": [
    "ordersgroupA = orders[orders['group'] == 'A']\n",
    "ordersgroupB = orders[orders['group'] == 'B']\n",
    "ordersgroupA['visitorId'].isin(ordersgroupB['visitorId']).sum()"
   ]
  },
  {
   "cell_type": "markdown",
   "id": "17800f6c",
   "metadata": {},
   "source": [
    "We see we have 89 users that are on both groups! Let's delete them:"
   ]
  },
  {
   "cell_type": "code",
   "execution_count": 17,
   "id": "f80d3454",
   "metadata": {},
   "outputs": [],
   "source": [
    "duplicates = ordersgroupA[ordersgroupA['visitorId'].isin(ordersgroupB['visitorId']) == True]['visitorId'].index\n",
    "orders = orders.drop(duplicates, axis = 0).reset_index(drop = True)"
   ]
  },
  {
   "cell_type": "code",
   "execution_count": 18,
   "id": "09f2666c",
   "metadata": {},
   "outputs": [
    {
     "name": "stdout",
     "output_type": "stream",
     "text": [
      "<class 'pandas.core.frame.DataFrame'>\n",
      "RangeIndex: 1108 entries, 0 to 1107\n",
      "Data columns (total 5 columns):\n",
      " #   Column         Non-Null Count  Dtype  \n",
      "---  ------         --------------  -----  \n",
      " 0   transactionId  1108 non-null   int64  \n",
      " 1   visitorId      1108 non-null   int64  \n",
      " 2   date           1108 non-null   object \n",
      " 3   revenue        1108 non-null   float64\n",
      " 4   group          1108 non-null   object \n",
      "dtypes: float64(1), int64(2), object(2)\n",
      "memory usage: 43.4+ KB\n"
     ]
    }
   ],
   "source": [
    "orders.info()"
   ]
  },
  {
   "cell_type": "markdown",
   "id": "4829ae27",
   "metadata": {},
   "source": [
    "Got rid of that. Let's turn our column types:"
   ]
  },
  {
   "cell_type": "code",
   "execution_count": 19,
   "id": "b87a3fbf",
   "metadata": {},
   "outputs": [],
   "source": [
    "orders['date'] = pd.to_datetime(orders['date'],format = '%Y-%m-%d')\n",
    "visits['date'] = pd.to_datetime(visits['date'],format = '%Y-%m-%d')"
   ]
  },
  {
   "cell_type": "code",
   "execution_count": 20,
   "id": "5afd682a",
   "metadata": {},
   "outputs": [
    {
     "name": "stdout",
     "output_type": "stream",
     "text": [
      "<class 'pandas.core.frame.DataFrame'>\n",
      "RangeIndex: 1108 entries, 0 to 1107\n",
      "Data columns (total 5 columns):\n",
      " #   Column         Non-Null Count  Dtype         \n",
      "---  ------         --------------  -----         \n",
      " 0   transactionId  1108 non-null   int64         \n",
      " 1   visitorId      1108 non-null   int64         \n",
      " 2   date           1108 non-null   datetime64[ns]\n",
      " 3   revenue        1108 non-null   float64       \n",
      " 4   group          1108 non-null   object        \n",
      "dtypes: datetime64[ns](1), float64(1), int64(2), object(1)\n",
      "memory usage: 43.4+ KB\n"
     ]
    }
   ],
   "source": [
    "orders.info()"
   ]
  },
  {
   "cell_type": "code",
   "execution_count": 21,
   "id": "92463694",
   "metadata": {},
   "outputs": [
    {
     "name": "stdout",
     "output_type": "stream",
     "text": [
      "<class 'pandas.core.frame.DataFrame'>\n",
      "RangeIndex: 62 entries, 0 to 61\n",
      "Data columns (total 3 columns):\n",
      " #   Column  Non-Null Count  Dtype         \n",
      "---  ------  --------------  -----         \n",
      " 0   date    62 non-null     datetime64[ns]\n",
      " 1   group   62 non-null     object        \n",
      " 2   visits  62 non-null     int64         \n",
      "dtypes: datetime64[ns](1), int64(1), object(1)\n",
      "memory usage: 1.6+ KB\n"
     ]
    }
   ],
   "source": [
    "visits.info()"
   ]
  },
  {
   "cell_type": "markdown",
   "id": "6a103349",
   "metadata": {},
   "source": [
    "Let's check if our dates are corresponding:"
   ]
  },
  {
   "cell_type": "code",
   "execution_count": 22,
   "id": "275c8c6e",
   "metadata": {},
   "outputs": [
    {
     "data": {
      "text/plain": [
       "Timestamp('2019-08-01 00:00:00')"
      ]
     },
     "execution_count": 22,
     "metadata": {},
     "output_type": "execute_result"
    }
   ],
   "source": [
    "orders['date'].min()"
   ]
  },
  {
   "cell_type": "code",
   "execution_count": 23,
   "id": "9c3d4e1e",
   "metadata": {},
   "outputs": [
    {
     "data": {
      "text/plain": [
       "Timestamp('2019-08-01 00:00:00')"
      ]
     },
     "execution_count": 23,
     "metadata": {},
     "output_type": "execute_result"
    }
   ],
   "source": [
    "visits['date'].min()"
   ]
  },
  {
   "cell_type": "code",
   "execution_count": 24,
   "id": "3f702bb5",
   "metadata": {},
   "outputs": [
    {
     "data": {
      "text/plain": [
       "Timestamp('2019-08-31 00:00:00')"
      ]
     },
     "execution_count": 24,
     "metadata": {},
     "output_type": "execute_result"
    }
   ],
   "source": [
    "orders['date'].max()"
   ]
  },
  {
   "cell_type": "code",
   "execution_count": 25,
   "id": "d73e4ed0",
   "metadata": {},
   "outputs": [
    {
     "data": {
      "text/plain": [
       "Timestamp('2019-08-31 00:00:00')"
      ]
     },
     "execution_count": 25,
     "metadata": {},
     "output_type": "execute_result"
    }
   ],
   "source": [
    "visits['date'].max()"
   ]
  },
  {
   "cell_type": "markdown",
   "id": "20638450",
   "metadata": {},
   "source": [
    "Our dates correspond too. Looks like the data is ready!"
   ]
  },
  {
   "cell_type": "markdown",
   "id": "72f3f61b",
   "metadata": {},
   "source": [
    "# Part 1. Prioritizing Hypotheses"
   ]
  },
  {
   "cell_type": "markdown",
   "id": "df0320ea",
   "metadata": {},
   "source": [
    "First, Let's sort our hypotheses by the 'ICE' method:\\"
   ]
  },
  {
   "cell_type": "code",
   "execution_count": 26,
   "id": "fcc35953",
   "metadata": {},
   "outputs": [
    {
     "data": {
      "text/html": [
       "<div>\n",
       "<style scoped>\n",
       "    .dataframe tbody tr th:only-of-type {\n",
       "        vertical-align: middle;\n",
       "    }\n",
       "\n",
       "    .dataframe tbody tr th {\n",
       "        vertical-align: top;\n",
       "    }\n",
       "\n",
       "    .dataframe thead th {\n",
       "        text-align: right;\n",
       "    }\n",
       "</style>\n",
       "<table border=\"1\" class=\"dataframe\">\n",
       "  <thead>\n",
       "    <tr style=\"text-align: right;\">\n",
       "      <th></th>\n",
       "      <th>Hypothesis</th>\n",
       "      <th>ICE</th>\n",
       "    </tr>\n",
       "  </thead>\n",
       "  <tbody>\n",
       "    <tr>\n",
       "      <th>8</th>\n",
       "      <td>Launch a promotion that gives users discounts on their birthdays</td>\n",
       "      <td>16.200000</td>\n",
       "    </tr>\n",
       "    <tr>\n",
       "      <th>0</th>\n",
       "      <td>Add two new channels for attracting traffic. This will bring 30% more users</td>\n",
       "      <td>13.333333</td>\n",
       "    </tr>\n",
       "    <tr>\n",
       "      <th>7</th>\n",
       "      <td>Add a subscription form to all the main pages. This will help you compile a mailing list</td>\n",
       "      <td>11.200000</td>\n",
       "    </tr>\n",
       "    <tr>\n",
       "      <th>6</th>\n",
       "      <td>Show banners with current offers and sales on the main page. This will boost conversion</td>\n",
       "      <td>8.000000</td>\n",
       "    </tr>\n",
       "    <tr>\n",
       "      <th>2</th>\n",
       "      <td>Add product recommendation blocks to the store's site. This will increase conversion and average purchase size</td>\n",
       "      <td>7.000000</td>\n",
       "    </tr>\n",
       "    <tr>\n",
       "      <th>1</th>\n",
       "      <td>Launch your own delivery service. This will shorten delivery time</td>\n",
       "      <td>2.000000</td>\n",
       "    </tr>\n",
       "    <tr>\n",
       "      <th>5</th>\n",
       "      <td>Add a customer review page. This will increase the number of orders</td>\n",
       "      <td>1.333333</td>\n",
       "    </tr>\n",
       "    <tr>\n",
       "      <th>3</th>\n",
       "      <td>Change the category structure. This will increase conversion since users will find the products they want more quickly</td>\n",
       "      <td>1.125000</td>\n",
       "    </tr>\n",
       "    <tr>\n",
       "      <th>4</th>\n",
       "      <td>Change the background color on the main page. This will increase user engagement</td>\n",
       "      <td>1.000000</td>\n",
       "    </tr>\n",
       "  </tbody>\n",
       "</table>\n",
       "</div>"
      ],
      "text/plain": [
       "                                                                                                               Hypothesis  \\\n",
       "8                                                        Launch a promotion that gives users discounts on their birthdays   \n",
       "0                                             Add two new channels for attracting traffic. This will bring 30% more users   \n",
       "7                                Add a subscription form to all the main pages. This will help you compile a mailing list   \n",
       "6                                 Show banners with current offers and sales on the main page. This will boost conversion   \n",
       "2          Add product recommendation blocks to the store's site. This will increase conversion and average purchase size   \n",
       "1                                                       Launch your own delivery service. This will shorten delivery time   \n",
       "5                                                     Add a customer review page. This will increase the number of orders   \n",
       "3  Change the category structure. This will increase conversion since users will find the products they want more quickly   \n",
       "4                                        Change the background color on the main page. This will increase user engagement   \n",
       "\n",
       "         ICE  \n",
       "8  16.200000  \n",
       "0  13.333333  \n",
       "7  11.200000  \n",
       "6   8.000000  \n",
       "2   7.000000  \n",
       "1   2.000000  \n",
       "5   1.333333  \n",
       "3   1.125000  \n",
       "4   1.000000  "
      ]
     },
     "execution_count": 26,
     "metadata": {},
     "output_type": "execute_result"
    }
   ],
   "source": [
    "pd.set_option('display.max_colwidth', None)\n",
    "hypothesis['ICE'] = hypothesis['Impact'] * hypothesis['Confidence'] / hypothesis['Effort']\n",
    "hypothesis[['Hypothesis','ICE']].sort_values(by = 'ICE', ascending = False)"
   ]
  },
  {
   "cell_type": "markdown",
   "id": "991b4418",
   "metadata": {},
   "source": [
    "Now let's check with the RICE method:"
   ]
  },
  {
   "cell_type": "code",
   "execution_count": 27,
   "id": "4591f4a1",
   "metadata": {},
   "outputs": [
    {
     "data": {
      "text/html": [
       "<div>\n",
       "<style scoped>\n",
       "    .dataframe tbody tr th:only-of-type {\n",
       "        vertical-align: middle;\n",
       "    }\n",
       "\n",
       "    .dataframe tbody tr th {\n",
       "        vertical-align: top;\n",
       "    }\n",
       "\n",
       "    .dataframe thead th {\n",
       "        text-align: right;\n",
       "    }\n",
       "</style>\n",
       "<table border=\"1\" class=\"dataframe\">\n",
       "  <thead>\n",
       "    <tr style=\"text-align: right;\">\n",
       "      <th></th>\n",
       "      <th>Hypothesis</th>\n",
       "      <th>RICE</th>\n",
       "    </tr>\n",
       "  </thead>\n",
       "  <tbody>\n",
       "    <tr>\n",
       "      <th>7</th>\n",
       "      <td>Add a subscription form to all the main pages. This will help you compile a mailing list</td>\n",
       "      <td>112.0</td>\n",
       "    </tr>\n",
       "    <tr>\n",
       "      <th>2</th>\n",
       "      <td>Add product recommendation blocks to the store's site. This will increase conversion and average purchase size</td>\n",
       "      <td>56.0</td>\n",
       "    </tr>\n",
       "    <tr>\n",
       "      <th>0</th>\n",
       "      <td>Add two new channels for attracting traffic. This will bring 30% more users</td>\n",
       "      <td>40.0</td>\n",
       "    </tr>\n",
       "    <tr>\n",
       "      <th>6</th>\n",
       "      <td>Show banners with current offers and sales on the main page. This will boost conversion</td>\n",
       "      <td>40.0</td>\n",
       "    </tr>\n",
       "    <tr>\n",
       "      <th>8</th>\n",
       "      <td>Launch a promotion that gives users discounts on their birthdays</td>\n",
       "      <td>16.2</td>\n",
       "    </tr>\n",
       "    <tr>\n",
       "      <th>3</th>\n",
       "      <td>Change the category structure. This will increase conversion since users will find the products they want more quickly</td>\n",
       "      <td>9.0</td>\n",
       "    </tr>\n",
       "    <tr>\n",
       "      <th>1</th>\n",
       "      <td>Launch your own delivery service. This will shorten delivery time</td>\n",
       "      <td>4.0</td>\n",
       "    </tr>\n",
       "    <tr>\n",
       "      <th>5</th>\n",
       "      <td>Add a customer review page. This will increase the number of orders</td>\n",
       "      <td>4.0</td>\n",
       "    </tr>\n",
       "    <tr>\n",
       "      <th>4</th>\n",
       "      <td>Change the background color on the main page. This will increase user engagement</td>\n",
       "      <td>3.0</td>\n",
       "    </tr>\n",
       "  </tbody>\n",
       "</table>\n",
       "</div>"
      ],
      "text/plain": [
       "                                                                                                               Hypothesis  \\\n",
       "7                                Add a subscription form to all the main pages. This will help you compile a mailing list   \n",
       "2          Add product recommendation blocks to the store's site. This will increase conversion and average purchase size   \n",
       "0                                             Add two new channels for attracting traffic. This will bring 30% more users   \n",
       "6                                 Show banners with current offers and sales on the main page. This will boost conversion   \n",
       "8                                                        Launch a promotion that gives users discounts on their birthdays   \n",
       "3  Change the category structure. This will increase conversion since users will find the products they want more quickly   \n",
       "1                                                       Launch your own delivery service. This will shorten delivery time   \n",
       "5                                                     Add a customer review page. This will increase the number of orders   \n",
       "4                                        Change the background color on the main page. This will increase user engagement   \n",
       "\n",
       "    RICE  \n",
       "7  112.0  \n",
       "2   56.0  \n",
       "0   40.0  \n",
       "6   40.0  \n",
       "8   16.2  \n",
       "3    9.0  \n",
       "1    4.0  \n",
       "5    4.0  \n",
       "4    3.0  "
      ]
     },
     "execution_count": 27,
     "metadata": {},
     "output_type": "execute_result"
    }
   ],
   "source": [
    "hypothesis['RICE'] = hypothesis['Impact'] * hypothesis['Confidence'] * hypothesis['Reach'] / hypothesis['Effort']\n",
    "hypothesis[['Hypothesis','RICE']].sort_values(by = 'RICE', ascending = False)"
   ]
  },
  {
   "cell_type": "markdown",
   "id": "61cfa8f3",
   "metadata": {},
   "source": [
    "We see there is a significant differnce between the two methods. This is because RICE takes into account the amount of users that will be affected by the change, while ICE dosen't. RICE will be more accurate in terms of income, because it takes into account more parameters. "
   ]
  },
  {
   "cell_type": "markdown",
   "id": "f34c6a56",
   "metadata": {},
   "source": [
    "# Conclusion:"
   ]
  },
  {
   "cell_type": "markdown",
   "id": "1bd36fb1",
   "metadata": {},
   "source": [
    "In my analysis I discovered that if we calculate the ICE score of our hypotheses, we should test hypothesis 8. However, If we calculate the RICE score, we should test hypothesis 7.\n",
    "\n",
    "I can reccomend the following:\n",
    "\n",
    "If we are trying to generaly improve our website and attract new audiences, we should try hypothesis 8. However, If we want to boost revenue from our existing customer base we should test hypothesis 7."
   ]
  },
  {
   "cell_type": "markdown",
   "id": "96707a42",
   "metadata": {},
   "source": [
    "# Part 2: A/B Test Analysis"
   ]
  },
  {
   "cell_type": "markdown",
   "id": "905c1691",
   "metadata": {},
   "source": [
    "### Cumulative revenue by group"
   ]
  },
  {
   "cell_type": "markdown",
   "id": "7e486e7e",
   "metadata": {},
   "source": [
    "Creating a table for comparison:"
   ]
  },
  {
   "cell_type": "code",
   "execution_count": 28,
   "id": "42247ae7",
   "metadata": {},
   "outputs": [
    {
     "data": {
      "text/html": [
       "<div>\n",
       "<style scoped>\n",
       "    .dataframe tbody tr th:only-of-type {\n",
       "        vertical-align: middle;\n",
       "    }\n",
       "\n",
       "    .dataframe tbody tr th {\n",
       "        vertical-align: top;\n",
       "    }\n",
       "\n",
       "    .dataframe thead th {\n",
       "        text-align: right;\n",
       "    }\n",
       "</style>\n",
       "<table border=\"1\" class=\"dataframe\">\n",
       "  <thead>\n",
       "    <tr style=\"text-align: right;\">\n",
       "      <th></th>\n",
       "      <th>date</th>\n",
       "      <th>group</th>\n",
       "    </tr>\n",
       "  </thead>\n",
       "  <tbody>\n",
       "    <tr>\n",
       "      <th>0</th>\n",
       "      <td>2019-08-15</td>\n",
       "      <td>B</td>\n",
       "    </tr>\n",
       "    <tr>\n",
       "      <th>6</th>\n",
       "      <td>2019-08-15</td>\n",
       "      <td>A</td>\n",
       "    </tr>\n",
       "    <tr>\n",
       "      <th>40</th>\n",
       "      <td>2019-08-16</td>\n",
       "      <td>A</td>\n",
       "    </tr>\n",
       "    <tr>\n",
       "      <th>42</th>\n",
       "      <td>2019-08-16</td>\n",
       "      <td>B</td>\n",
       "    </tr>\n",
       "    <tr>\n",
       "      <th>50</th>\n",
       "      <td>2019-08-01</td>\n",
       "      <td>A</td>\n",
       "    </tr>\n",
       "    <tr>\n",
       "      <th>...</th>\n",
       "      <td>...</td>\n",
       "      <td>...</td>\n",
       "    </tr>\n",
       "    <tr>\n",
       "      <th>991</th>\n",
       "      <td>2019-08-12</td>\n",
       "      <td>A</td>\n",
       "    </tr>\n",
       "    <tr>\n",
       "      <th>1032</th>\n",
       "      <td>2019-08-13</td>\n",
       "      <td>B</td>\n",
       "    </tr>\n",
       "    <tr>\n",
       "      <th>1034</th>\n",
       "      <td>2019-08-13</td>\n",
       "      <td>A</td>\n",
       "    </tr>\n",
       "    <tr>\n",
       "      <th>1067</th>\n",
       "      <td>2019-08-14</td>\n",
       "      <td>B</td>\n",
       "    </tr>\n",
       "    <tr>\n",
       "      <th>1068</th>\n",
       "      <td>2019-08-14</td>\n",
       "      <td>A</td>\n",
       "    </tr>\n",
       "  </tbody>\n",
       "</table>\n",
       "<p>62 rows × 2 columns</p>\n",
       "</div>"
      ],
      "text/plain": [
       "           date group\n",
       "0    2019-08-15     B\n",
       "6    2019-08-15     A\n",
       "40   2019-08-16     A\n",
       "42   2019-08-16     B\n",
       "50   2019-08-01     A\n",
       "...         ...   ...\n",
       "991  2019-08-12     A\n",
       "1032 2019-08-13     B\n",
       "1034 2019-08-13     A\n",
       "1067 2019-08-14     B\n",
       "1068 2019-08-14     A\n",
       "\n",
       "[62 rows x 2 columns]"
      ]
     },
     "execution_count": 28,
     "metadata": {},
     "output_type": "execute_result"
    }
   ],
   "source": [
    "Datesgroups = orders[['date','group']].drop_duplicates()\n",
    "Datesgroups"
   ]
  },
  {
   "cell_type": "markdown",
   "id": "025e5b8d",
   "metadata": {},
   "source": [
    "Calculating cumulative revenue:"
   ]
  },
  {
   "cell_type": "code",
   "execution_count": 29,
   "id": "2053a49f",
   "metadata": {},
   "outputs": [],
   "source": [
    "CumulativeRevenue = (\n",
    "    Datesgroups.apply(lambda x: orders[np.logical_and(orders['date'] <= x['date'], orders['group'] == x['group'])]\n",
    "    .agg({'date': 'max', 'group': 'max', 'transactionId': pd.Series.nunique, 'visitorId': pd.Series.nunique, 'revenue': 'sum'}), axis=1)\n",
    ".sort_values(by = ['date','group'])\n",
    ")"
   ]
  },
  {
   "cell_type": "markdown",
   "id": "18f8f50e",
   "metadata": {},
   "source": [
    "Plotting graphs:"
   ]
  },
  {
   "cell_type": "code",
   "execution_count": 30,
   "id": "d38445f5",
   "metadata": {},
   "outputs": [
    {
     "data": {
      "image/png": "[encoded data removed]",
      "text/plain": [
       "<Figure size 432x288 with 1 Axes>"
      ]
     },
     "metadata": {
      "needs_background": "light"
     },
     "output_type": "display_data"
    }
   ],
   "source": [
    "cumulativeRevenueA = CumulativeRevenue[CumulativeRevenue['group'] == 'A'][['date','revenue','transactionId']]\n",
    "cumulativeRevenueB = CumulativeRevenue[CumulativeRevenue['group'] == 'B'][['date','revenue', 'transactionId']]\n",
    "plt.plot(cumulativeRevenueA['date'], cumulativeRevenueA['revenue'], label = 'A')\n",
    "plt.plot(cumulativeRevenueB['date'], cumulativeRevenueB['revenue'], label = 'B')\n",
    "plt.legend()\n",
    "plt.title(\"Cumulative revenue per group by date\")\n",
    "plt.ylabel(\"Cumulative revenue\")\n",
    "plt.xlabel(\"Date\");"
   ]
  },
  {
   "cell_type": "markdown",
   "id": "0d598d79",
   "metadata": {},
   "source": [
    "We can see that group A's revenue is steadily going up. This is a good sign. Group B, on the other hand, has a spike in the revenue graph, which means that there probably are outliners there we need to eliminate."
   ]
  },
  {
   "cell_type": "markdown",
   "id": "d6178f4a",
   "metadata": {},
   "source": [
    "### Cumulative average order size by group"
   ]
  },
  {
   "cell_type": "markdown",
   "id": "019f58f8",
   "metadata": {},
   "source": [
    "Plotting graphs:"
   ]
  },
  {
   "cell_type": "code",
   "execution_count": 31,
   "id": "bdb1e97e",
   "metadata": {},
   "outputs": [
    {
     "data": {
      "image/png": "[encoded data removed]",
      "text/plain": [
       "<Figure size 432x288 with 1 Axes>"
      ]
     },
     "metadata": {
      "needs_background": "light"
     },
     "output_type": "display_data"
    }
   ],
   "source": [
    "plt.plot(cumulativeRevenueA['date'], cumulativeRevenueA['revenue']/cumulativeRevenueA['transactionId'], label='A')\n",
    "plt.plot(cumulativeRevenueB['date'], cumulativeRevenueB['revenue']/cumulativeRevenueB['transactionId'], label='B')\n",
    "plt.legend() \n",
    "plt.title(\"Cumulative average order size per group by date\")\n",
    "plt.ylabel(\"Cumulative average order size\")\n",
    "plt.xlabel(\"Date\");"
   ]
  },
  {
   "cell_type": "markdown",
   "id": "4290c64f",
   "metadata": {},
   "source": [
    "We can see that in both cases, the average order size steadies towards the end of the test. But we still need more data on both groups: We see that group A has a low average at the begining, and group B has a huge spike in the average order."
   ]
  },
  {
   "cell_type": "markdown",
   "id": "63a4d4d7",
   "metadata": {},
   "source": [
    "###  Relative difference in cumulative average order size for group B compared with group A"
   ]
  },
  {
   "cell_type": "code",
   "execution_count": 32,
   "id": "f5020e9b",
   "metadata": {},
   "outputs": [
    {
     "data": {
      "image/png": "[encoded data removed]",
      "text/plain": [
       "<Figure size 432x288 with 1 Axes>"
      ]
     },
     "metadata": {
      "needs_background": "light"
     },
     "output_type": "display_data"
    }
   ],
   "source": [
    "mergedCumulativeRevenue = pd.merge(cumulativeRevenueA,cumulativeRevenueB,left_on = 'date', right_on = 'date', how = 'left', suffixes = ['A','B'])\n",
    "plt.plot(mergedCumulativeRevenue['date'], (mergedCumulativeRevenue['revenueB'] / mergedCumulativeRevenue['transactionIdB']) / (mergedCumulativeRevenue['revenueA'] / mergedCumulativeRevenue['transactionIdA']) -1)\n",
    "plt.axhline(y = 0,color = 'black', linestyle = '--')\n",
    "plt.title(\"Relative difference of average order size between groups\")\n",
    "plt.xlabel(\"Date\")\n",
    "plt.ylabel(\"Relative differnce\");"
   ]
  },
  {
   "cell_type": "markdown",
   "id": "dbcd2bcc",
   "metadata": {},
   "source": [
    "We can see several peaks and changes. This means there probably are significant outliners that we need to eliminate before we draw conclusions."
   ]
  },
  {
   "cell_type": "markdown",
   "id": "e45cb807",
   "metadata": {},
   "source": [
    "# Daily conversion rate"
   ]
  },
  {
   "cell_type": "markdown",
   "id": "c6891562",
   "metadata": {},
   "source": [
    "Now lets find how many orders occured on each day for each group:"
   ]
  },
  {
   "cell_type": "code",
   "execution_count": 33,
   "id": "21f9947b",
   "metadata": {},
   "outputs": [
    {
     "data": {
      "text/html": [
       "<div>\n",
       "<style scoped>\n",
       "    .dataframe tbody tr th:only-of-type {\n",
       "        vertical-align: middle;\n",
       "    }\n",
       "\n",
       "    .dataframe tbody tr th {\n",
       "        vertical-align: top;\n",
       "    }\n",
       "\n",
       "    .dataframe thead th {\n",
       "        text-align: right;\n",
       "    }\n",
       "</style>\n",
       "<table border=\"1\" class=\"dataframe\">\n",
       "  <thead>\n",
       "    <tr style=\"text-align: right;\">\n",
       "      <th></th>\n",
       "      <th>date</th>\n",
       "      <th>group</th>\n",
       "      <th>number_of_orders</th>\n",
       "    </tr>\n",
       "  </thead>\n",
       "  <tbody>\n",
       "    <tr>\n",
       "      <th>0</th>\n",
       "      <td>2019-08-01</td>\n",
       "      <td>A</td>\n",
       "      <td>23</td>\n",
       "    </tr>\n",
       "    <tr>\n",
       "      <th>1</th>\n",
       "      <td>2019-08-01</td>\n",
       "      <td>B</td>\n",
       "      <td>21</td>\n",
       "    </tr>\n",
       "    <tr>\n",
       "      <th>2</th>\n",
       "      <td>2019-08-02</td>\n",
       "      <td>A</td>\n",
       "      <td>19</td>\n",
       "    </tr>\n",
       "    <tr>\n",
       "      <th>3</th>\n",
       "      <td>2019-08-02</td>\n",
       "      <td>B</td>\n",
       "      <td>24</td>\n",
       "    </tr>\n",
       "    <tr>\n",
       "      <th>4</th>\n",
       "      <td>2019-08-03</td>\n",
       "      <td>A</td>\n",
       "      <td>24</td>\n",
       "    </tr>\n",
       "    <tr>\n",
       "      <th>...</th>\n",
       "      <td>...</td>\n",
       "      <td>...</td>\n",
       "      <td>...</td>\n",
       "    </tr>\n",
       "    <tr>\n",
       "      <th>57</th>\n",
       "      <td>2019-08-29</td>\n",
       "      <td>B</td>\n",
       "      <td>20</td>\n",
       "    </tr>\n",
       "    <tr>\n",
       "      <th>58</th>\n",
       "      <td>2019-08-30</td>\n",
       "      <td>A</td>\n",
       "      <td>9</td>\n",
       "    </tr>\n",
       "    <tr>\n",
       "      <th>59</th>\n",
       "      <td>2019-08-30</td>\n",
       "      <td>B</td>\n",
       "      <td>24</td>\n",
       "    </tr>\n",
       "    <tr>\n",
       "      <th>60</th>\n",
       "      <td>2019-08-31</td>\n",
       "      <td>A</td>\n",
       "      <td>8</td>\n",
       "    </tr>\n",
       "    <tr>\n",
       "      <th>61</th>\n",
       "      <td>2019-08-31</td>\n",
       "      <td>B</td>\n",
       "      <td>20</td>\n",
       "    </tr>\n",
       "  </tbody>\n",
       "</table>\n",
       "<p>62 rows × 3 columns</p>\n",
       "</div>"
      ],
      "text/plain": [
       "         date group  number_of_orders\n",
       "0  2019-08-01     A                23\n",
       "1  2019-08-01     B                21\n",
       "2  2019-08-02     A                19\n",
       "3  2019-08-02     B                24\n",
       "4  2019-08-03     A                24\n",
       "..        ...   ...               ...\n",
       "57 2019-08-29     B                20\n",
       "58 2019-08-30     A                 9\n",
       "59 2019-08-30     B                24\n",
       "60 2019-08-31     A                 8\n",
       "61 2019-08-31     B                20\n",
       "\n",
       "[62 rows x 3 columns]"
      ]
     },
     "execution_count": 33,
     "metadata": {},
     "output_type": "execute_result"
    }
   ],
   "source": [
    "converted = orders.groupby(['date','group']).agg({'transactionId': 'count'}).reset_index()\n",
    "converted.columns = ['date','group','number_of_orders']\n",
    "converted"
   ]
  },
  {
   "cell_type": "markdown",
   "id": "38ad4435",
   "metadata": {},
   "source": [
    "Let's merge the visits table:"
   ]
  },
  {
   "cell_type": "code",
   "execution_count": 34,
   "id": "390f08c6",
   "metadata": {},
   "outputs": [
    {
     "data": {
      "text/html": [
       "<div>\n",
       "<style scoped>\n",
       "    .dataframe tbody tr th:only-of-type {\n",
       "        vertical-align: middle;\n",
       "    }\n",
       "\n",
       "    .dataframe tbody tr th {\n",
       "        vertical-align: top;\n",
       "    }\n",
       "\n",
       "    .dataframe thead th {\n",
       "        text-align: right;\n",
       "    }\n",
       "</style>\n",
       "<table border=\"1\" class=\"dataframe\">\n",
       "  <thead>\n",
       "    <tr style=\"text-align: right;\">\n",
       "      <th></th>\n",
       "      <th>date</th>\n",
       "      <th>group</th>\n",
       "      <th>number_of_orders</th>\n",
       "      <th>visits</th>\n",
       "    </tr>\n",
       "  </thead>\n",
       "  <tbody>\n",
       "    <tr>\n",
       "      <th>0</th>\n",
       "      <td>2019-08-01</td>\n",
       "      <td>A</td>\n",
       "      <td>23</td>\n",
       "      <td>719</td>\n",
       "    </tr>\n",
       "    <tr>\n",
       "      <th>1</th>\n",
       "      <td>2019-08-01</td>\n",
       "      <td>B</td>\n",
       "      <td>21</td>\n",
       "      <td>713</td>\n",
       "    </tr>\n",
       "    <tr>\n",
       "      <th>2</th>\n",
       "      <td>2019-08-02</td>\n",
       "      <td>A</td>\n",
       "      <td>19</td>\n",
       "      <td>619</td>\n",
       "    </tr>\n",
       "    <tr>\n",
       "      <th>3</th>\n",
       "      <td>2019-08-02</td>\n",
       "      <td>B</td>\n",
       "      <td>24</td>\n",
       "      <td>581</td>\n",
       "    </tr>\n",
       "    <tr>\n",
       "      <th>4</th>\n",
       "      <td>2019-08-03</td>\n",
       "      <td>A</td>\n",
       "      <td>24</td>\n",
       "      <td>507</td>\n",
       "    </tr>\n",
       "    <tr>\n",
       "      <th>...</th>\n",
       "      <td>...</td>\n",
       "      <td>...</td>\n",
       "      <td>...</td>\n",
       "      <td>...</td>\n",
       "    </tr>\n",
       "    <tr>\n",
       "      <th>57</th>\n",
       "      <td>2019-08-29</td>\n",
       "      <td>B</td>\n",
       "      <td>20</td>\n",
       "      <td>531</td>\n",
       "    </tr>\n",
       "    <tr>\n",
       "      <th>58</th>\n",
       "      <td>2019-08-30</td>\n",
       "      <td>A</td>\n",
       "      <td>9</td>\n",
       "      <td>490</td>\n",
       "    </tr>\n",
       "    <tr>\n",
       "      <th>59</th>\n",
       "      <td>2019-08-30</td>\n",
       "      <td>B</td>\n",
       "      <td>24</td>\n",
       "      <td>490</td>\n",
       "    </tr>\n",
       "    <tr>\n",
       "      <th>60</th>\n",
       "      <td>2019-08-31</td>\n",
       "      <td>A</td>\n",
       "      <td>8</td>\n",
       "      <td>699</td>\n",
       "    </tr>\n",
       "    <tr>\n",
       "      <th>61</th>\n",
       "      <td>2019-08-31</td>\n",
       "      <td>B</td>\n",
       "      <td>20</td>\n",
       "      <td>718</td>\n",
       "    </tr>\n",
       "  </tbody>\n",
       "</table>\n",
       "<p>62 rows × 4 columns</p>\n",
       "</div>"
      ],
      "text/plain": [
       "         date group  number_of_orders  visits\n",
       "0  2019-08-01     A                23     719\n",
       "1  2019-08-01     B                21     713\n",
       "2  2019-08-02     A                19     619\n",
       "3  2019-08-02     B                24     581\n",
       "4  2019-08-03     A                24     507\n",
       "..        ...   ...               ...     ...\n",
       "57 2019-08-29     B                20     531\n",
       "58 2019-08-30     A                 9     490\n",
       "59 2019-08-30     B                24     490\n",
       "60 2019-08-31     A                 8     699\n",
       "61 2019-08-31     B                20     718\n",
       "\n",
       "[62 rows x 4 columns]"
      ]
     },
     "execution_count": 34,
     "metadata": {},
     "output_type": "execute_result"
    }
   ],
   "source": [
    "converted = pd.merge(converted,visits, left_on = ['date','group'], right_on = ['date','group'])\n",
    "converted"
   ]
  },
  {
   "cell_type": "markdown",
   "id": "e2bf4d82",
   "metadata": {},
   "source": [
    "Now let's calculate conversion:"
   ]
  },
  {
   "cell_type": "code",
   "execution_count": 35,
   "id": "dee39d01",
   "metadata": {},
   "outputs": [
    {
     "data": {
      "image/png": "[encoded data removed]",
      "text/plain": [
       "<Figure size 432x288 with 1 Axes>"
      ]
     },
     "metadata": {
      "needs_background": "light"
     },
     "output_type": "display_data"
    }
   ],
   "source": [
    "converted['conversion'] = converted['number_of_orders'] / converted['visits']\n",
    "convertedA = converted[converted['group'] == 'A'][['date','conversion']]\n",
    "convertedB = converted[converted['group'] == 'B'][['date','conversion']]\n",
    "plt.plot(convertedA['date'], convertedA['conversion'], label = 'A')\n",
    "plt.plot(convertedB['date'], convertedB['conversion'], label = 'B')\n",
    "plt.legend()\n",
    "plt.title(\"Conversion rate per group\")\n",
    "plt.xlabel(\"Date\")\n",
    "plt.ylabel(\"Conversion Rate\")\n",
    "plt.grid();"
   ]
  },
  {
   "cell_type": "markdown",
   "id": "a271969c",
   "metadata": {},
   "source": [
    "We can see in general, group B has a better conversion rate than group A. We can see there are lot's of spikes in the data, So let's calculate cumulative conversion:"
   ]
  },
  {
   "cell_type": "code",
   "execution_count": 36,
   "id": "46abbf9d",
   "metadata": {},
   "outputs": [
    {
     "data": {
      "text/html": [
       "<div>\n",
       "<style scoped>\n",
       "    .dataframe tbody tr th:only-of-type {\n",
       "        vertical-align: middle;\n",
       "    }\n",
       "\n",
       "    .dataframe tbody tr th {\n",
       "        vertical-align: top;\n",
       "    }\n",
       "\n",
       "    .dataframe thead th {\n",
       "        text-align: right;\n",
       "    }\n",
       "</style>\n",
       "<table border=\"1\" class=\"dataframe\">\n",
       "  <thead>\n",
       "    <tr style=\"text-align: right;\">\n",
       "      <th></th>\n",
       "      <th>date</th>\n",
       "      <th>group</th>\n",
       "      <th>visits</th>\n",
       "    </tr>\n",
       "  </thead>\n",
       "  <tbody>\n",
       "    <tr>\n",
       "      <th>50</th>\n",
       "      <td>2019-08-01</td>\n",
       "      <td>A</td>\n",
       "      <td>719</td>\n",
       "    </tr>\n",
       "    <tr>\n",
       "      <th>61</th>\n",
       "      <td>2019-08-01</td>\n",
       "      <td>B</td>\n",
       "      <td>713</td>\n",
       "    </tr>\n",
       "    <tr>\n",
       "      <th>163</th>\n",
       "      <td>2019-08-02</td>\n",
       "      <td>A</td>\n",
       "      <td>1338</td>\n",
       "    </tr>\n",
       "    <tr>\n",
       "      <th>161</th>\n",
       "      <td>2019-08-02</td>\n",
       "      <td>B</td>\n",
       "      <td>1294</td>\n",
       "    </tr>\n",
       "    <tr>\n",
       "      <th>265</th>\n",
       "      <td>2019-08-03</td>\n",
       "      <td>A</td>\n",
       "      <td>1845</td>\n",
       "    </tr>\n",
       "    <tr>\n",
       "      <th>...</th>\n",
       "      <td>...</td>\n",
       "      <td>...</td>\n",
       "      <td>...</td>\n",
       "    </tr>\n",
       "    <tr>\n",
       "      <th>461</th>\n",
       "      <td>2019-08-29</td>\n",
       "      <td>B</td>\n",
       "      <td>17708</td>\n",
       "    </tr>\n",
       "    <tr>\n",
       "      <th>700</th>\n",
       "      <td>2019-08-30</td>\n",
       "      <td>A</td>\n",
       "      <td>18037</td>\n",
       "    </tr>\n",
       "    <tr>\n",
       "      <th>639</th>\n",
       "      <td>2019-08-30</td>\n",
       "      <td>B</td>\n",
       "      <td>18198</td>\n",
       "    </tr>\n",
       "    <tr>\n",
       "      <th>890</th>\n",
       "      <td>2019-08-31</td>\n",
       "      <td>A</td>\n",
       "      <td>18736</td>\n",
       "    </tr>\n",
       "    <tr>\n",
       "      <th>862</th>\n",
       "      <td>2019-08-31</td>\n",
       "      <td>B</td>\n",
       "      <td>18916</td>\n",
       "    </tr>\n",
       "  </tbody>\n",
       "</table>\n",
       "<p>62 rows × 3 columns</p>\n",
       "</div>"
      ],
      "text/plain": [
       "          date group  visits\n",
       "50  2019-08-01     A     719\n",
       "61  2019-08-01     B     713\n",
       "163 2019-08-02     A    1338\n",
       "161 2019-08-02     B    1294\n",
       "265 2019-08-03     A    1845\n",
       "..         ...   ...     ...\n",
       "461 2019-08-29     B   17708\n",
       "700 2019-08-30     A   18037\n",
       "639 2019-08-30     B   18198\n",
       "890 2019-08-31     A   18736\n",
       "862 2019-08-31     B   18916\n",
       "\n",
       "[62 rows x 3 columns]"
      ]
     },
     "execution_count": 36,
     "metadata": {},
     "output_type": "execute_result"
    }
   ],
   "source": [
    "cumulatedVisits = (\n",
    "    Datesgroups.apply(lambda x: visits[np.logical_and(visits['date'] <= x['date'], visits['group'] == x['group'])]\n",
    "    .agg({'date': 'max', 'group': 'max', 'visits': 'sum'}), axis=1)\n",
    ".sort_values(by = ['date','group'])\n",
    ")\n",
    "cumulatedVisits"
   ]
  },
  {
   "cell_type": "code",
   "execution_count": 37,
   "id": "c7ac4aa8",
   "metadata": {},
   "outputs": [
    {
     "data": {
      "text/html": [
       "<div>\n",
       "<style scoped>\n",
       "    .dataframe tbody tr th:only-of-type {\n",
       "        vertical-align: middle;\n",
       "    }\n",
       "\n",
       "    .dataframe tbody tr th {\n",
       "        vertical-align: top;\n",
       "    }\n",
       "\n",
       "    .dataframe thead th {\n",
       "        text-align: right;\n",
       "    }\n",
       "</style>\n",
       "<table border=\"1\" class=\"dataframe\">\n",
       "  <thead>\n",
       "    <tr style=\"text-align: right;\">\n",
       "      <th></th>\n",
       "      <th>date</th>\n",
       "      <th>group</th>\n",
       "      <th>transactionId</th>\n",
       "      <th>visitorId</th>\n",
       "      <th>revenue</th>\n",
       "      <th>visits</th>\n",
       "    </tr>\n",
       "  </thead>\n",
       "  <tbody>\n",
       "    <tr>\n",
       "      <th>0</th>\n",
       "      <td>2019-08-01</td>\n",
       "      <td>A</td>\n",
       "      <td>23</td>\n",
       "      <td>19</td>\n",
       "      <td>2266.6</td>\n",
       "      <td>719</td>\n",
       "    </tr>\n",
       "    <tr>\n",
       "      <th>1</th>\n",
       "      <td>2019-08-01</td>\n",
       "      <td>B</td>\n",
       "      <td>21</td>\n",
       "      <td>20</td>\n",
       "      <td>1620.0</td>\n",
       "      <td>713</td>\n",
       "    </tr>\n",
       "    <tr>\n",
       "      <th>2</th>\n",
       "      <td>2019-08-02</td>\n",
       "      <td>A</td>\n",
       "      <td>42</td>\n",
       "      <td>36</td>\n",
       "      <td>3734.9</td>\n",
       "      <td>1338</td>\n",
       "    </tr>\n",
       "    <tr>\n",
       "      <th>3</th>\n",
       "      <td>2019-08-02</td>\n",
       "      <td>B</td>\n",
       "      <td>45</td>\n",
       "      <td>43</td>\n",
       "      <td>4243.8</td>\n",
       "      <td>1294</td>\n",
       "    </tr>\n",
       "    <tr>\n",
       "      <th>4</th>\n",
       "      <td>2019-08-03</td>\n",
       "      <td>A</td>\n",
       "      <td>66</td>\n",
       "      <td>60</td>\n",
       "      <td>5550.1</td>\n",
       "      <td>1845</td>\n",
       "    </tr>\n",
       "    <tr>\n",
       "      <th>...</th>\n",
       "      <td>...</td>\n",
       "      <td>...</td>\n",
       "      <td>...</td>\n",
       "      <td>...</td>\n",
       "      <td>...</td>\n",
       "      <td>...</td>\n",
       "    </tr>\n",
       "    <tr>\n",
       "      <th>57</th>\n",
       "      <td>2019-08-29</td>\n",
       "      <td>B</td>\n",
       "      <td>596</td>\n",
       "      <td>544</td>\n",
       "      <td>87343.0</td>\n",
       "      <td>17708</td>\n",
       "    </tr>\n",
       "    <tr>\n",
       "      <th>58</th>\n",
       "      <td>2019-08-30</td>\n",
       "      <td>A</td>\n",
       "      <td>460</td>\n",
       "      <td>437</td>\n",
       "      <td>52363.7</td>\n",
       "      <td>18037</td>\n",
       "    </tr>\n",
       "    <tr>\n",
       "      <th>59</th>\n",
       "      <td>2019-08-30</td>\n",
       "      <td>B</td>\n",
       "      <td>620</td>\n",
       "      <td>567</td>\n",
       "      <td>90736.3</td>\n",
       "      <td>18198</td>\n",
       "    </tr>\n",
       "    <tr>\n",
       "      <th>60</th>\n",
       "      <td>2019-08-31</td>\n",
       "      <td>A</td>\n",
       "      <td>468</td>\n",
       "      <td>445</td>\n",
       "      <td>53212.0</td>\n",
       "      <td>18736</td>\n",
       "    </tr>\n",
       "    <tr>\n",
       "      <th>61</th>\n",
       "      <td>2019-08-31</td>\n",
       "      <td>B</td>\n",
       "      <td>640</td>\n",
       "      <td>586</td>\n",
       "      <td>92840.6</td>\n",
       "      <td>18916</td>\n",
       "    </tr>\n",
       "  </tbody>\n",
       "</table>\n",
       "<p>62 rows × 6 columns</p>\n",
       "</div>"
      ],
      "text/plain": [
       "         date group  transactionId  visitorId  revenue  visits\n",
       "0  2019-08-01     A             23         19   2266.6     719\n",
       "1  2019-08-01     B             21         20   1620.0     713\n",
       "2  2019-08-02     A             42         36   3734.9    1338\n",
       "3  2019-08-02     B             45         43   4243.8    1294\n",
       "4  2019-08-03     A             66         60   5550.1    1845\n",
       "..        ...   ...            ...        ...      ...     ...\n",
       "57 2019-08-29     B            596        544  87343.0   17708\n",
       "58 2019-08-30     A            460        437  52363.7   18037\n",
       "59 2019-08-30     B            620        567  90736.3   18198\n",
       "60 2019-08-31     A            468        445  53212.0   18736\n",
       "61 2019-08-31     B            640        586  92840.6   18916\n",
       "\n",
       "[62 rows x 6 columns]"
      ]
     },
     "execution_count": 37,
     "metadata": {},
     "output_type": "execute_result"
    }
   ],
   "source": [
    "cumulatedData = pd.merge(CumulativeRevenue,cumulatedVisits, right_on = ['date','group'], left_on = ['date','group'])\n",
    "cumulatedData"
   ]
  },
  {
   "cell_type": "code",
   "execution_count": 38,
   "id": "0301bbf9",
   "metadata": {},
   "outputs": [
    {
     "data": {
      "image/png": "[encoded data removed]",
      "text/plain": [
       "<Figure size 432x288 with 1 Axes>"
      ]
     },
     "metadata": {
      "needs_background": "light"
     },
     "output_type": "display_data"
    }
   ],
   "source": [
    "cumulatedData['conversion'] = cumulatedData['visitorId'] / cumulatedData['visits']\n",
    "cumulatedConversionA = cumulatedData[cumulatedData['group'] == 'A'][['date','conversion']]\n",
    "cumulatedConversionB = cumulatedData[cumulatedData['group'] == 'B'][['date','conversion']]\n",
    "plt.plot(cumulatedConversionA['date'], cumulatedConversionA['conversion'], label = 'A')\n",
    "plt.plot(cumulatedConversionB['date'], cumulatedConversionB['conversion'], label = 'B')\n",
    "plt.legend()\n",
    "plt.title(\"Cumulated conversion rate per group\")\n",
    "plt.xlabel(\"Date\")\n",
    "plt.ylabel(\"Cumulated conversion rate\");"
   ]
  },
  {
   "cell_type": "markdown",
   "id": "376606f7",
   "metadata": {},
   "source": [
    "Here, We can definetly see that group B's average conversion rate is much higher on average than group A."
   ]
  },
  {
   "cell_type": "markdown",
   "id": "09b9348a",
   "metadata": {},
   "source": [
    "### Number of orders per user"
   ]
  },
  {
   "cell_type": "markdown",
   "id": "63aedfee",
   "metadata": {},
   "source": [
    "Let's find the number of orders per user, so we can detect annomalies:"
   ]
  },
  {
   "cell_type": "code",
   "execution_count": 39,
   "id": "4000f717",
   "metadata": {},
   "outputs": [
    {
     "data": {
      "image/png": "[encoded data removed]",
      "text/plain": [
       "<Figure size 432x288 with 1 Axes>"
      ]
     },
     "metadata": {
      "needs_background": "light"
     },
     "output_type": "display_data"
    }
   ],
   "source": [
    "orders_per_user = orders.groupby('visitorId').agg({'transactionId': 'count'}).reset_index()\n",
    "orders_per_user.columns = ['visitorId', 'number_of_orders']\n",
    "x_values = pd.Series(range(0, len(orders_per_user)))\n",
    "plt.scatter(x_values, orders_per_user['number_of_orders'])\n",
    "plt.title(\"Number of orders per user\")\n",
    "plt.ylabel(\"Number of orders\");"
   ]
  },
  {
   "cell_type": "markdown",
   "id": "6869fb5e",
   "metadata": {},
   "source": [
    "We can see that the vast majority of users buy only once. Only a selected few buy more than 2 times."
   ]
  },
  {
   "cell_type": "markdown",
   "id": "e65f2e6b",
   "metadata": {},
   "source": [
    "### Number of orders per user percentiles:"
   ]
  },
  {
   "cell_type": "markdown",
   "id": "1714dc2c",
   "metadata": {},
   "source": [
    "Let's calculate the number of orders per user's 95th and 99th percentiles:"
   ]
  },
  {
   "cell_type": "code",
   "execution_count": 40,
   "id": "942a1674",
   "metadata": {},
   "outputs": [
    {
     "data": {
      "text/plain": [
       "array([1.5, 3. ])"
      ]
     },
     "execution_count": 40,
     "metadata": {},
     "output_type": "execute_result"
    }
   ],
   "source": [
    "np.percentile(orders_per_user['number_of_orders'],[95,99])"
   ]
  },
  {
   "cell_type": "markdown",
   "id": "dfc4c233",
   "metadata": {},
   "source": [
    "We see that 99% bought less than 3 products. Let's define that users who bought over 3 products are annomalies."
   ]
  },
  {
   "cell_type": "markdown",
   "id": "3d1062dc",
   "metadata": {},
   "source": [
    "### Order prices"
   ]
  },
  {
   "cell_type": "markdown",
   "id": "abd6dcd0",
   "metadata": {},
   "source": [
    "Let's check the distribution of order prices:"
   ]
  },
  {
   "cell_type": "code",
   "execution_count": 41,
   "id": "117e2036",
   "metadata": {},
   "outputs": [
    {
     "data": {
      "image/png": "[encoded data removed]",
      "text/plain": [
       "<Figure size 432x288 with 1 Axes>"
      ]
     },
     "metadata": {
      "needs_background": "light"
     },
     "output_type": "display_data"
    }
   ],
   "source": [
    "x_values = pd.Series(range(0,len(orders)))\n",
    "plt.scatter(x_values,orders['revenue'])\n",
    "plt.title(\"Order prices\")\n",
    "plt.ylabel(\"Oredr prices\");"
   ]
  },
  {
   "cell_type": "markdown",
   "id": "0b42bf78",
   "metadata": {},
   "source": [
    "We can see that all our order prices are way bellow 2500, but we have a couple who have had huge orders."
   ]
  },
  {
   "cell_type": "markdown",
   "id": "8c58f908",
   "metadata": {},
   "source": [
    "### Percentiles:"
   ]
  },
  {
   "cell_type": "markdown",
   "id": "bc7c4e37",
   "metadata": {},
   "source": [
    "Let's check the order price's percentiles:"
   ]
  },
  {
   "cell_type": "code",
   "execution_count": 42,
   "id": "e3674b3e",
   "metadata": {},
   "outputs": [
    {
     "data": {
      "text/plain": [
       "array([435.63 , 872.336])"
      ]
     },
     "execution_count": 42,
     "metadata": {},
     "output_type": "execute_result"
    }
   ],
   "source": [
    "np.percentile(orders['revenue'],[95,99])"
   ]
  },
  {
   "cell_type": "markdown",
   "id": "705e393f",
   "metadata": {},
   "source": [
    "We see that 99% of orders were less then 873 dollars. It's safe to say we can define our annomalies at orders above 1000 dollars."
   ]
  },
  {
   "cell_type": "markdown",
   "id": "97b52c1e",
   "metadata": {},
   "source": [
    "### Statistical significance of the difference in conversion rates(raw data):"
   ]
  },
  {
   "cell_type": "markdown",
   "id": "3cef6857",
   "metadata": {},
   "source": [
    "Let's check how our groups statisticlly differ. To do this, we need to create samples:"
   ]
  },
  {
   "cell_type": "code",
   "execution_count": 72,
   "id": "dbfeae99",
   "metadata": {},
   "outputs": [],
   "source": [
    "OrderByuserA = orders[orders['group'] == 'A'].groupby('visitorId', as_index = False).agg({'transactionId': pd.Series.nunique})\n",
    "OrderByuserA.columns = ['visitorId', 'orders']\n",
    "OrderByuserB = orders[orders['group'] == 'B'].groupby('visitorId', as_index = False).agg({'transactionId': pd.Series.nunique})\n",
    "OrderByuserB.columns = ['visitorId', 'orders']"
   ]
  },
  {
   "cell_type": "code",
   "execution_count": 76,
   "id": "03d6c763",
   "metadata": {},
   "outputs": [],
   "source": [
    "SampleA = pd.concat([OrderByuserA['orders'],pd.Series(0, index = np.arange(visits[visits['group'] == 'A']['visits'].sum() - len(OrderByuserA['orders'])),name = 'orders')],axis = 0)\n",
    "SampleB = pd.concat([OrderByuserB['orders'],pd.Series(0, index = np.arange(visits[visits['group'] == 'B']['visits'].sum() - len(OrderByuserA['orders'])),name = 'orders')],axis = 0)"
   ]
  },
  {
   "cell_type": "code",
   "execution_count": 78,
   "id": "b6ea3624",
   "metadata": {},
   "outputs": [
    {
     "data": {
      "text/plain": [
       "0        1\n",
       "1        1\n",
       "2        1\n",
       "3        1\n",
       "4        1\n",
       "        ..\n",
       "18286    0\n",
       "18287    0\n",
       "18288    0\n",
       "18289    0\n",
       "18290    0\n",
       "Name: orders, Length: 18736, dtype: int64"
      ]
     },
     "execution_count": 78,
     "metadata": {},
     "output_type": "execute_result"
    }
   ],
   "source": [
    "SampleA"
   ]
  },
  {
   "cell_type": "code",
   "execution_count": 80,
   "id": "4b9c675e",
   "metadata": {},
   "outputs": [
    {
     "name": "stdout",
     "output_type": "stream",
     "text": [
      "0.0000287\n"
     ]
    }
   ],
   "source": [
    "print('{0:.7f}'.format(stats.mannwhitneyu(SampleA,SampleB)[1]))"
   ]
  },
  {
   "cell_type": "markdown",
   "id": "5c98327a",
   "metadata": {},
   "source": [
    "We see in analysing our raw data that there is a significant difference in conversion rate: Our p value is under 0.05,so we can reject the null hypothesis that the conversion rates are simillar. Let's check the differnce:"
   ]
  },
  {
   "cell_type": "code",
   "execution_count": 83,
   "id": "f89f02f0",
   "metadata": {},
   "outputs": [
    {
     "name": "stdout",
     "output_type": "stream",
     "text": [
      "0.3444866\n"
     ]
    }
   ],
   "source": [
    "print('{0:.7f}'.format(SampleB.mean() / SampleA.mean() - 1))"
   ]
  },
  {
   "cell_type": "markdown",
   "id": "ebb41cd5",
   "metadata": {},
   "source": [
    "We can see that group B's conversion rate is 34% higher than group A's conversion rate. This is a significant differnce. But it might be tampered by annomalies."
   ]
  },
  {
   "cell_type": "markdown",
   "id": "dd0a5be5",
   "metadata": {},
   "source": [
    "### Statistical significance of the difference in average order size(raw data):"
   ]
  },
  {
   "cell_type": "code",
   "execution_count": 87,
   "id": "21e6d433",
   "metadata": {},
   "outputs": [
    {
     "name": "stdout",
     "output_type": "stream",
     "text": [
      "0.736\n"
     ]
    }
   ],
   "source": [
    "print('{0:.3f}'.format(stats.mannwhitneyu(orders[orders['group'] == 'A']['revenue'], orders[orders['group'] == 'B']['revenue'])[1]))"
   ]
  },
  {
   "cell_type": "markdown",
   "id": "96186cb9",
   "metadata": {},
   "source": [
    "The p value here is 0.7. This is higher than 0.05 so we can't reject the null hypothesis that the samples are the same. Let's check the differnce:"
   ]
  },
  {
   "cell_type": "code",
   "execution_count": 86,
   "id": "b47567d2",
   "metadata": {},
   "outputs": [
    {
     "name": "stdout",
     "output_type": "stream",
     "text": [
      "-0.216\n"
     ]
    }
   ],
   "source": [
    "print('{0:.3f}'.format(orders[orders['group'] == 'A']['revenue'].mean() / orders[orders['group'] == 'B']['revenue'].mean() - 1))"
   ]
  },
  {
   "cell_type": "markdown",
   "id": "9f836197",
   "metadata": {},
   "source": [
    "We can see that the average order size for group A is greater by 21%! This also might be tampered by annomalies."
   ]
  },
  {
   "cell_type": "markdown",
   "id": "3022faa0",
   "metadata": {},
   "source": [
    "### Statistical significance of the difference in conversion rates(filtered data):"
   ]
  },
  {
   "cell_type": "markdown",
   "id": "7c5c6bcf",
   "metadata": {},
   "source": [
    "Let's filter the data:"
   ]
  },
  {
   "cell_type": "code",
   "execution_count": 46,
   "id": "045deb12",
   "metadata": {},
   "outputs": [],
   "source": [
    "orders_per_user = orders_per_user.merge(orders[['visitorId','group']], on = 'visitorId', how = 'left')"
   ]
  },
  {
   "cell_type": "code",
   "execution_count": 90,
   "id": "7788179d",
   "metadata": {},
   "outputs": [
    {
     "name": "stdout",
     "output_type": "stream",
     "text": [
      "1018     148427295\n",
      "59       249864742\n",
      "119      457167155\n",
      "156      611059232\n",
      "687      888512513\n",
      "1021    1164614297\n",
      "1054    1307669133\n",
      "394     1920142716\n",
      "509     2038680547\n",
      "1107    2108080724\n",
      "530     2108163459\n",
      "600     2378935119\n",
      "627     2458001652\n",
      "660     2587333274\n",
      "712     2742574263\n",
      "775     2988190573\n",
      "795     3062433592\n",
      "956     3717692402\n",
      "979     3803269165\n",
      "1002    3908431265\n",
      "1028    3967698036\n",
      "686     4133034833\n",
      "1097    4256040402\n",
      "632     4266935830\n",
      "Name: visitorId, dtype: int64\n",
      "(24,)\n"
     ]
    }
   ],
   "source": [
    "ManyOrderUsers = orders_per_user[orders_per_user['number_of_orders'] >= 3]['visitorId']\n",
    "BigOrderUsers = orders[orders['revenue'] > 1000]['visitorId']\n",
    "AbnormalUsers = pd.concat([ManyOrderUsers, BigOrderUsers], axis = 0).drop_duplicates().sort_values()\n",
    "print(AbnormalUsers)\n",
    "print(AbnormalUsers.shape)"
   ]
  },
  {
   "cell_type": "markdown",
   "id": "09f60c7f",
   "metadata": {},
   "source": [
    "We see we have 24 abnormal users. Creating new samples:"
   ]
  },
  {
   "cell_type": "code",
   "execution_count": 88,
   "id": "f97c22eb",
   "metadata": {},
   "outputs": [],
   "source": [
    "FilteredSampleA = pd.concat([OrderByuserA[np.logical_not(OrderByuserA['visitorId'].isin(AbnormalUsers))]['orders'], pd.Series(0, index = np.arange(visits[visits['group'] == 'A']['visits'].sum() - len(OrderByuserA['orders'])),name = 'orders')],axis = 0)\n",
    "FilteredSampleB = pd.concat([OrderByuserB[np.logical_not(OrderByuserB['visitorId'].isin(AbnormalUsers))]['orders'], pd.Series(0, index = np.arange(visits[visits['group'] == 'B']['visits'].sum() - len(OrderByuserB['orders'])),name = 'orders')],axis = 0)"
   ]
  },
  {
   "cell_type": "markdown",
   "id": "4beae17c",
   "metadata": {},
   "source": [
    "Let's check statistical difference:"
   ]
  },
  {
   "cell_type": "code",
   "execution_count": 92,
   "id": "33d8fc4e",
   "metadata": {},
   "outputs": [
    {
     "name": "stdout",
     "output_type": "stream",
     "text": [
      "0.0000307\n"
     ]
    }
   ],
   "source": [
    "print('{0:.7f}'.format(stats.mannwhitneyu(FilteredSampleA,FilteredSampleB)[1]))"
   ]
  },
  {
   "cell_type": "markdown",
   "id": "ab8b97db",
   "metadata": {},
   "source": [
    "We can see that the assumptions from the raw data didn't change: There is a statistical difference between the conversion rates of the two samples. Let's check the difference: "
   ]
  },
  {
   "cell_type": "code",
   "execution_count": 95,
   "id": "da68df77",
   "metadata": {},
   "outputs": [
    {
     "name": "stdout",
     "output_type": "stream",
     "text": [
      "0.3107611\n"
     ]
    }
   ],
   "source": [
    "print('{0:.7f}'.format(FilteredSampleB.mean() / FilteredSampleA.mean() - 1))"
   ]
  },
  {
   "cell_type": "markdown",
   "id": "378950bd",
   "metadata": {},
   "source": [
    "We can see that group B's conversion rate is 31% higher than group A, Even after we've filtered the data. This is a significant difference."
   ]
  },
  {
   "cell_type": "markdown",
   "id": "ad66f161",
   "metadata": {},
   "source": [
    "### Statistical significance of the difference in average order size(filtered data):"
   ]
  },
  {
   "cell_type": "code",
   "execution_count": 98,
   "id": "503a188e",
   "metadata": {},
   "outputs": [
    {
     "name": "stdout",
     "output_type": "stream",
     "text": [
      "0.992\n"
     ]
    }
   ],
   "source": [
    "(\n",
    "print('{0:.3f}'.format(stats.mannwhitneyu(\n",
    "orders[np.logical_and(orders['group'] == 'A',np.logical_not(orders['visitorId'].isin(AbnormalUsers)))]['revenue'],\n",
    "orders[np.logical_and(orders['group'] == 'B',np.logical_not(orders['visitorId'].isin(AbnormalUsers)))]['revenue'])[1]))\n",
    ")"
   ]
  },
  {
   "cell_type": "markdown",
   "id": "c30855dd",
   "metadata": {},
   "source": [
    "We can see that the value is way above 0.05, which shows that the average order size is simillar, also in the filtered data. Le's check the difference:"
   ]
  },
  {
   "cell_type": "code",
   "execution_count": 101,
   "id": "4d8f067e",
   "metadata": {},
   "outputs": [
    {
     "name": "stdout",
     "output_type": "stream",
     "text": [
      "-0.020\n"
     ]
    }
   ],
   "source": [
    "(\n",
    "print('{0:.3f}'.format(\n",
    "orders[np.logical_and(orders['group'] == 'B',np.logical_not(orders['visitorId'].isin(AbnormalUsers)))]['revenue'].mean() / \n",
    "orders[np.logical_and(orders['group'] == 'A',np.logical_not(orders['visitorId'].isin(AbnormalUsers)))]['revenue'].mean() - 1))\n",
    ")"
   ]
  },
  {
   "cell_type": "markdown",
   "id": "0baa3017",
   "metadata": {},
   "source": [
    "We can that the difference that we saw in the raw data has decreased significantly. Group A's average order size is only 2% grater than group B's, an unsignifical difference in statistic terms."
   ]
  },
  {
   "cell_type": "markdown",
   "id": "f153dd5f",
   "metadata": {},
   "source": [
    "# Conclusion:"
   ]
  },
  {
   "cell_type": "markdown",
   "id": "6a51d093",
   "metadata": {},
   "source": [
    "To sum up the analysis:\n",
    "- We calculated the cumulative revenue, the cumulative order size and the ratio of the order size for both groups.\n",
    "- We calculated conversion rate and cumulative conversion rate for both groups.\n",
    "- We found annomalies in the data for orders per user and average order size.\n",
    "- We messured the statistical significence of the difference in conversion rate and in average size, In both raw and filtered data.\n",
    "\n",
    "My analysis shows that:\n",
    "- Group A and Group B's cumulative revenue is pretty steady, with group B having a higher revenue throughout the whole test.\n",
    "- Cumulative average orders steady towards the end of the test, with group B's average higher then group A's.\n",
    "- Cumulative conversion rate also steadies towards the end of the test, with group B higher then group A.\n",
    "- The annomalies in the data are users who order more then 3 times and users who order more then 1000 dollars.\n",
    "- There is a major statistical significance difference in conversion rates: group B's conversion rate is 31% higher then group A.\n",
    "- There isn't a major statistical difference in average orders: group A's average order is only 2% higher then group B's.\n",
    "\n",
    "I can reccomend the following:\n",
    "\n",
    "We have enough data to stop the test. We can consider group B to be the leader."
   ]
  },
  {
   "cell_type": "code",
   "execution_count": null,
   "id": "d1d99731",
   "metadata": {},
   "outputs": [],
   "source": []
  }
 ],
 "metadata": {
  "kernelspec": {
   "display_name": "Python 3",
   "language": "python",
   "name": "python3"
  },
  "language_info": {
   "codemirror_mode": {
    "name": "ipython",
    "version": 3
   },
   "file_extension": ".py",
   "mimetype": "text/x-python",
   "name": "python",
   "nbconvert_exporter": "python",
   "pygments_lexer": "ipython3",
   "version": "3.8.10"
  }
 },
 "nbformat": 4,
 "nbformat_minor": 5
}
