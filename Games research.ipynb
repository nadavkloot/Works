{
 "cells": [
  {
   "cell_type": "markdown",
   "id": "42a7e988",
   "metadata": {},
   "source": [
    "# Introduction:\n",
    "I work for the online store Ice, which sells video games all over the world. User and expert reviews, genres, platforms (e.g. Xbox or PlayStation), and historical data on game sales are available from open sources. My job is to identify patterns that determine whether a game succeeds or not. This will allow the company to spot potential big winners and plan advertising campaigns."
   ]
  },
  {
   "cell_type": "markdown",
   "id": "065e7bd9",
   "metadata": {},
   "source": [
    "## Analysis Outline:"
   ]
  },
  {
   "cell_type": "markdown",
   "id": "48937329",
   "metadata": {},
   "source": [
    "- Adressed the data, changed the columns names, changed the datatypes to more relevant ones.\n",
    "- Handeled missing values and gave reasons to why they are missing\n",
    "- Calculated the total sales of each game\n",
    "- Preformed EDA, created graphs and answered relevant questions.\n",
    "- Filtered the data based on my analysis\n",
    "- Created a user type for each region\n",
    "- Tested hypothesises about the average user ratings on different platforms.\n",
    "- Wrote my conclusion with recomendations to the buisness."
   ]
  },
  {
   "cell_type": "markdown",
   "id": "cba3a3d6",
   "metadata": {},
   "source": [
    "# Step 1: Opening the data and studying the general Information:"
   ]
  },
  {
   "cell_type": "markdown",
   "id": "73b5c68c",
   "metadata": {},
   "source": [
    "Installing the updated libaries:"
   ]
  },
  {
   "cell_type": "code",
   "execution_count": 1,
   "id": "9e164b66",
   "metadata": {},
   "outputs": [
    {
     "name": "stdout",
     "output_type": "stream",
     "text": [
      "Defaulting to user installation because normal site-packages is not writeable\n",
      "Collecting matplotlib\n",
      "  Downloading matplotlib-3.4.2-cp37-cp37m-manylinux1_x86_64.whl (10.3 MB)\n",
      "\u001b[K     |████████████████████████████████| 10.3 MB 1.4 MB/s eta 0:00:01\n",
      "\u001b[?25hRequirement already satisfied, skipping upgrade: numpy>=1.16 in /opt/conda/lib/python3.7/site-packages (from matplotlib) (1.19.5)\n",
      "Requirement already satisfied, skipping upgrade: pillow>=6.2.0 in /opt/conda/lib/python3.7/site-packages (from matplotlib) (7.0.0)\n",
      "Requirement already satisfied, skipping upgrade: cycler>=0.10 in /opt/conda/lib/python3.7/site-packages (from matplotlib) (0.10.0)\n",
      "Requirement already satisfied, skipping upgrade: python-dateutil>=2.7 in /opt/conda/lib/python3.7/site-packages (from matplotlib) (2.8.1)\n",
      "Requirement already satisfied, skipping upgrade: kiwisolver>=1.0.1 in /opt/conda/lib/python3.7/site-packages (from matplotlib) (1.3.1)\n",
      "Requirement already satisfied, skipping upgrade: pyparsing>=2.2.1 in /opt/conda/lib/python3.7/site-packages (from matplotlib) (2.4.7)\n",
      "Requirement already satisfied, skipping upgrade: six in /opt/conda/lib/python3.7/site-packages (from cycler>=0.10->matplotlib) (1.15.0)\n",
      "Installing collected packages: matplotlib\n",
      "Successfully installed matplotlib-3.4.2\n"
     ]
    }
   ],
   "source": [
    "!pip install -U matplotlib"
   ]
  },
  {
   "cell_type": "code",
   "execution_count": 2,
   "id": "407b4893",
   "metadata": {},
   "outputs": [
    {
     "name": "stdout",
     "output_type": "stream",
     "text": [
      "Defaulting to user installation because normal site-packages is not writeable\n",
      "Collecting pandas\n",
      "  Downloading pandas-1.3.0-cp37-cp37m-manylinux_2_5_x86_64.manylinux1_x86_64.whl (10.8 MB)\n",
      "\u001b[K     |████████████████████████████████| 10.8 MB 89 kB/s eta 0:00:01\n",
      "\u001b[?25hRequirement already satisfied, skipping upgrade: numpy>=1.17.3 in /opt/conda/lib/python3.7/site-packages (from pandas) (1.19.5)\n",
      "Requirement already satisfied, skipping upgrade: pytz>=2017.3 in /opt/conda/lib/python3.7/site-packages (from pandas) (2021.1)\n",
      "Requirement already satisfied, skipping upgrade: python-dateutil>=2.7.3 in /opt/conda/lib/python3.7/site-packages (from pandas) (2.8.1)\n",
      "Requirement already satisfied, skipping upgrade: six>=1.5 in /opt/conda/lib/python3.7/site-packages (from python-dateutil>=2.7.3->pandas) (1.15.0)\n",
      "Installing collected packages: pandas\n",
      "Successfully installed pandas-1.3.0\n"
     ]
    }
   ],
   "source": [
    "!pip install -U pandas"
   ]
  },
  {
   "cell_type": "code",
   "execution_count": 3,
   "id": "7b0a64c5",
   "metadata": {},
   "outputs": [
    {
     "name": "stdout",
     "output_type": "stream",
     "text": [
      "Defaulting to user installation because normal site-packages is not writeable\n",
      "Collecting numpy\n",
      "  Downloading numpy-1.21.0-cp37-cp37m-manylinux_2_12_x86_64.manylinux2010_x86_64.whl (15.7 MB)\n",
      "\u001b[K     |████████████████████████████████| 15.7 MB 1.4 MB/s eta 0:00:01\n",
      "\u001b[?25hInstalling collected packages: numpy\n",
      "\u001b[33m  WARNING: The scripts f2py, f2py3 and f2py3.7 are installed in '/home/jovyan/.local/bin' which is not on PATH.\n",
      "  Consider adding this directory to PATH or, if you prefer to suppress this warning, use --no-warn-script-location.\u001b[0m\n",
      "Successfully installed numpy-1.21.0\n"
     ]
    }
   ],
   "source": [
    "!pip install -U numpy"
   ]
  },
  {
   "cell_type": "markdown",
   "id": "3e6c360b",
   "metadata": {},
   "source": [
    "Importing liberies:"
   ]
  },
  {
   "cell_type": "code",
   "execution_count": 4,
   "id": "e830dedd",
   "metadata": {},
   "outputs": [],
   "source": [
    "import pandas as pd\n",
    "import matplotlib.pyplot as plt\n",
    "import datetime as dt\n",
    "import numpy as np\n",
    "from scipy import stats as st"
   ]
  },
  {
   "cell_type": "markdown",
   "id": "aef3971e",
   "metadata": {},
   "source": [
    "Let's download the dataset:"
   ]
  },
  {
   "cell_type": "code",
   "execution_count": 5,
   "id": "44924d13",
   "metadata": {},
   "outputs": [],
   "source": [
    "try:\n",
    "    game_data = pd.read_csv(r'C:\\Users\\nadav\\OneDrive\\מסמכים\\Practicum100\\databases\\games.csv')\n",
    "except:\n",
    "    game_data = pd.read_csv('/datasets/games.csv')"
   ]
  },
  {
   "cell_type": "markdown",
   "id": "c0f07c15",
   "metadata": {},
   "source": [
    "Let's have a general look at the dataset:"
   ]
  },
  {
   "cell_type": "code",
   "execution_count": 6,
   "id": "9144131a",
   "metadata": {},
   "outputs": [
    {
     "data": {
      "text/html": [
       "<div>\n",
       "<style scoped>\n",
       "    .dataframe tbody tr th:only-of-type {\n",
       "        vertical-align: middle;\n",
       "    }\n",
       "\n",
       "    .dataframe tbody tr th {\n",
       "        vertical-align: top;\n",
       "    }\n",
       "\n",
       "    .dataframe thead th {\n",
       "        text-align: right;\n",
       "    }\n",
       "</style>\n",
       "<table border=\"1\" class=\"dataframe\">\n",
       "  <thead>\n",
       "    <tr style=\"text-align: right;\">\n",
       "      <th></th>\n",
       "      <th>Name</th>\n",
       "      <th>Platform</th>\n",
       "      <th>Year_of_Release</th>\n",
       "      <th>Genre</th>\n",
       "      <th>NA_sales</th>\n",
       "      <th>EU_sales</th>\n",
       "      <th>JP_sales</th>\n",
       "      <th>Other_sales</th>\n",
       "      <th>Critic_Score</th>\n",
       "      <th>User_Score</th>\n",
       "      <th>Rating</th>\n",
       "    </tr>\n",
       "  </thead>\n",
       "  <tbody>\n",
       "    <tr>\n",
       "      <th>0</th>\n",
       "      <td>Wii Sports</td>\n",
       "      <td>Wii</td>\n",
       "      <td>2006.0</td>\n",
       "      <td>Sports</td>\n",
       "      <td>41.36</td>\n",
       "      <td>28.96</td>\n",
       "      <td>3.77</td>\n",
       "      <td>8.45</td>\n",
       "      <td>76.0</td>\n",
       "      <td>8</td>\n",
       "      <td>E</td>\n",
       "    </tr>\n",
       "    <tr>\n",
       "      <th>1</th>\n",
       "      <td>Super Mario Bros.</td>\n",
       "      <td>NES</td>\n",
       "      <td>1985.0</td>\n",
       "      <td>Platform</td>\n",
       "      <td>29.08</td>\n",
       "      <td>3.58</td>\n",
       "      <td>6.81</td>\n",
       "      <td>0.77</td>\n",
       "      <td>NaN</td>\n",
       "      <td>NaN</td>\n",
       "      <td>NaN</td>\n",
       "    </tr>\n",
       "    <tr>\n",
       "      <th>2</th>\n",
       "      <td>Mario Kart Wii</td>\n",
       "      <td>Wii</td>\n",
       "      <td>2008.0</td>\n",
       "      <td>Racing</td>\n",
       "      <td>15.68</td>\n",
       "      <td>12.76</td>\n",
       "      <td>3.79</td>\n",
       "      <td>3.29</td>\n",
       "      <td>82.0</td>\n",
       "      <td>8.3</td>\n",
       "      <td>E</td>\n",
       "    </tr>\n",
       "    <tr>\n",
       "      <th>3</th>\n",
       "      <td>Wii Sports Resort</td>\n",
       "      <td>Wii</td>\n",
       "      <td>2009.0</td>\n",
       "      <td>Sports</td>\n",
       "      <td>15.61</td>\n",
       "      <td>10.93</td>\n",
       "      <td>3.28</td>\n",
       "      <td>2.95</td>\n",
       "      <td>80.0</td>\n",
       "      <td>8</td>\n",
       "      <td>E</td>\n",
       "    </tr>\n",
       "    <tr>\n",
       "      <th>4</th>\n",
       "      <td>Pokemon Red/Pokemon Blue</td>\n",
       "      <td>GB</td>\n",
       "      <td>1996.0</td>\n",
       "      <td>Role-Playing</td>\n",
       "      <td>11.27</td>\n",
       "      <td>8.89</td>\n",
       "      <td>10.22</td>\n",
       "      <td>1.00</td>\n",
       "      <td>NaN</td>\n",
       "      <td>NaN</td>\n",
       "      <td>NaN</td>\n",
       "    </tr>\n",
       "    <tr>\n",
       "      <th>5</th>\n",
       "      <td>Tetris</td>\n",
       "      <td>GB</td>\n",
       "      <td>1989.0</td>\n",
       "      <td>Puzzle</td>\n",
       "      <td>23.20</td>\n",
       "      <td>2.26</td>\n",
       "      <td>4.22</td>\n",
       "      <td>0.58</td>\n",
       "      <td>NaN</td>\n",
       "      <td>NaN</td>\n",
       "      <td>NaN</td>\n",
       "    </tr>\n",
       "    <tr>\n",
       "      <th>6</th>\n",
       "      <td>New Super Mario Bros.</td>\n",
       "      <td>DS</td>\n",
       "      <td>2006.0</td>\n",
       "      <td>Platform</td>\n",
       "      <td>11.28</td>\n",
       "      <td>9.14</td>\n",
       "      <td>6.50</td>\n",
       "      <td>2.88</td>\n",
       "      <td>89.0</td>\n",
       "      <td>8.5</td>\n",
       "      <td>E</td>\n",
       "    </tr>\n",
       "    <tr>\n",
       "      <th>7</th>\n",
       "      <td>Wii Play</td>\n",
       "      <td>Wii</td>\n",
       "      <td>2006.0</td>\n",
       "      <td>Misc</td>\n",
       "      <td>13.96</td>\n",
       "      <td>9.18</td>\n",
       "      <td>2.93</td>\n",
       "      <td>2.84</td>\n",
       "      <td>58.0</td>\n",
       "      <td>6.6</td>\n",
       "      <td>E</td>\n",
       "    </tr>\n",
       "    <tr>\n",
       "      <th>8</th>\n",
       "      <td>New Super Mario Bros. Wii</td>\n",
       "      <td>Wii</td>\n",
       "      <td>2009.0</td>\n",
       "      <td>Platform</td>\n",
       "      <td>14.44</td>\n",
       "      <td>6.94</td>\n",
       "      <td>4.70</td>\n",
       "      <td>2.24</td>\n",
       "      <td>87.0</td>\n",
       "      <td>8.4</td>\n",
       "      <td>E</td>\n",
       "    </tr>\n",
       "    <tr>\n",
       "      <th>9</th>\n",
       "      <td>Duck Hunt</td>\n",
       "      <td>NES</td>\n",
       "      <td>1984.0</td>\n",
       "      <td>Shooter</td>\n",
       "      <td>26.93</td>\n",
       "      <td>0.63</td>\n",
       "      <td>0.28</td>\n",
       "      <td>0.47</td>\n",
       "      <td>NaN</td>\n",
       "      <td>NaN</td>\n",
       "      <td>NaN</td>\n",
       "    </tr>\n",
       "  </tbody>\n",
       "</table>\n",
       "</div>"
      ],
      "text/plain": [
       "                        Name Platform  Year_of_Release         Genre  \\\n",
       "0                 Wii Sports      Wii           2006.0        Sports   \n",
       "1          Super Mario Bros.      NES           1985.0      Platform   \n",
       "2             Mario Kart Wii      Wii           2008.0        Racing   \n",
       "3          Wii Sports Resort      Wii           2009.0        Sports   \n",
       "4   Pokemon Red/Pokemon Blue       GB           1996.0  Role-Playing   \n",
       "5                     Tetris       GB           1989.0        Puzzle   \n",
       "6      New Super Mario Bros.       DS           2006.0      Platform   \n",
       "7                   Wii Play      Wii           2006.0          Misc   \n",
       "8  New Super Mario Bros. Wii      Wii           2009.0      Platform   \n",
       "9                  Duck Hunt      NES           1984.0       Shooter   \n",
       "\n",
       "   NA_sales  EU_sales  JP_sales  Other_sales  Critic_Score User_Score Rating  \n",
       "0     41.36     28.96      3.77         8.45          76.0          8      E  \n",
       "1     29.08      3.58      6.81         0.77           NaN        NaN    NaN  \n",
       "2     15.68     12.76      3.79         3.29          82.0        8.3      E  \n",
       "3     15.61     10.93      3.28         2.95          80.0          8      E  \n",
       "4     11.27      8.89     10.22         1.00           NaN        NaN    NaN  \n",
       "5     23.20      2.26      4.22         0.58           NaN        NaN    NaN  \n",
       "6     11.28      9.14      6.50         2.88          89.0        8.5      E  \n",
       "7     13.96      9.18      2.93         2.84          58.0        6.6      E  \n",
       "8     14.44      6.94      4.70         2.24          87.0        8.4      E  \n",
       "9     26.93      0.63      0.28         0.47           NaN        NaN    NaN  "
      ]
     },
     "execution_count": 6,
     "metadata": {},
     "output_type": "execute_result"
    }
   ],
   "source": [
    "game_data.head(10)"
   ]
  },
  {
   "cell_type": "code",
   "execution_count": 7,
   "id": "3b21797d",
   "metadata": {},
   "outputs": [
    {
     "name": "stdout",
     "output_type": "stream",
     "text": [
      "<class 'pandas.core.frame.DataFrame'>\n",
      "RangeIndex: 16715 entries, 0 to 16714\n",
      "Data columns (total 11 columns):\n",
      " #   Column           Non-Null Count  Dtype  \n",
      "---  ------           --------------  -----  \n",
      " 0   Name             16713 non-null  object \n",
      " 1   Platform         16715 non-null  object \n",
      " 2   Year_of_Release  16446 non-null  float64\n",
      " 3   Genre            16713 non-null  object \n",
      " 4   NA_sales         16715 non-null  float64\n",
      " 5   EU_sales         16715 non-null  float64\n",
      " 6   JP_sales         16715 non-null  float64\n",
      " 7   Other_sales      16715 non-null  float64\n",
      " 8   Critic_Score     8137 non-null   float64\n",
      " 9   User_Score       10014 non-null  object \n",
      " 10  Rating           9949 non-null   object \n",
      "dtypes: float64(6), object(5)\n",
      "memory usage: 1.4+ MB\n"
     ]
    }
   ],
   "source": [
    "game_data.info()"
   ]
  },
  {
   "cell_type": "code",
   "execution_count": 8,
   "id": "55e3dee4",
   "metadata": {},
   "outputs": [
    {
     "data": {
      "text/html": [
       "<div>\n",
       "<style scoped>\n",
       "    .dataframe tbody tr th:only-of-type {\n",
       "        vertical-align: middle;\n",
       "    }\n",
       "\n",
       "    .dataframe tbody tr th {\n",
       "        vertical-align: top;\n",
       "    }\n",
       "\n",
       "    .dataframe thead th {\n",
       "        text-align: right;\n",
       "    }\n",
       "</style>\n",
       "<table border=\"1\" class=\"dataframe\">\n",
       "  <thead>\n",
       "    <tr style=\"text-align: right;\">\n",
       "      <th></th>\n",
       "      <th>Year_of_Release</th>\n",
       "      <th>NA_sales</th>\n",
       "      <th>EU_sales</th>\n",
       "      <th>JP_sales</th>\n",
       "      <th>Other_sales</th>\n",
       "      <th>Critic_Score</th>\n",
       "    </tr>\n",
       "  </thead>\n",
       "  <tbody>\n",
       "    <tr>\n",
       "      <th>count</th>\n",
       "      <td>16446.000000</td>\n",
       "      <td>16715.000000</td>\n",
       "      <td>16715.000000</td>\n",
       "      <td>16715.000000</td>\n",
       "      <td>16715.000000</td>\n",
       "      <td>8137.000000</td>\n",
       "    </tr>\n",
       "    <tr>\n",
       "      <th>mean</th>\n",
       "      <td>2006.484616</td>\n",
       "      <td>0.263377</td>\n",
       "      <td>0.145060</td>\n",
       "      <td>0.077617</td>\n",
       "      <td>0.047342</td>\n",
       "      <td>68.967679</td>\n",
       "    </tr>\n",
       "    <tr>\n",
       "      <th>std</th>\n",
       "      <td>5.877050</td>\n",
       "      <td>0.813604</td>\n",
       "      <td>0.503339</td>\n",
       "      <td>0.308853</td>\n",
       "      <td>0.186731</td>\n",
       "      <td>13.938165</td>\n",
       "    </tr>\n",
       "    <tr>\n",
       "      <th>min</th>\n",
       "      <td>1980.000000</td>\n",
       "      <td>0.000000</td>\n",
       "      <td>0.000000</td>\n",
       "      <td>0.000000</td>\n",
       "      <td>0.000000</td>\n",
       "      <td>13.000000</td>\n",
       "    </tr>\n",
       "    <tr>\n",
       "      <th>25%</th>\n",
       "      <td>2003.000000</td>\n",
       "      <td>0.000000</td>\n",
       "      <td>0.000000</td>\n",
       "      <td>0.000000</td>\n",
       "      <td>0.000000</td>\n",
       "      <td>60.000000</td>\n",
       "    </tr>\n",
       "    <tr>\n",
       "      <th>50%</th>\n",
       "      <td>2007.000000</td>\n",
       "      <td>0.080000</td>\n",
       "      <td>0.020000</td>\n",
       "      <td>0.000000</td>\n",
       "      <td>0.010000</td>\n",
       "      <td>71.000000</td>\n",
       "    </tr>\n",
       "    <tr>\n",
       "      <th>75%</th>\n",
       "      <td>2010.000000</td>\n",
       "      <td>0.240000</td>\n",
       "      <td>0.110000</td>\n",
       "      <td>0.040000</td>\n",
       "      <td>0.030000</td>\n",
       "      <td>79.000000</td>\n",
       "    </tr>\n",
       "    <tr>\n",
       "      <th>max</th>\n",
       "      <td>2016.000000</td>\n",
       "      <td>41.360000</td>\n",
       "      <td>28.960000</td>\n",
       "      <td>10.220000</td>\n",
       "      <td>10.570000</td>\n",
       "      <td>98.000000</td>\n",
       "    </tr>\n",
       "  </tbody>\n",
       "</table>\n",
       "</div>"
      ],
      "text/plain": [
       "       Year_of_Release      NA_sales      EU_sales      JP_sales  \\\n",
       "count     16446.000000  16715.000000  16715.000000  16715.000000   \n",
       "mean       2006.484616      0.263377      0.145060      0.077617   \n",
       "std           5.877050      0.813604      0.503339      0.308853   \n",
       "min        1980.000000      0.000000      0.000000      0.000000   \n",
       "25%        2003.000000      0.000000      0.000000      0.000000   \n",
       "50%        2007.000000      0.080000      0.020000      0.000000   \n",
       "75%        2010.000000      0.240000      0.110000      0.040000   \n",
       "max        2016.000000     41.360000     28.960000     10.220000   \n",
       "\n",
       "        Other_sales  Critic_Score  \n",
       "count  16715.000000   8137.000000  \n",
       "mean       0.047342     68.967679  \n",
       "std        0.186731     13.938165  \n",
       "min        0.000000     13.000000  \n",
       "25%        0.000000     60.000000  \n",
       "50%        0.010000     71.000000  \n",
       "75%        0.030000     79.000000  \n",
       "max       10.570000     98.000000  "
      ]
     },
     "execution_count": 8,
     "metadata": {},
     "output_type": "execute_result"
    }
   ],
   "source": [
    "game_data.describe()"
   ]
  },
  {
   "cell_type": "code",
   "execution_count": 9,
   "id": "115a14f5",
   "metadata": {},
   "outputs": [
    {
     "data": {
      "text/html": [
       "<div>\n",
       "<style scoped>\n",
       "    .dataframe tbody tr th:only-of-type {\n",
       "        vertical-align: middle;\n",
       "    }\n",
       "\n",
       "    .dataframe tbody tr th {\n",
       "        vertical-align: top;\n",
       "    }\n",
       "\n",
       "    .dataframe thead th {\n",
       "        text-align: right;\n",
       "    }\n",
       "</style>\n",
       "<table border=\"1\" class=\"dataframe\">\n",
       "  <thead>\n",
       "    <tr style=\"text-align: right;\">\n",
       "      <th></th>\n",
       "      <th>Name</th>\n",
       "      <th>Platform</th>\n",
       "      <th>Genre</th>\n",
       "      <th>User_Score</th>\n",
       "      <th>Rating</th>\n",
       "    </tr>\n",
       "  </thead>\n",
       "  <tbody>\n",
       "    <tr>\n",
       "      <th>count</th>\n",
       "      <td>16713</td>\n",
       "      <td>16715</td>\n",
       "      <td>16713</td>\n",
       "      <td>10014</td>\n",
       "      <td>9949</td>\n",
       "    </tr>\n",
       "    <tr>\n",
       "      <th>unique</th>\n",
       "      <td>11559</td>\n",
       "      <td>31</td>\n",
       "      <td>12</td>\n",
       "      <td>96</td>\n",
       "      <td>8</td>\n",
       "    </tr>\n",
       "    <tr>\n",
       "      <th>top</th>\n",
       "      <td>Need for Speed: Most Wanted</td>\n",
       "      <td>PS2</td>\n",
       "      <td>Action</td>\n",
       "      <td>tbd</td>\n",
       "      <td>E</td>\n",
       "    </tr>\n",
       "    <tr>\n",
       "      <th>freq</th>\n",
       "      <td>12</td>\n",
       "      <td>2161</td>\n",
       "      <td>3369</td>\n",
       "      <td>2424</td>\n",
       "      <td>3990</td>\n",
       "    </tr>\n",
       "  </tbody>\n",
       "</table>\n",
       "</div>"
      ],
      "text/plain": [
       "                               Name Platform   Genre User_Score Rating\n",
       "count                         16713    16715   16713      10014   9949\n",
       "unique                        11559       31      12         96      8\n",
       "top     Need for Speed: Most Wanted      PS2  Action        tbd      E\n",
       "freq                             12     2161    3369       2424   3990"
      ]
     },
     "execution_count": 9,
     "metadata": {},
     "output_type": "execute_result"
    }
   ],
   "source": [
    "game_data.describe(include = 'object')"
   ]
  },
  {
   "cell_type": "code",
   "execution_count": 10,
   "id": "6b785f69",
   "metadata": {},
   "outputs": [
    {
     "data": {
      "text/plain": [
       "PS2     2161\n",
       "DS      2151\n",
       "PS3     1331\n",
       "Wii     1320\n",
       "X360    1262\n",
       "PSP     1209\n",
       "PS      1197\n",
       "PC       974\n",
       "XB       824\n",
       "GBA      822\n",
       "GC       556\n",
       "3DS      520\n",
       "PSV      430\n",
       "PS4      392\n",
       "N64      319\n",
       "XOne     247\n",
       "SNES     239\n",
       "SAT      173\n",
       "WiiU     147\n",
       "2600     133\n",
       "NES       98\n",
       "GB        98\n",
       "DC        52\n",
       "GEN       29\n",
       "NG        12\n",
       "SCD        6\n",
       "WS         6\n",
       "3DO        3\n",
       "TG16       2\n",
       "GG         1\n",
       "PCFX       1\n",
       "Name: Platform, dtype: int64"
      ]
     },
     "execution_count": 10,
     "metadata": {},
     "output_type": "execute_result"
    }
   ],
   "source": [
    "game_data['Platform'].value_counts()"
   ]
  },
  {
   "cell_type": "code",
   "execution_count": 11,
   "id": "7f2ac9ca",
   "metadata": {},
   "outputs": [
    {
     "data": {
      "text/plain": [
       "tbd    2424\n",
       "7.8     324\n",
       "8       290\n",
       "8.2     282\n",
       "8.3     254\n",
       "       ... \n",
       "1.1       2\n",
       "1.9       2\n",
       "9.6       2\n",
       "0         1\n",
       "9.7       1\n",
       "Name: User_Score, Length: 96, dtype: int64"
      ]
     },
     "execution_count": 11,
     "metadata": {},
     "output_type": "execute_result"
    }
   ],
   "source": [
    "game_data['User_Score'].value_counts()"
   ]
  },
  {
   "cell_type": "code",
   "execution_count": 12,
   "id": "65a941a7",
   "metadata": {},
   "outputs": [
    {
     "data": {
      "text/plain": [
       "E       3990\n",
       "T       2961\n",
       "M       1563\n",
       "E10+    1420\n",
       "EC         8\n",
       "K-A        3\n",
       "RP         3\n",
       "AO         1\n",
       "Name: Rating, dtype: int64"
      ]
     },
     "execution_count": 12,
     "metadata": {},
     "output_type": "execute_result"
    }
   ],
   "source": [
    "game_data['Rating'].value_counts()"
   ]
  },
  {
   "cell_type": "code",
   "execution_count": 13,
   "id": "84f3247e",
   "metadata": {
    "scrolled": true
   },
   "outputs": [
    {
     "data": {
      "text/plain": [
       "Action          3369\n",
       "Sports          2348\n",
       "Misc            1750\n",
       "Role-Playing    1498\n",
       "Shooter         1323\n",
       "Adventure       1303\n",
       "Racing          1249\n",
       "Platform         888\n",
       "Simulation       873\n",
       "Fighting         849\n",
       "Strategy         683\n",
       "Puzzle           580\n",
       "Name: Genre, dtype: int64"
      ]
     },
     "execution_count": 13,
     "metadata": {},
     "output_type": "execute_result"
    }
   ],
   "source": [
    "game_data['Genre'].value_counts()"
   ]
  },
  {
   "cell_type": "markdown",
   "id": "83c54426",
   "metadata": {},
   "source": [
    "### Conclusion:"
   ]
  },
  {
   "cell_type": "markdown",
   "id": "90acdb8e",
   "metadata": {},
   "source": [
    "We have quite a few problems in our data. First of all, Our columns are not in Lowercase, so we need to change that. Secondly, We have missing values in several columns, that we will handle. Finally, we have a few columns with the wrong data types. We have a lot of work to do!"
   ]
  },
  {
   "cell_type": "markdown",
   "id": "c3095aa1",
   "metadata": {},
   "source": [
    "# Step 2: Preparing the data:"
   ]
  },
  {
   "cell_type": "markdown",
   "id": "d8bea4d5",
   "metadata": {},
   "source": [
    "We see we have lots of problems with our data. First, let's change the columns names to lowercase:"
   ]
  },
  {
   "cell_type": "code",
   "execution_count": 14,
   "id": "99ff0183",
   "metadata": {},
   "outputs": [
    {
     "name": "stdout",
     "output_type": "stream",
     "text": [
      "<class 'pandas.core.frame.DataFrame'>\n",
      "RangeIndex: 16715 entries, 0 to 16714\n",
      "Data columns (total 11 columns):\n",
      " #   Column           Non-Null Count  Dtype  \n",
      "---  ------           --------------  -----  \n",
      " 0   name             16713 non-null  object \n",
      " 1   platform         16715 non-null  object \n",
      " 2   year_of_release  16446 non-null  float64\n",
      " 3   genre            16713 non-null  object \n",
      " 4   na_sales         16715 non-null  float64\n",
      " 5   eu_sales         16715 non-null  float64\n",
      " 6   jp_sales         16715 non-null  float64\n",
      " 7   other_sales      16715 non-null  float64\n",
      " 8   critic_score     8137 non-null   float64\n",
      " 9   user_score       10014 non-null  object \n",
      " 10  rating           9949 non-null   object \n",
      "dtypes: float64(6), object(5)\n",
      "memory usage: 1.4+ MB\n"
     ]
    }
   ],
   "source": [
    "lis = game_data.columns\n",
    "lis = lis.str.lower()\n",
    "game_data.columns = lis\n",
    "#check\n",
    "game_data.info()"
   ]
  },
  {
   "cell_type": "markdown",
   "id": "e2a0316f",
   "metadata": {},
   "source": [
    "Let's start tackeling the missing values. First, the 2 missing values in the 'Name' column:"
   ]
  },
  {
   "cell_type": "code",
   "execution_count": 15,
   "id": "ff0dd032",
   "metadata": {},
   "outputs": [
    {
     "data": {
      "text/html": [
       "<div>\n",
       "<style scoped>\n",
       "    .dataframe tbody tr th:only-of-type {\n",
       "        vertical-align: middle;\n",
       "    }\n",
       "\n",
       "    .dataframe tbody tr th {\n",
       "        vertical-align: top;\n",
       "    }\n",
       "\n",
       "    .dataframe thead th {\n",
       "        text-align: right;\n",
       "    }\n",
       "</style>\n",
       "<table border=\"1\" class=\"dataframe\">\n",
       "  <thead>\n",
       "    <tr style=\"text-align: right;\">\n",
       "      <th></th>\n",
       "      <th>name</th>\n",
       "      <th>platform</th>\n",
       "      <th>year_of_release</th>\n",
       "      <th>genre</th>\n",
       "      <th>na_sales</th>\n",
       "      <th>eu_sales</th>\n",
       "      <th>jp_sales</th>\n",
       "      <th>other_sales</th>\n",
       "      <th>critic_score</th>\n",
       "      <th>user_score</th>\n",
       "      <th>rating</th>\n",
       "    </tr>\n",
       "  </thead>\n",
       "  <tbody>\n",
       "    <tr>\n",
       "      <th>659</th>\n",
       "      <td>NaN</td>\n",
       "      <td>GEN</td>\n",
       "      <td>1993.0</td>\n",
       "      <td>NaN</td>\n",
       "      <td>1.78</td>\n",
       "      <td>0.53</td>\n",
       "      <td>0.00</td>\n",
       "      <td>0.08</td>\n",
       "      <td>NaN</td>\n",
       "      <td>NaN</td>\n",
       "      <td>NaN</td>\n",
       "    </tr>\n",
       "    <tr>\n",
       "      <th>14244</th>\n",
       "      <td>NaN</td>\n",
       "      <td>GEN</td>\n",
       "      <td>1993.0</td>\n",
       "      <td>NaN</td>\n",
       "      <td>0.00</td>\n",
       "      <td>0.00</td>\n",
       "      <td>0.03</td>\n",
       "      <td>0.00</td>\n",
       "      <td>NaN</td>\n",
       "      <td>NaN</td>\n",
       "      <td>NaN</td>\n",
       "    </tr>\n",
       "  </tbody>\n",
       "</table>\n",
       "</div>"
      ],
      "text/plain": [
       "      name platform  year_of_release genre  na_sales  eu_sales  jp_sales  \\\n",
       "659    NaN      GEN           1993.0   NaN      1.78      0.53      0.00   \n",
       "14244  NaN      GEN           1993.0   NaN      0.00      0.00      0.03   \n",
       "\n",
       "       other_sales  critic_score user_score rating  \n",
       "659           0.08           NaN        NaN    NaN  \n",
       "14244         0.00           NaN        NaN    NaN  "
      ]
     },
     "execution_count": 15,
     "metadata": {},
     "output_type": "execute_result"
    }
   ],
   "source": [
    "game_data.loc[game_data['name'].isnull()]"
   ]
  },
  {
   "cell_type": "markdown",
   "id": "43c6d4a9",
   "metadata": {},
   "source": [
    "We see we really don't have much information about this value. Our most significant one is that it's on the 'GEN' platform. We know there aren't a lot of games using the 'GEN' platform, so let's check them:"
   ]
  },
  {
   "cell_type": "code",
   "execution_count": 16,
   "id": "fa4d8431",
   "metadata": {},
   "outputs": [
    {
     "data": {
      "text/html": [
       "<div>\n",
       "<style scoped>\n",
       "    .dataframe tbody tr th:only-of-type {\n",
       "        vertical-align: middle;\n",
       "    }\n",
       "\n",
       "    .dataframe tbody tr th {\n",
       "        vertical-align: top;\n",
       "    }\n",
       "\n",
       "    .dataframe thead th {\n",
       "        text-align: right;\n",
       "    }\n",
       "</style>\n",
       "<table border=\"1\" class=\"dataframe\">\n",
       "  <thead>\n",
       "    <tr style=\"text-align: right;\">\n",
       "      <th></th>\n",
       "      <th>name</th>\n",
       "      <th>platform</th>\n",
       "      <th>year_of_release</th>\n",
       "      <th>genre</th>\n",
       "      <th>na_sales</th>\n",
       "      <th>eu_sales</th>\n",
       "      <th>jp_sales</th>\n",
       "      <th>other_sales</th>\n",
       "      <th>critic_score</th>\n",
       "      <th>user_score</th>\n",
       "      <th>rating</th>\n",
       "    </tr>\n",
       "  </thead>\n",
       "  <tbody>\n",
       "    <tr>\n",
       "      <th>145</th>\n",
       "      <td>Sonic the Hedgehog 2</td>\n",
       "      <td>GEN</td>\n",
       "      <td>1992.0</td>\n",
       "      <td>Platform</td>\n",
       "      <td>4.47</td>\n",
       "      <td>1.20</td>\n",
       "      <td>0.16</td>\n",
       "      <td>0.19</td>\n",
       "      <td>NaN</td>\n",
       "      <td>NaN</td>\n",
       "      <td>NaN</td>\n",
       "    </tr>\n",
       "    <tr>\n",
       "      <th>257</th>\n",
       "      <td>Sonic the Hedgehog</td>\n",
       "      <td>GEN</td>\n",
       "      <td>1991.0</td>\n",
       "      <td>Platform</td>\n",
       "      <td>3.03</td>\n",
       "      <td>0.91</td>\n",
       "      <td>0.26</td>\n",
       "      <td>0.13</td>\n",
       "      <td>NaN</td>\n",
       "      <td>NaN</td>\n",
       "      <td>NaN</td>\n",
       "    </tr>\n",
       "    <tr>\n",
       "      <th>564</th>\n",
       "      <td>Mortal Kombat</td>\n",
       "      <td>GEN</td>\n",
       "      <td>1992.0</td>\n",
       "      <td>Fighting</td>\n",
       "      <td>1.95</td>\n",
       "      <td>0.63</td>\n",
       "      <td>0.00</td>\n",
       "      <td>0.09</td>\n",
       "      <td>NaN</td>\n",
       "      <td>NaN</td>\n",
       "      <td>NaN</td>\n",
       "    </tr>\n",
       "    <tr>\n",
       "      <th>588</th>\n",
       "      <td>Streets of Rage</td>\n",
       "      <td>GEN</td>\n",
       "      <td>1990.0</td>\n",
       "      <td>Action</td>\n",
       "      <td>1.86</td>\n",
       "      <td>0.55</td>\n",
       "      <td>0.11</td>\n",
       "      <td>0.08</td>\n",
       "      <td>NaN</td>\n",
       "      <td>NaN</td>\n",
       "      <td>NaN</td>\n",
       "    </tr>\n",
       "    <tr>\n",
       "      <th>659</th>\n",
       "      <td>NaN</td>\n",
       "      <td>GEN</td>\n",
       "      <td>1993.0</td>\n",
       "      <td>NaN</td>\n",
       "      <td>1.78</td>\n",
       "      <td>0.53</td>\n",
       "      <td>0.00</td>\n",
       "      <td>0.08</td>\n",
       "      <td>NaN</td>\n",
       "      <td>NaN</td>\n",
       "      <td>NaN</td>\n",
       "    </tr>\n",
       "    <tr>\n",
       "      <th>832</th>\n",
       "      <td>NBA Jam</td>\n",
       "      <td>GEN</td>\n",
       "      <td>1992.0</td>\n",
       "      <td>Sports</td>\n",
       "      <td>1.75</td>\n",
       "      <td>0.25</td>\n",
       "      <td>0.00</td>\n",
       "      <td>0.05</td>\n",
       "      <td>NaN</td>\n",
       "      <td>NaN</td>\n",
       "      <td>NaN</td>\n",
       "    </tr>\n",
       "    <tr>\n",
       "      <th>960</th>\n",
       "      <td>Sonic &amp; Knuckles</td>\n",
       "      <td>GEN</td>\n",
       "      <td>1994.0</td>\n",
       "      <td>Platform</td>\n",
       "      <td>1.24</td>\n",
       "      <td>0.43</td>\n",
       "      <td>0.03</td>\n",
       "      <td>0.12</td>\n",
       "      <td>NaN</td>\n",
       "      <td>NaN</td>\n",
       "      <td>NaN</td>\n",
       "    </tr>\n",
       "    <tr>\n",
       "      <th>996</th>\n",
       "      <td>Sonic the Hedgehog 3</td>\n",
       "      <td>GEN</td>\n",
       "      <td>1994.0</td>\n",
       "      <td>Platform</td>\n",
       "      <td>1.02</td>\n",
       "      <td>0.47</td>\n",
       "      <td>0.20</td>\n",
       "      <td>0.07</td>\n",
       "      <td>NaN</td>\n",
       "      <td>NaN</td>\n",
       "      <td>NaN</td>\n",
       "    </tr>\n",
       "    <tr>\n",
       "      <th>1099</th>\n",
       "      <td>Street Fighter II': Special Champion Edition</td>\n",
       "      <td>GEN</td>\n",
       "      <td>1992.0</td>\n",
       "      <td>Fighting</td>\n",
       "      <td>1.00</td>\n",
       "      <td>0.30</td>\n",
       "      <td>0.31</td>\n",
       "      <td>0.04</td>\n",
       "      <td>NaN</td>\n",
       "      <td>NaN</td>\n",
       "      <td>NaN</td>\n",
       "    </tr>\n",
       "    <tr>\n",
       "      <th>1365</th>\n",
       "      <td>Disney's The Lion King</td>\n",
       "      <td>GEN</td>\n",
       "      <td>1994.0</td>\n",
       "      <td>Platform</td>\n",
       "      <td>0.97</td>\n",
       "      <td>0.37</td>\n",
       "      <td>0.03</td>\n",
       "      <td>0.05</td>\n",
       "      <td>NaN</td>\n",
       "      <td>NaN</td>\n",
       "      <td>NaN</td>\n",
       "    </tr>\n",
       "    <tr>\n",
       "      <th>1453</th>\n",
       "      <td>Mortal Kombat 3</td>\n",
       "      <td>GEN</td>\n",
       "      <td>1994.0</td>\n",
       "      <td>Fighting</td>\n",
       "      <td>1.03</td>\n",
       "      <td>0.27</td>\n",
       "      <td>0.00</td>\n",
       "      <td>0.04</td>\n",
       "      <td>NaN</td>\n",
       "      <td>NaN</td>\n",
       "      <td>NaN</td>\n",
       "    </tr>\n",
       "    <tr>\n",
       "      <th>1842</th>\n",
       "      <td>NBA Jam Tournament Edition</td>\n",
       "      <td>GEN</td>\n",
       "      <td>1994.0</td>\n",
       "      <td>Sports</td>\n",
       "      <td>0.95</td>\n",
       "      <td>0.14</td>\n",
       "      <td>0.00</td>\n",
       "      <td>0.03</td>\n",
       "      <td>NaN</td>\n",
       "      <td>NaN</td>\n",
       "      <td>NaN</td>\n",
       "    </tr>\n",
       "    <tr>\n",
       "      <th>6451</th>\n",
       "      <td>Virtua Racing</td>\n",
       "      <td>GEN</td>\n",
       "      <td>1994.0</td>\n",
       "      <td>Racing</td>\n",
       "      <td>0.00</td>\n",
       "      <td>0.00</td>\n",
       "      <td>0.26</td>\n",
       "      <td>0.00</td>\n",
       "      <td>NaN</td>\n",
       "      <td>NaN</td>\n",
       "      <td>NaN</td>\n",
       "    </tr>\n",
       "    <tr>\n",
       "      <th>7885</th>\n",
       "      <td>Shining Force II</td>\n",
       "      <td>GEN</td>\n",
       "      <td>1993.0</td>\n",
       "      <td>Strategy</td>\n",
       "      <td>0.00</td>\n",
       "      <td>0.00</td>\n",
       "      <td>0.19</td>\n",
       "      <td>0.00</td>\n",
       "      <td>NaN</td>\n",
       "      <td>NaN</td>\n",
       "      <td>NaN</td>\n",
       "    </tr>\n",
       "    <tr>\n",
       "      <th>8893</th>\n",
       "      <td>Super Street Fighter II</td>\n",
       "      <td>GEN</td>\n",
       "      <td>1993.0</td>\n",
       "      <td>Fighting</td>\n",
       "      <td>0.00</td>\n",
       "      <td>0.00</td>\n",
       "      <td>0.15</td>\n",
       "      <td>0.00</td>\n",
       "      <td>NaN</td>\n",
       "      <td>NaN</td>\n",
       "      <td>NaN</td>\n",
       "    </tr>\n",
       "    <tr>\n",
       "      <th>9000</th>\n",
       "      <td>Lunar 2: Eternal Blue(sales, but wrong system)</td>\n",
       "      <td>GEN</td>\n",
       "      <td>1994.0</td>\n",
       "      <td>Role-Playing</td>\n",
       "      <td>0.00</td>\n",
       "      <td>0.00</td>\n",
       "      <td>0.14</td>\n",
       "      <td>0.00</td>\n",
       "      <td>NaN</td>\n",
       "      <td>NaN</td>\n",
       "      <td>NaN</td>\n",
       "    </tr>\n",
       "    <tr>\n",
       "      <th>9563</th>\n",
       "      <td>Gunstar Heroes</td>\n",
       "      <td>GEN</td>\n",
       "      <td>1992.0</td>\n",
       "      <td>Shooter</td>\n",
       "      <td>0.00</td>\n",
       "      <td>0.00</td>\n",
       "      <td>0.13</td>\n",
       "      <td>0.00</td>\n",
       "      <td>NaN</td>\n",
       "      <td>NaN</td>\n",
       "      <td>NaN</td>\n",
       "    </tr>\n",
       "    <tr>\n",
       "      <th>9787</th>\n",
       "      <td>Ecco the Dolphin</td>\n",
       "      <td>GEN</td>\n",
       "      <td>1992.0</td>\n",
       "      <td>Adventure</td>\n",
       "      <td>0.00</td>\n",
       "      <td>0.00</td>\n",
       "      <td>0.12</td>\n",
       "      <td>0.00</td>\n",
       "      <td>NaN</td>\n",
       "      <td>NaN</td>\n",
       "      <td>NaN</td>\n",
       "    </tr>\n",
       "    <tr>\n",
       "      <th>11563</th>\n",
       "      <td>Yuu Yuu Hakusho: Makyo Toitsusen</td>\n",
       "      <td>GEN</td>\n",
       "      <td>1994.0</td>\n",
       "      <td>Fighting</td>\n",
       "      <td>0.00</td>\n",
       "      <td>0.00</td>\n",
       "      <td>0.08</td>\n",
       "      <td>0.00</td>\n",
       "      <td>NaN</td>\n",
       "      <td>NaN</td>\n",
       "      <td>NaN</td>\n",
       "    </tr>\n",
       "    <tr>\n",
       "      <th>11660</th>\n",
       "      <td>Dragon Slayer: The Legend of Heroes</td>\n",
       "      <td>GEN</td>\n",
       "      <td>1994.0</td>\n",
       "      <td>Role-Playing</td>\n",
       "      <td>0.00</td>\n",
       "      <td>0.00</td>\n",
       "      <td>0.08</td>\n",
       "      <td>0.00</td>\n",
       "      <td>NaN</td>\n",
       "      <td>NaN</td>\n",
       "      <td>NaN</td>\n",
       "    </tr>\n",
       "    <tr>\n",
       "      <th>11986</th>\n",
       "      <td>Ecco: The Tides of Time</td>\n",
       "      <td>GEN</td>\n",
       "      <td>1993.0</td>\n",
       "      <td>Adventure</td>\n",
       "      <td>0.00</td>\n",
       "      <td>0.00</td>\n",
       "      <td>0.07</td>\n",
       "      <td>0.00</td>\n",
       "      <td>NaN</td>\n",
       "      <td>NaN</td>\n",
       "      <td>NaN</td>\n",
       "    </tr>\n",
       "    <tr>\n",
       "      <th>12098</th>\n",
       "      <td>Street Fighter II': Special Champion Edition (...</td>\n",
       "      <td>GEN</td>\n",
       "      <td>1993.0</td>\n",
       "      <td>Action</td>\n",
       "      <td>0.00</td>\n",
       "      <td>0.00</td>\n",
       "      <td>0.07</td>\n",
       "      <td>0.00</td>\n",
       "      <td>NaN</td>\n",
       "      <td>NaN</td>\n",
       "      <td>NaN</td>\n",
       "    </tr>\n",
       "    <tr>\n",
       "      <th>12264</th>\n",
       "      <td>Streets of Rage 3</td>\n",
       "      <td>GEN</td>\n",
       "      <td>1993.0</td>\n",
       "      <td>Action</td>\n",
       "      <td>0.00</td>\n",
       "      <td>0.00</td>\n",
       "      <td>0.07</td>\n",
       "      <td>0.00</td>\n",
       "      <td>NaN</td>\n",
       "      <td>NaN</td>\n",
       "      <td>NaN</td>\n",
       "    </tr>\n",
       "    <tr>\n",
       "      <th>12984</th>\n",
       "      <td>Dynamite Headdy</td>\n",
       "      <td>GEN</td>\n",
       "      <td>1993.0</td>\n",
       "      <td>Platform</td>\n",
       "      <td>0.00</td>\n",
       "      <td>0.00</td>\n",
       "      <td>0.05</td>\n",
       "      <td>0.00</td>\n",
       "      <td>NaN</td>\n",
       "      <td>NaN</td>\n",
       "      <td>NaN</td>\n",
       "    </tr>\n",
       "    <tr>\n",
       "      <th>13343</th>\n",
       "      <td>Beyond Oasis</td>\n",
       "      <td>GEN</td>\n",
       "      <td>1993.0</td>\n",
       "      <td>Role-Playing</td>\n",
       "      <td>0.00</td>\n",
       "      <td>0.00</td>\n",
       "      <td>0.05</td>\n",
       "      <td>0.00</td>\n",
       "      <td>NaN</td>\n",
       "      <td>NaN</td>\n",
       "      <td>NaN</td>\n",
       "    </tr>\n",
       "    <tr>\n",
       "      <th>14085</th>\n",
       "      <td>J-League Pro Striker 2</td>\n",
       "      <td>GEN</td>\n",
       "      <td>1994.0</td>\n",
       "      <td>Sports</td>\n",
       "      <td>0.00</td>\n",
       "      <td>0.00</td>\n",
       "      <td>0.04</td>\n",
       "      <td>0.00</td>\n",
       "      <td>NaN</td>\n",
       "      <td>NaN</td>\n",
       "      <td>NaN</td>\n",
       "    </tr>\n",
       "    <tr>\n",
       "      <th>14132</th>\n",
       "      <td>Castlevania Bloodlines</td>\n",
       "      <td>GEN</td>\n",
       "      <td>1994.0</td>\n",
       "      <td>Platform</td>\n",
       "      <td>0.00</td>\n",
       "      <td>0.00</td>\n",
       "      <td>0.04</td>\n",
       "      <td>0.00</td>\n",
       "      <td>NaN</td>\n",
       "      <td>NaN</td>\n",
       "      <td>NaN</td>\n",
       "    </tr>\n",
       "    <tr>\n",
       "      <th>14244</th>\n",
       "      <td>NaN</td>\n",
       "      <td>GEN</td>\n",
       "      <td>1993.0</td>\n",
       "      <td>NaN</td>\n",
       "      <td>0.00</td>\n",
       "      <td>0.00</td>\n",
       "      <td>0.03</td>\n",
       "      <td>0.00</td>\n",
       "      <td>NaN</td>\n",
       "      <td>NaN</td>\n",
       "      <td>NaN</td>\n",
       "    </tr>\n",
       "    <tr>\n",
       "      <th>14488</th>\n",
       "      <td>Puzzle &amp; Action: Tant-R</td>\n",
       "      <td>GEN</td>\n",
       "      <td>1994.0</td>\n",
       "      <td>Misc</td>\n",
       "      <td>0.00</td>\n",
       "      <td>0.00</td>\n",
       "      <td>0.03</td>\n",
       "      <td>0.00</td>\n",
       "      <td>NaN</td>\n",
       "      <td>NaN</td>\n",
       "      <td>NaN</td>\n",
       "    </tr>\n",
       "  </tbody>\n",
       "</table>\n",
       "</div>"
      ],
      "text/plain": [
       "                                                    name platform  \\\n",
       "145                                 Sonic the Hedgehog 2      GEN   \n",
       "257                                   Sonic the Hedgehog      GEN   \n",
       "564                                        Mortal Kombat      GEN   \n",
       "588                                      Streets of Rage      GEN   \n",
       "659                                                  NaN      GEN   \n",
       "832                                              NBA Jam      GEN   \n",
       "960                                     Sonic & Knuckles      GEN   \n",
       "996                                 Sonic the Hedgehog 3      GEN   \n",
       "1099        Street Fighter II': Special Champion Edition      GEN   \n",
       "1365                              Disney's The Lion King      GEN   \n",
       "1453                                     Mortal Kombat 3      GEN   \n",
       "1842                          NBA Jam Tournament Edition      GEN   \n",
       "6451                                       Virtua Racing      GEN   \n",
       "7885                                    Shining Force II      GEN   \n",
       "8893                             Super Street Fighter II      GEN   \n",
       "9000      Lunar 2: Eternal Blue(sales, but wrong system)      GEN   \n",
       "9563                                      Gunstar Heroes      GEN   \n",
       "9787                                    Ecco the Dolphin      GEN   \n",
       "11563                   Yuu Yuu Hakusho: Makyo Toitsusen      GEN   \n",
       "11660                Dragon Slayer: The Legend of Heroes      GEN   \n",
       "11986                            Ecco: The Tides of Time      GEN   \n",
       "12098  Street Fighter II': Special Champion Edition (...      GEN   \n",
       "12264                                  Streets of Rage 3      GEN   \n",
       "12984                                    Dynamite Headdy      GEN   \n",
       "13343                                       Beyond Oasis      GEN   \n",
       "14085                             J-League Pro Striker 2      GEN   \n",
       "14132                             Castlevania Bloodlines      GEN   \n",
       "14244                                                NaN      GEN   \n",
       "14488                            Puzzle & Action: Tant-R      GEN   \n",
       "\n",
       "       year_of_release         genre  na_sales  eu_sales  jp_sales  \\\n",
       "145             1992.0      Platform      4.47      1.20      0.16   \n",
       "257             1991.0      Platform      3.03      0.91      0.26   \n",
       "564             1992.0      Fighting      1.95      0.63      0.00   \n",
       "588             1990.0        Action      1.86      0.55      0.11   \n",
       "659             1993.0           NaN      1.78      0.53      0.00   \n",
       "832             1992.0        Sports      1.75      0.25      0.00   \n",
       "960             1994.0      Platform      1.24      0.43      0.03   \n",
       "996             1994.0      Platform      1.02      0.47      0.20   \n",
       "1099            1992.0      Fighting      1.00      0.30      0.31   \n",
       "1365            1994.0      Platform      0.97      0.37      0.03   \n",
       "1453            1994.0      Fighting      1.03      0.27      0.00   \n",
       "1842            1994.0        Sports      0.95      0.14      0.00   \n",
       "6451            1994.0        Racing      0.00      0.00      0.26   \n",
       "7885            1993.0      Strategy      0.00      0.00      0.19   \n",
       "8893            1993.0      Fighting      0.00      0.00      0.15   \n",
       "9000            1994.0  Role-Playing      0.00      0.00      0.14   \n",
       "9563            1992.0       Shooter      0.00      0.00      0.13   \n",
       "9787            1992.0     Adventure      0.00      0.00      0.12   \n",
       "11563           1994.0      Fighting      0.00      0.00      0.08   \n",
       "11660           1994.0  Role-Playing      0.00      0.00      0.08   \n",
       "11986           1993.0     Adventure      0.00      0.00      0.07   \n",
       "12098           1993.0        Action      0.00      0.00      0.07   \n",
       "12264           1993.0        Action      0.00      0.00      0.07   \n",
       "12984           1993.0      Platform      0.00      0.00      0.05   \n",
       "13343           1993.0  Role-Playing      0.00      0.00      0.05   \n",
       "14085           1994.0        Sports      0.00      0.00      0.04   \n",
       "14132           1994.0      Platform      0.00      0.00      0.04   \n",
       "14244           1993.0           NaN      0.00      0.00      0.03   \n",
       "14488           1994.0          Misc      0.00      0.00      0.03   \n",
       "\n",
       "       other_sales  critic_score user_score rating  \n",
       "145           0.19           NaN        NaN    NaN  \n",
       "257           0.13           NaN        NaN    NaN  \n",
       "564           0.09           NaN        NaN    NaN  \n",
       "588           0.08           NaN        NaN    NaN  \n",
       "659           0.08           NaN        NaN    NaN  \n",
       "832           0.05           NaN        NaN    NaN  \n",
       "960           0.12           NaN        NaN    NaN  \n",
       "996           0.07           NaN        NaN    NaN  \n",
       "1099          0.04           NaN        NaN    NaN  \n",
       "1365          0.05           NaN        NaN    NaN  \n",
       "1453          0.04           NaN        NaN    NaN  \n",
       "1842          0.03           NaN        NaN    NaN  \n",
       "6451          0.00           NaN        NaN    NaN  \n",
       "7885          0.00           NaN        NaN    NaN  \n",
       "8893          0.00           NaN        NaN    NaN  \n",
       "9000          0.00           NaN        NaN    NaN  \n",
       "9563          0.00           NaN        NaN    NaN  \n",
       "9787          0.00           NaN        NaN    NaN  \n",
       "11563         0.00           NaN        NaN    NaN  \n",
       "11660         0.00           NaN        NaN    NaN  \n",
       "11986         0.00           NaN        NaN    NaN  \n",
       "12098         0.00           NaN        NaN    NaN  \n",
       "12264         0.00           NaN        NaN    NaN  \n",
       "12984         0.00           NaN        NaN    NaN  \n",
       "13343         0.00           NaN        NaN    NaN  \n",
       "14085         0.00           NaN        NaN    NaN  \n",
       "14132         0.00           NaN        NaN    NaN  \n",
       "14244         0.00           NaN        NaN    NaN  \n",
       "14488         0.00           NaN        NaN    NaN  "
      ]
     },
     "execution_count": 16,
     "metadata": {},
     "output_type": "execute_result"
    }
   ],
   "source": [
    "game_data.loc[game_data['platform'] == 'GEN']"
   ]
  },
  {
   "cell_type": "markdown",
   "id": "fd988669",
   "metadata": {},
   "source": [
    "We see there is no indication as to what the games might be, so we'll delete them:"
   ]
  },
  {
   "cell_type": "code",
   "execution_count": 17,
   "id": "b5e0ad1d",
   "metadata": {},
   "outputs": [
    {
     "name": "stdout",
     "output_type": "stream",
     "text": [
      "<class 'pandas.core.frame.DataFrame'>\n",
      "Int64Index: 16713 entries, 0 to 16714\n",
      "Data columns (total 11 columns):\n",
      " #   Column           Non-Null Count  Dtype  \n",
      "---  ------           --------------  -----  \n",
      " 0   name             16713 non-null  object \n",
      " 1   platform         16713 non-null  object \n",
      " 2   year_of_release  16444 non-null  float64\n",
      " 3   genre            16713 non-null  object \n",
      " 4   na_sales         16713 non-null  float64\n",
      " 5   eu_sales         16713 non-null  float64\n",
      " 6   jp_sales         16713 non-null  float64\n",
      " 7   other_sales      16713 non-null  float64\n",
      " 8   critic_score     8137 non-null   float64\n",
      " 9   user_score       10014 non-null  object \n",
      " 10  rating           9949 non-null   object \n",
      "dtypes: float64(6), object(5)\n",
      "memory usage: 1.5+ MB\n"
     ]
    }
   ],
   "source": [
    "game_data= game_data.dropna(subset = ['name'])\n",
    "# check\n",
    "game_data.info()"
   ]
  },
  {
   "cell_type": "markdown",
   "id": "07f8532d",
   "metadata": {},
   "source": [
    "That took care of the missing values in the 'genre' column too, so that's good!"
   ]
  },
  {
   "cell_type": "markdown",
   "id": "dc8b42b6",
   "metadata": {},
   "source": [
    "Let's check the missing values in the year of release:"
   ]
  },
  {
   "cell_type": "code",
   "execution_count": 18,
   "id": "173f728a",
   "metadata": {},
   "outputs": [
    {
     "data": {
      "text/html": [
       "<div>\n",
       "<style scoped>\n",
       "    .dataframe tbody tr th:only-of-type {\n",
       "        vertical-align: middle;\n",
       "    }\n",
       "\n",
       "    .dataframe tbody tr th {\n",
       "        vertical-align: top;\n",
       "    }\n",
       "\n",
       "    .dataframe thead th {\n",
       "        text-align: right;\n",
       "    }\n",
       "</style>\n",
       "<table border=\"1\" class=\"dataframe\">\n",
       "  <thead>\n",
       "    <tr style=\"text-align: right;\">\n",
       "      <th></th>\n",
       "      <th>name</th>\n",
       "      <th>platform</th>\n",
       "      <th>year_of_release</th>\n",
       "      <th>genre</th>\n",
       "      <th>na_sales</th>\n",
       "      <th>eu_sales</th>\n",
       "      <th>jp_sales</th>\n",
       "      <th>other_sales</th>\n",
       "      <th>critic_score</th>\n",
       "      <th>user_score</th>\n",
       "      <th>rating</th>\n",
       "    </tr>\n",
       "  </thead>\n",
       "  <tbody>\n",
       "    <tr>\n",
       "      <th>183</th>\n",
       "      <td>Madden NFL 2004</td>\n",
       "      <td>PS2</td>\n",
       "      <td>NaN</td>\n",
       "      <td>Sports</td>\n",
       "      <td>4.26</td>\n",
       "      <td>0.26</td>\n",
       "      <td>0.01</td>\n",
       "      <td>0.71</td>\n",
       "      <td>94.0</td>\n",
       "      <td>8.5</td>\n",
       "      <td>E</td>\n",
       "    </tr>\n",
       "    <tr>\n",
       "      <th>377</th>\n",
       "      <td>FIFA Soccer 2004</td>\n",
       "      <td>PS2</td>\n",
       "      <td>NaN</td>\n",
       "      <td>Sports</td>\n",
       "      <td>0.59</td>\n",
       "      <td>2.36</td>\n",
       "      <td>0.04</td>\n",
       "      <td>0.51</td>\n",
       "      <td>84.0</td>\n",
       "      <td>6.4</td>\n",
       "      <td>E</td>\n",
       "    </tr>\n",
       "    <tr>\n",
       "      <th>456</th>\n",
       "      <td>LEGO Batman: The Videogame</td>\n",
       "      <td>Wii</td>\n",
       "      <td>NaN</td>\n",
       "      <td>Action</td>\n",
       "      <td>1.80</td>\n",
       "      <td>0.97</td>\n",
       "      <td>0.00</td>\n",
       "      <td>0.29</td>\n",
       "      <td>74.0</td>\n",
       "      <td>7.9</td>\n",
       "      <td>E10+</td>\n",
       "    </tr>\n",
       "    <tr>\n",
       "      <th>475</th>\n",
       "      <td>wwe Smackdown vs. Raw 2006</td>\n",
       "      <td>PS2</td>\n",
       "      <td>NaN</td>\n",
       "      <td>Fighting</td>\n",
       "      <td>1.57</td>\n",
       "      <td>1.02</td>\n",
       "      <td>0.00</td>\n",
       "      <td>0.41</td>\n",
       "      <td>NaN</td>\n",
       "      <td>NaN</td>\n",
       "      <td>NaN</td>\n",
       "    </tr>\n",
       "    <tr>\n",
       "      <th>609</th>\n",
       "      <td>Space Invaders</td>\n",
       "      <td>2600</td>\n",
       "      <td>NaN</td>\n",
       "      <td>Shooter</td>\n",
       "      <td>2.36</td>\n",
       "      <td>0.14</td>\n",
       "      <td>0.00</td>\n",
       "      <td>0.03</td>\n",
       "      <td>NaN</td>\n",
       "      <td>NaN</td>\n",
       "      <td>NaN</td>\n",
       "    </tr>\n",
       "    <tr>\n",
       "      <th>...</th>\n",
       "      <td>...</td>\n",
       "      <td>...</td>\n",
       "      <td>...</td>\n",
       "      <td>...</td>\n",
       "      <td>...</td>\n",
       "      <td>...</td>\n",
       "      <td>...</td>\n",
       "      <td>...</td>\n",
       "      <td>...</td>\n",
       "      <td>...</td>\n",
       "      <td>...</td>\n",
       "    </tr>\n",
       "    <tr>\n",
       "      <th>16373</th>\n",
       "      <td>PDC World Championship Darts 2008</td>\n",
       "      <td>PSP</td>\n",
       "      <td>NaN</td>\n",
       "      <td>Sports</td>\n",
       "      <td>0.01</td>\n",
       "      <td>0.00</td>\n",
       "      <td>0.00</td>\n",
       "      <td>0.00</td>\n",
       "      <td>43.0</td>\n",
       "      <td>tbd</td>\n",
       "      <td>E10+</td>\n",
       "    </tr>\n",
       "    <tr>\n",
       "      <th>16405</th>\n",
       "      <td>Freaky Flyers</td>\n",
       "      <td>GC</td>\n",
       "      <td>NaN</td>\n",
       "      <td>Racing</td>\n",
       "      <td>0.01</td>\n",
       "      <td>0.00</td>\n",
       "      <td>0.00</td>\n",
       "      <td>0.00</td>\n",
       "      <td>69.0</td>\n",
       "      <td>6.5</td>\n",
       "      <td>T</td>\n",
       "    </tr>\n",
       "    <tr>\n",
       "      <th>16448</th>\n",
       "      <td>Inversion</td>\n",
       "      <td>PC</td>\n",
       "      <td>NaN</td>\n",
       "      <td>Shooter</td>\n",
       "      <td>0.01</td>\n",
       "      <td>0.00</td>\n",
       "      <td>0.00</td>\n",
       "      <td>0.00</td>\n",
       "      <td>59.0</td>\n",
       "      <td>6.7</td>\n",
       "      <td>M</td>\n",
       "    </tr>\n",
       "    <tr>\n",
       "      <th>16458</th>\n",
       "      <td>Hakuouki: Shinsengumi Kitan</td>\n",
       "      <td>PS3</td>\n",
       "      <td>NaN</td>\n",
       "      <td>Adventure</td>\n",
       "      <td>0.01</td>\n",
       "      <td>0.00</td>\n",
       "      <td>0.00</td>\n",
       "      <td>0.00</td>\n",
       "      <td>NaN</td>\n",
       "      <td>NaN</td>\n",
       "      <td>NaN</td>\n",
       "    </tr>\n",
       "    <tr>\n",
       "      <th>16522</th>\n",
       "      <td>Virtua Quest</td>\n",
       "      <td>GC</td>\n",
       "      <td>NaN</td>\n",
       "      <td>Role-Playing</td>\n",
       "      <td>0.01</td>\n",
       "      <td>0.00</td>\n",
       "      <td>0.00</td>\n",
       "      <td>0.00</td>\n",
       "      <td>55.0</td>\n",
       "      <td>5.5</td>\n",
       "      <td>T</td>\n",
       "    </tr>\n",
       "  </tbody>\n",
       "</table>\n",
       "<p>269 rows × 11 columns</p>\n",
       "</div>"
      ],
      "text/plain": [
       "                                    name platform  year_of_release  \\\n",
       "183                      Madden NFL 2004      PS2              NaN   \n",
       "377                     FIFA Soccer 2004      PS2              NaN   \n",
       "456           LEGO Batman: The Videogame      Wii              NaN   \n",
       "475           wwe Smackdown vs. Raw 2006      PS2              NaN   \n",
       "609                       Space Invaders     2600              NaN   \n",
       "...                                  ...      ...              ...   \n",
       "16373  PDC World Championship Darts 2008      PSP              NaN   \n",
       "16405                      Freaky Flyers       GC              NaN   \n",
       "16448                          Inversion       PC              NaN   \n",
       "16458        Hakuouki: Shinsengumi Kitan      PS3              NaN   \n",
       "16522                       Virtua Quest       GC              NaN   \n",
       "\n",
       "              genre  na_sales  eu_sales  jp_sales  other_sales  critic_score  \\\n",
       "183          Sports      4.26      0.26      0.01         0.71          94.0   \n",
       "377          Sports      0.59      2.36      0.04         0.51          84.0   \n",
       "456          Action      1.80      0.97      0.00         0.29          74.0   \n",
       "475        Fighting      1.57      1.02      0.00         0.41           NaN   \n",
       "609         Shooter      2.36      0.14      0.00         0.03           NaN   \n",
       "...             ...       ...       ...       ...          ...           ...   \n",
       "16373        Sports      0.01      0.00      0.00         0.00          43.0   \n",
       "16405        Racing      0.01      0.00      0.00         0.00          69.0   \n",
       "16448       Shooter      0.01      0.00      0.00         0.00          59.0   \n",
       "16458     Adventure      0.01      0.00      0.00         0.00           NaN   \n",
       "16522  Role-Playing      0.01      0.00      0.00         0.00          55.0   \n",
       "\n",
       "      user_score rating  \n",
       "183          8.5      E  \n",
       "377          6.4      E  \n",
       "456          7.9   E10+  \n",
       "475          NaN    NaN  \n",
       "609          NaN    NaN  \n",
       "...          ...    ...  \n",
       "16373        tbd   E10+  \n",
       "16405        6.5      T  \n",
       "16448        6.7      M  \n",
       "16458        NaN    NaN  \n",
       "16522        5.5      T  \n",
       "\n",
       "[269 rows x 11 columns]"
      ]
     },
     "execution_count": 18,
     "metadata": {},
     "output_type": "execute_result"
    }
   ],
   "source": [
    "game_data.loc[game_data['year_of_release'].isnull()]"
   ]
  },
  {
   "cell_type": "markdown",
   "id": "004d4d61",
   "metadata": {},
   "source": [
    "These missing values look random. Some maybe have the year of their release in the title, but thats not all the video games. This is a very small percentage of the data, so let's delete it:"
   ]
  },
  {
   "cell_type": "code",
   "execution_count": 19,
   "id": "580dc0be",
   "metadata": {
    "scrolled": true
   },
   "outputs": [
    {
     "name": "stdout",
     "output_type": "stream",
     "text": [
      "<class 'pandas.core.frame.DataFrame'>\n",
      "RangeIndex: 16444 entries, 0 to 16443\n",
      "Data columns (total 11 columns):\n",
      " #   Column           Non-Null Count  Dtype  \n",
      "---  ------           --------------  -----  \n",
      " 0   name             16444 non-null  object \n",
      " 1   platform         16444 non-null  object \n",
      " 2   year_of_release  16444 non-null  float64\n",
      " 3   genre            16444 non-null  object \n",
      " 4   na_sales         16444 non-null  float64\n",
      " 5   eu_sales         16444 non-null  float64\n",
      " 6   jp_sales         16444 non-null  float64\n",
      " 7   other_sales      16444 non-null  float64\n",
      " 8   critic_score     7983 non-null   float64\n",
      " 9   user_score       9839 non-null   object \n",
      " 10  rating           9768 non-null   object \n",
      "dtypes: float64(6), object(5)\n",
      "memory usage: 1.4+ MB\n"
     ]
    }
   ],
   "source": [
    "game_data = game_data.dropna(subset = ['year_of_release'])\n",
    "game_data = game_data.reset_index(drop = True)\n",
    "#check\n",
    "game_data.info()"
   ]
  },
  {
   "cell_type": "markdown",
   "id": "26db057e",
   "metadata": {},
   "source": [
    "Let's move on to the rating mising values:"
   ]
  },
  {
   "cell_type": "code",
   "execution_count": 20,
   "id": "4eee7fa4",
   "metadata": {},
   "outputs": [
    {
     "data": {
      "text/html": [
       "<div>\n",
       "<style scoped>\n",
       "    .dataframe tbody tr th:only-of-type {\n",
       "        vertical-align: middle;\n",
       "    }\n",
       "\n",
       "    .dataframe tbody tr th {\n",
       "        vertical-align: top;\n",
       "    }\n",
       "\n",
       "    .dataframe thead th {\n",
       "        text-align: right;\n",
       "    }\n",
       "</style>\n",
       "<table border=\"1\" class=\"dataframe\">\n",
       "  <thead>\n",
       "    <tr style=\"text-align: right;\">\n",
       "      <th></th>\n",
       "      <th>name</th>\n",
       "      <th>platform</th>\n",
       "      <th>year_of_release</th>\n",
       "      <th>genre</th>\n",
       "      <th>na_sales</th>\n",
       "      <th>eu_sales</th>\n",
       "      <th>jp_sales</th>\n",
       "      <th>other_sales</th>\n",
       "      <th>critic_score</th>\n",
       "      <th>user_score</th>\n",
       "      <th>rating</th>\n",
       "    </tr>\n",
       "  </thead>\n",
       "  <tbody>\n",
       "    <tr>\n",
       "      <th>1</th>\n",
       "      <td>Super Mario Bros.</td>\n",
       "      <td>NES</td>\n",
       "      <td>1985.0</td>\n",
       "      <td>Platform</td>\n",
       "      <td>29.08</td>\n",
       "      <td>3.58</td>\n",
       "      <td>6.81</td>\n",
       "      <td>0.77</td>\n",
       "      <td>NaN</td>\n",
       "      <td>NaN</td>\n",
       "      <td>NaN</td>\n",
       "    </tr>\n",
       "    <tr>\n",
       "      <th>4</th>\n",
       "      <td>Pokemon Red/Pokemon Blue</td>\n",
       "      <td>GB</td>\n",
       "      <td>1996.0</td>\n",
       "      <td>Role-Playing</td>\n",
       "      <td>11.27</td>\n",
       "      <td>8.89</td>\n",
       "      <td>10.22</td>\n",
       "      <td>1.00</td>\n",
       "      <td>NaN</td>\n",
       "      <td>NaN</td>\n",
       "      <td>NaN</td>\n",
       "    </tr>\n",
       "    <tr>\n",
       "      <th>5</th>\n",
       "      <td>Tetris</td>\n",
       "      <td>GB</td>\n",
       "      <td>1989.0</td>\n",
       "      <td>Puzzle</td>\n",
       "      <td>23.20</td>\n",
       "      <td>2.26</td>\n",
       "      <td>4.22</td>\n",
       "      <td>0.58</td>\n",
       "      <td>NaN</td>\n",
       "      <td>NaN</td>\n",
       "      <td>NaN</td>\n",
       "    </tr>\n",
       "    <tr>\n",
       "      <th>9</th>\n",
       "      <td>Duck Hunt</td>\n",
       "      <td>NES</td>\n",
       "      <td>1984.0</td>\n",
       "      <td>Shooter</td>\n",
       "      <td>26.93</td>\n",
       "      <td>0.63</td>\n",
       "      <td>0.28</td>\n",
       "      <td>0.47</td>\n",
       "      <td>NaN</td>\n",
       "      <td>NaN</td>\n",
       "      <td>NaN</td>\n",
       "    </tr>\n",
       "    <tr>\n",
       "      <th>10</th>\n",
       "      <td>Nintendogs</td>\n",
       "      <td>DS</td>\n",
       "      <td>2005.0</td>\n",
       "      <td>Simulation</td>\n",
       "      <td>9.05</td>\n",
       "      <td>10.95</td>\n",
       "      <td>1.93</td>\n",
       "      <td>2.74</td>\n",
       "      <td>NaN</td>\n",
       "      <td>NaN</td>\n",
       "      <td>NaN</td>\n",
       "    </tr>\n",
       "    <tr>\n",
       "      <th>...</th>\n",
       "      <td>...</td>\n",
       "      <td>...</td>\n",
       "      <td>...</td>\n",
       "      <td>...</td>\n",
       "      <td>...</td>\n",
       "      <td>...</td>\n",
       "      <td>...</td>\n",
       "      <td>...</td>\n",
       "      <td>...</td>\n",
       "      <td>...</td>\n",
       "      <td>...</td>\n",
       "    </tr>\n",
       "    <tr>\n",
       "      <th>16439</th>\n",
       "      <td>Samurai Warriors: Sanada Maru</td>\n",
       "      <td>PS3</td>\n",
       "      <td>2016.0</td>\n",
       "      <td>Action</td>\n",
       "      <td>0.00</td>\n",
       "      <td>0.00</td>\n",
       "      <td>0.01</td>\n",
       "      <td>0.00</td>\n",
       "      <td>NaN</td>\n",
       "      <td>NaN</td>\n",
       "      <td>NaN</td>\n",
       "    </tr>\n",
       "    <tr>\n",
       "      <th>16440</th>\n",
       "      <td>LMA Manager 2007</td>\n",
       "      <td>X360</td>\n",
       "      <td>2006.0</td>\n",
       "      <td>Sports</td>\n",
       "      <td>0.00</td>\n",
       "      <td>0.01</td>\n",
       "      <td>0.00</td>\n",
       "      <td>0.00</td>\n",
       "      <td>NaN</td>\n",
       "      <td>NaN</td>\n",
       "      <td>NaN</td>\n",
       "    </tr>\n",
       "    <tr>\n",
       "      <th>16441</th>\n",
       "      <td>Haitaka no Psychedelica</td>\n",
       "      <td>PSV</td>\n",
       "      <td>2016.0</td>\n",
       "      <td>Adventure</td>\n",
       "      <td>0.00</td>\n",
       "      <td>0.00</td>\n",
       "      <td>0.01</td>\n",
       "      <td>0.00</td>\n",
       "      <td>NaN</td>\n",
       "      <td>NaN</td>\n",
       "      <td>NaN</td>\n",
       "    </tr>\n",
       "    <tr>\n",
       "      <th>16442</th>\n",
       "      <td>Spirits &amp; Spells</td>\n",
       "      <td>GBA</td>\n",
       "      <td>2003.0</td>\n",
       "      <td>Platform</td>\n",
       "      <td>0.01</td>\n",
       "      <td>0.00</td>\n",
       "      <td>0.00</td>\n",
       "      <td>0.00</td>\n",
       "      <td>NaN</td>\n",
       "      <td>NaN</td>\n",
       "      <td>NaN</td>\n",
       "    </tr>\n",
       "    <tr>\n",
       "      <th>16443</th>\n",
       "      <td>Winning Post 8 2016</td>\n",
       "      <td>PSV</td>\n",
       "      <td>2016.0</td>\n",
       "      <td>Simulation</td>\n",
       "      <td>0.00</td>\n",
       "      <td>0.00</td>\n",
       "      <td>0.01</td>\n",
       "      <td>0.00</td>\n",
       "      <td>NaN</td>\n",
       "      <td>NaN</td>\n",
       "      <td>NaN</td>\n",
       "    </tr>\n",
       "  </tbody>\n",
       "</table>\n",
       "<p>6676 rows × 11 columns</p>\n",
       "</div>"
      ],
      "text/plain": [
       "                                name platform  year_of_release         genre  \\\n",
       "1                  Super Mario Bros.      NES           1985.0      Platform   \n",
       "4           Pokemon Red/Pokemon Blue       GB           1996.0  Role-Playing   \n",
       "5                             Tetris       GB           1989.0        Puzzle   \n",
       "9                          Duck Hunt      NES           1984.0       Shooter   \n",
       "10                        Nintendogs       DS           2005.0    Simulation   \n",
       "...                              ...      ...              ...           ...   \n",
       "16439  Samurai Warriors: Sanada Maru      PS3           2016.0        Action   \n",
       "16440               LMA Manager 2007     X360           2006.0        Sports   \n",
       "16441        Haitaka no Psychedelica      PSV           2016.0     Adventure   \n",
       "16442               Spirits & Spells      GBA           2003.0      Platform   \n",
       "16443            Winning Post 8 2016      PSV           2016.0    Simulation   \n",
       "\n",
       "       na_sales  eu_sales  jp_sales  other_sales  critic_score user_score  \\\n",
       "1         29.08      3.58      6.81         0.77           NaN        NaN   \n",
       "4         11.27      8.89     10.22         1.00           NaN        NaN   \n",
       "5         23.20      2.26      4.22         0.58           NaN        NaN   \n",
       "9         26.93      0.63      0.28         0.47           NaN        NaN   \n",
       "10         9.05     10.95      1.93         2.74           NaN        NaN   \n",
       "...         ...       ...       ...          ...           ...        ...   \n",
       "16439      0.00      0.00      0.01         0.00           NaN        NaN   \n",
       "16440      0.00      0.01      0.00         0.00           NaN        NaN   \n",
       "16441      0.00      0.00      0.01         0.00           NaN        NaN   \n",
       "16442      0.01      0.00      0.00         0.00           NaN        NaN   \n",
       "16443      0.00      0.00      0.01         0.00           NaN        NaN   \n",
       "\n",
       "      rating  \n",
       "1        NaN  \n",
       "4        NaN  \n",
       "5        NaN  \n",
       "9        NaN  \n",
       "10       NaN  \n",
       "...      ...  \n",
       "16439    NaN  \n",
       "16440    NaN  \n",
       "16441    NaN  \n",
       "16442    NaN  \n",
       "16443    NaN  \n",
       "\n",
       "[6676 rows x 11 columns]"
      ]
     },
     "execution_count": 20,
     "metadata": {},
     "output_type": "execute_result"
    }
   ],
   "source": [
    "game_data.loc[game_data['rating'].isnull()]"
   ]
  },
  {
   "cell_type": "markdown",
   "id": "960bd51f",
   "metadata": {},
   "source": [
    "These values seem like games that weren't given a rating.. Let's classify these as 'Unknown':"
   ]
  },
  {
   "cell_type": "code",
   "execution_count": 21,
   "id": "573f877a",
   "metadata": {},
   "outputs": [],
   "source": [
    "game_data['rating'] = game_data['rating'].fillna('Unknown')"
   ]
  },
  {
   "cell_type": "code",
   "execution_count": 22,
   "id": "1be57775",
   "metadata": {
    "scrolled": true
   },
   "outputs": [
    {
     "name": "stdout",
     "output_type": "stream",
     "text": [
      "<class 'pandas.core.frame.DataFrame'>\n",
      "RangeIndex: 16444 entries, 0 to 16443\n",
      "Data columns (total 11 columns):\n",
      " #   Column           Non-Null Count  Dtype  \n",
      "---  ------           --------------  -----  \n",
      " 0   name             16444 non-null  object \n",
      " 1   platform         16444 non-null  object \n",
      " 2   year_of_release  16444 non-null  float64\n",
      " 3   genre            16444 non-null  object \n",
      " 4   na_sales         16444 non-null  float64\n",
      " 5   eu_sales         16444 non-null  float64\n",
      " 6   jp_sales         16444 non-null  float64\n",
      " 7   other_sales      16444 non-null  float64\n",
      " 8   critic_score     7983 non-null   float64\n",
      " 9   user_score       9839 non-null   object \n",
      " 10  rating           16444 non-null  object \n",
      "dtypes: float64(6), object(5)\n",
      "memory usage: 1.4+ MB\n"
     ]
    }
   ],
   "source": [
    "game_data.info()"
   ]
  },
  {
   "cell_type": "markdown",
   "id": "b520df75",
   "metadata": {},
   "source": [
    "Now, let's assign missing values to 'user_score'. Here we need to also fill in missing values, and replace values with 'tbd'. My assumption is that the user score and the critic score are very correlated. Therfore, Let's assign the critic score divided by 10 to the user score:"
   ]
  },
  {
   "cell_type": "code",
   "execution_count": 23,
   "id": "ecf90a65",
   "metadata": {},
   "outputs": [
    {
     "name": "stdout",
     "output_type": "stream",
     "text": [
      "<class 'pandas.core.frame.DataFrame'>\n",
      "RangeIndex: 16444 entries, 0 to 16443\n",
      "Data columns (total 11 columns):\n",
      " #   Column           Non-Null Count  Dtype  \n",
      "---  ------           --------------  -----  \n",
      " 0   name             16444 non-null  object \n",
      " 1   platform         16444 non-null  object \n",
      " 2   year_of_release  16444 non-null  float64\n",
      " 3   genre            16444 non-null  object \n",
      " 4   na_sales         16444 non-null  float64\n",
      " 5   eu_sales         16444 non-null  float64\n",
      " 6   jp_sales         16444 non-null  float64\n",
      " 7   other_sales      16444 non-null  float64\n",
      " 8   critic_score     7983 non-null   float64\n",
      " 9   user_score       9872 non-null   object \n",
      " 10  rating           16444 non-null  object \n",
      "dtypes: float64(6), object(5)\n",
      "memory usage: 1.4+ MB\n"
     ]
    }
   ],
   "source": [
    "game_data['user_score'] = np.where((game_data['user_score'].isnull()), (game_data['critic_score'] / 10), game_data['user_score'])\n",
    "#check\n",
    "game_data.info()"
   ]
  },
  {
   "cell_type": "markdown",
   "id": "6dfd4d0a",
   "metadata": {},
   "source": [
    "Now we need to check the 'tbd' values in the user_score column:"
   ]
  },
  {
   "cell_type": "code",
   "execution_count": 24,
   "id": "0f6f249e",
   "metadata": {
    "scrolled": true
   },
   "outputs": [
    {
     "data": {
      "text/html": [
       "<div>\n",
       "<style scoped>\n",
       "    .dataframe tbody tr th:only-of-type {\n",
       "        vertical-align: middle;\n",
       "    }\n",
       "\n",
       "    .dataframe tbody tr th {\n",
       "        vertical-align: top;\n",
       "    }\n",
       "\n",
       "    .dataframe thead th {\n",
       "        text-align: right;\n",
       "    }\n",
       "</style>\n",
       "<table border=\"1\" class=\"dataframe\">\n",
       "  <thead>\n",
       "    <tr style=\"text-align: right;\">\n",
       "      <th></th>\n",
       "      <th>name</th>\n",
       "      <th>platform</th>\n",
       "      <th>year_of_release</th>\n",
       "      <th>genre</th>\n",
       "      <th>na_sales</th>\n",
       "      <th>eu_sales</th>\n",
       "      <th>jp_sales</th>\n",
       "      <th>other_sales</th>\n",
       "      <th>critic_score</th>\n",
       "      <th>user_score</th>\n",
       "      <th>rating</th>\n",
       "    </tr>\n",
       "  </thead>\n",
       "  <tbody>\n",
       "    <tr>\n",
       "      <th>119</th>\n",
       "      <td>Zumba Fitness</td>\n",
       "      <td>Wii</td>\n",
       "      <td>2010.0</td>\n",
       "      <td>Sports</td>\n",
       "      <td>3.45</td>\n",
       "      <td>2.59</td>\n",
       "      <td>0.0</td>\n",
       "      <td>0.66</td>\n",
       "      <td>NaN</td>\n",
       "      <td>tbd</td>\n",
       "      <td>E</td>\n",
       "    </tr>\n",
       "    <tr>\n",
       "      <th>300</th>\n",
       "      <td>Namco Museum: 50th Anniversary</td>\n",
       "      <td>PS2</td>\n",
       "      <td>2005.0</td>\n",
       "      <td>Misc</td>\n",
       "      <td>2.08</td>\n",
       "      <td>1.35</td>\n",
       "      <td>0.0</td>\n",
       "      <td>0.54</td>\n",
       "      <td>61.0</td>\n",
       "      <td>tbd</td>\n",
       "      <td>E10+</td>\n",
       "    </tr>\n",
       "    <tr>\n",
       "      <th>516</th>\n",
       "      <td>Zumba Fitness 2</td>\n",
       "      <td>Wii</td>\n",
       "      <td>2011.0</td>\n",
       "      <td>Sports</td>\n",
       "      <td>1.51</td>\n",
       "      <td>1.03</td>\n",
       "      <td>0.0</td>\n",
       "      <td>0.27</td>\n",
       "      <td>NaN</td>\n",
       "      <td>tbd</td>\n",
       "      <td>T</td>\n",
       "    </tr>\n",
       "    <tr>\n",
       "      <th>639</th>\n",
       "      <td>uDraw Studio</td>\n",
       "      <td>Wii</td>\n",
       "      <td>2010.0</td>\n",
       "      <td>Misc</td>\n",
       "      <td>1.65</td>\n",
       "      <td>0.57</td>\n",
       "      <td>0.0</td>\n",
       "      <td>0.20</td>\n",
       "      <td>71.0</td>\n",
       "      <td>tbd</td>\n",
       "      <td>E</td>\n",
       "    </tr>\n",
       "    <tr>\n",
       "      <th>709</th>\n",
       "      <td>Just Dance Kids</td>\n",
       "      <td>Wii</td>\n",
       "      <td>2010.0</td>\n",
       "      <td>Misc</td>\n",
       "      <td>1.52</td>\n",
       "      <td>0.54</td>\n",
       "      <td>0.0</td>\n",
       "      <td>0.18</td>\n",
       "      <td>NaN</td>\n",
       "      <td>tbd</td>\n",
       "      <td>E</td>\n",
       "    </tr>\n",
       "    <tr>\n",
       "      <th>...</th>\n",
       "      <td>...</td>\n",
       "      <td>...</td>\n",
       "      <td>...</td>\n",
       "      <td>...</td>\n",
       "      <td>...</td>\n",
       "      <td>...</td>\n",
       "      <td>...</td>\n",
       "      <td>...</td>\n",
       "      <td>...</td>\n",
       "      <td>...</td>\n",
       "      <td>...</td>\n",
       "    </tr>\n",
       "    <tr>\n",
       "      <th>16424</th>\n",
       "      <td>Planet Monsters</td>\n",
       "      <td>GBA</td>\n",
       "      <td>2001.0</td>\n",
       "      <td>Action</td>\n",
       "      <td>0.01</td>\n",
       "      <td>0.00</td>\n",
       "      <td>0.0</td>\n",
       "      <td>0.00</td>\n",
       "      <td>67.0</td>\n",
       "      <td>tbd</td>\n",
       "      <td>E</td>\n",
       "    </tr>\n",
       "    <tr>\n",
       "      <th>16426</th>\n",
       "      <td>Bust-A-Move 3000</td>\n",
       "      <td>GC</td>\n",
       "      <td>2003.0</td>\n",
       "      <td>Puzzle</td>\n",
       "      <td>0.01</td>\n",
       "      <td>0.00</td>\n",
       "      <td>0.0</td>\n",
       "      <td>0.00</td>\n",
       "      <td>53.0</td>\n",
       "      <td>tbd</td>\n",
       "      <td>E</td>\n",
       "    </tr>\n",
       "    <tr>\n",
       "      <th>16427</th>\n",
       "      <td>Mega Brain Boost</td>\n",
       "      <td>DS</td>\n",
       "      <td>2008.0</td>\n",
       "      <td>Puzzle</td>\n",
       "      <td>0.01</td>\n",
       "      <td>0.00</td>\n",
       "      <td>0.0</td>\n",
       "      <td>0.00</td>\n",
       "      <td>48.0</td>\n",
       "      <td>tbd</td>\n",
       "      <td>E</td>\n",
       "    </tr>\n",
       "    <tr>\n",
       "      <th>16433</th>\n",
       "      <td>Plushees</td>\n",
       "      <td>DS</td>\n",
       "      <td>2008.0</td>\n",
       "      <td>Simulation</td>\n",
       "      <td>0.01</td>\n",
       "      <td>0.00</td>\n",
       "      <td>0.0</td>\n",
       "      <td>0.00</td>\n",
       "      <td>NaN</td>\n",
       "      <td>tbd</td>\n",
       "      <td>E</td>\n",
       "    </tr>\n",
       "    <tr>\n",
       "      <th>16435</th>\n",
       "      <td>Men in Black II: Alien Escape</td>\n",
       "      <td>GC</td>\n",
       "      <td>2003.0</td>\n",
       "      <td>Shooter</td>\n",
       "      <td>0.01</td>\n",
       "      <td>0.00</td>\n",
       "      <td>0.0</td>\n",
       "      <td>0.00</td>\n",
       "      <td>NaN</td>\n",
       "      <td>tbd</td>\n",
       "      <td>T</td>\n",
       "    </tr>\n",
       "  </tbody>\n",
       "</table>\n",
       "<p>2376 rows × 11 columns</p>\n",
       "</div>"
      ],
      "text/plain": [
       "                                 name platform  year_of_release       genre  \\\n",
       "119                     Zumba Fitness      Wii           2010.0      Sports   \n",
       "300    Namco Museum: 50th Anniversary      PS2           2005.0        Misc   \n",
       "516                   Zumba Fitness 2      Wii           2011.0      Sports   \n",
       "639                      uDraw Studio      Wii           2010.0        Misc   \n",
       "709                   Just Dance Kids      Wii           2010.0        Misc   \n",
       "...                               ...      ...              ...         ...   \n",
       "16424                 Planet Monsters      GBA           2001.0      Action   \n",
       "16426                Bust-A-Move 3000       GC           2003.0      Puzzle   \n",
       "16427                Mega Brain Boost       DS           2008.0      Puzzle   \n",
       "16433                        Plushees       DS           2008.0  Simulation   \n",
       "16435   Men in Black II: Alien Escape       GC           2003.0     Shooter   \n",
       "\n",
       "       na_sales  eu_sales  jp_sales  other_sales  critic_score user_score  \\\n",
       "119        3.45      2.59       0.0         0.66           NaN        tbd   \n",
       "300        2.08      1.35       0.0         0.54          61.0        tbd   \n",
       "516        1.51      1.03       0.0         0.27           NaN        tbd   \n",
       "639        1.65      0.57       0.0         0.20          71.0        tbd   \n",
       "709        1.52      0.54       0.0         0.18           NaN        tbd   \n",
       "...         ...       ...       ...          ...           ...        ...   \n",
       "16424      0.01      0.00       0.0         0.00          67.0        tbd   \n",
       "16426      0.01      0.00       0.0         0.00          53.0        tbd   \n",
       "16427      0.01      0.00       0.0         0.00          48.0        tbd   \n",
       "16433      0.01      0.00       0.0         0.00           NaN        tbd   \n",
       "16435      0.01      0.00       0.0         0.00           NaN        tbd   \n",
       "\n",
       "      rating  \n",
       "119        E  \n",
       "300     E10+  \n",
       "516        T  \n",
       "639        E  \n",
       "709        E  \n",
       "...      ...  \n",
       "16424      E  \n",
       "16426      E  \n",
       "16427      E  \n",
       "16433      E  \n",
       "16435      T  \n",
       "\n",
       "[2376 rows x 11 columns]"
      ]
     },
     "execution_count": 24,
     "metadata": {},
     "output_type": "execute_result"
    }
   ],
   "source": [
    "game_data.loc[(game_data['user_score'] == 'tbd')]"
   ]
  },
  {
   "cell_type": "markdown",
   "id": "bec06e2f",
   "metadata": {},
   "source": [
    "'tbd' = To be dicided. This means that the game did get scores, but not enough to publish an official average on the website. Since we know the games did get reviews, just not enough, we can assume that the reviews are simillar to other games from the same genre. Let's fill that in: "
   ]
  },
  {
   "cell_type": "code",
   "execution_count": 25,
   "id": "81205c85",
   "metadata": {},
   "outputs": [
    {
     "name": "stderr",
     "output_type": "stream",
     "text": [
      "/home/jovyan/.local/lib/python3.7/site-packages/pandas/core/frame.py:3607: SettingWithCopyWarning: \n",
      "A value is trying to be set on a copy of a slice from a DataFrame.\n",
      "Try using .loc[row_indexer,col_indexer] = value instead\n",
      "\n",
      "See the caveats in the documentation: https://pandas.pydata.org/pandas-docs/stable/user_guide/indexing.html#returning-a-view-versus-a-copy\n",
      "  self._set_item(key, value)\n",
      "/opt/conda/lib/python3.7/site-packages/ipykernel_launcher.py:6: SettingWithCopyWarning: \n",
      "A value is trying to be set on a copy of a slice from a DataFrame\n",
      "\n",
      "See the caveats in the documentation: https://pandas.pydata.org/pandas-docs/stable/user_guide/indexing.html#returning-a-view-versus-a-copy\n",
      "  \n"
     ]
    },
    {
     "data": {
      "text/plain": [
       "name               0\n",
       "platform           0\n",
       "year_of_release    0\n",
       "genre              0\n",
       "na_sales           0\n",
       "eu_sales           0\n",
       "jp_sales           0\n",
       "other_sales        0\n",
       "critic_score       0\n",
       "user_score         0\n",
       "rating             0\n",
       "dtype: int64"
      ]
     },
     "execution_count": 25,
     "metadata": {},
     "output_type": "execute_result"
    }
   ],
   "source": [
    "grouped_rating = game_data.loc[game_data['user_score'] != 'tbd']\n",
    "grouped_rating['user_score'] = grouped_rating['user_score'].astype('float')\n",
    "grouped_rating = grouped_rating.groupby('genre')['user_score'].mean()\n",
    "for i in game_data.index:\n",
    "            if game_data['user_score'][i] =='tbd':\n",
    "                game_data['user_score'][i] = grouped_rating[game_data['genre'][i]]\n",
    "# checking everything is complete\n",
    "game_data.loc[(game_data['user_score'] == 'tbd')].count()"
   ]
  },
  {
   "cell_type": "markdown",
   "id": "cac9500f",
   "metadata": {},
   "source": [
    "Great! We handled the tbd values!"
   ]
  },
  {
   "cell_type": "markdown",
   "id": "f692191a",
   "metadata": {},
   "source": [
    "Now, we can change the 'user_score' to float:"
   ]
  },
  {
   "cell_type": "code",
   "execution_count": 26,
   "id": "3e4e9db0",
   "metadata": {
    "scrolled": true
   },
   "outputs": [
    {
     "name": "stdout",
     "output_type": "stream",
     "text": [
      "<class 'pandas.core.frame.DataFrame'>\n",
      "RangeIndex: 16444 entries, 0 to 16443\n",
      "Data columns (total 11 columns):\n",
      " #   Column           Non-Null Count  Dtype  \n",
      "---  ------           --------------  -----  \n",
      " 0   name             16444 non-null  object \n",
      " 1   platform         16444 non-null  object \n",
      " 2   year_of_release  16444 non-null  float64\n",
      " 3   genre            16444 non-null  object \n",
      " 4   na_sales         16444 non-null  float64\n",
      " 5   eu_sales         16444 non-null  float64\n",
      " 6   jp_sales         16444 non-null  float64\n",
      " 7   other_sales      16444 non-null  float64\n",
      " 8   critic_score     7983 non-null   float64\n",
      " 9   user_score       9872 non-null   float64\n",
      " 10  rating           16444 non-null  object \n",
      "dtypes: float64(7), object(4)\n",
      "memory usage: 1.4+ MB\n"
     ]
    }
   ],
   "source": [
    "game_data['user_score'] = game_data['user_score'].astype('float')\n",
    "game_data.info()"
   ]
  },
  {
   "cell_type": "markdown",
   "id": "1bb744a7",
   "metadata": {},
   "source": [
    "Let's do the same the other way round:"
   ]
  },
  {
   "cell_type": "code",
   "execution_count": 27,
   "id": "3508f031",
   "metadata": {},
   "outputs": [
    {
     "name": "stdout",
     "output_type": "stream",
     "text": [
      "<class 'pandas.core.frame.DataFrame'>\n",
      "RangeIndex: 16444 entries, 0 to 16443\n",
      "Data columns (total 11 columns):\n",
      " #   Column           Non-Null Count  Dtype  \n",
      "---  ------           --------------  -----  \n",
      " 0   name             16444 non-null  object \n",
      " 1   platform         16444 non-null  object \n",
      " 2   year_of_release  16444 non-null  float64\n",
      " 3   genre            16444 non-null  object \n",
      " 4   na_sales         16444 non-null  float64\n",
      " 5   eu_sales         16444 non-null  float64\n",
      " 6   jp_sales         16444 non-null  float64\n",
      " 7   other_sales      16444 non-null  float64\n",
      " 8   critic_score     9872 non-null   float64\n",
      " 9   user_score       9872 non-null   float64\n",
      " 10  rating           16444 non-null  object \n",
      "dtypes: float64(7), object(4)\n",
      "memory usage: 1.4+ MB\n"
     ]
    }
   ],
   "source": [
    "game_data['critic_score'] = np.where((game_data['critic_score'].isnull()), (game_data['user_score'] * 10), game_data['critic_score'])\n",
    "game_data.info()"
   ]
  },
  {
   "cell_type": "markdown",
   "id": "3863b46d",
   "metadata": {},
   "source": [
    "We still have a lot of missing values.. these values are might old games that didn't get reviews online, or minor games that didn't get reviews at all. Anyway, we can't determine these reviews based on the data we have, so we'll assign an indicator for us to know it's a missing value"
   ]
  },
  {
   "cell_type": "code",
   "execution_count": 28,
   "id": "ba939c2b",
   "metadata": {},
   "outputs": [
    {
     "name": "stdout",
     "output_type": "stream",
     "text": [
      "<class 'pandas.core.frame.DataFrame'>\n",
      "RangeIndex: 16444 entries, 0 to 16443\n",
      "Data columns (total 11 columns):\n",
      " #   Column           Non-Null Count  Dtype  \n",
      "---  ------           --------------  -----  \n",
      " 0   name             16444 non-null  object \n",
      " 1   platform         16444 non-null  object \n",
      " 2   year_of_release  16444 non-null  float64\n",
      " 3   genre            16444 non-null  object \n",
      " 4   na_sales         16444 non-null  float64\n",
      " 5   eu_sales         16444 non-null  float64\n",
      " 6   jp_sales         16444 non-null  float64\n",
      " 7   other_sales      16444 non-null  float64\n",
      " 8   critic_score     16444 non-null  float64\n",
      " 9   user_score       16444 non-null  float64\n",
      " 10  rating           16444 non-null  object \n",
      "dtypes: float64(7), object(4)\n",
      "memory usage: 1.4+ MB\n"
     ]
    }
   ],
   "source": [
    "game_data['user_score'] = game_data['user_score'].fillna(-1)\n",
    "game_data['critic_score'] = game_data['critic_score'].fillna(-1)\n",
    "game_data.info()"
   ]
  },
  {
   "cell_type": "markdown",
   "id": "c964c59b",
   "metadata": {},
   "source": [
    "Now,Let's create a column that sums up all of the sales we have."
   ]
  },
  {
   "cell_type": "code",
   "execution_count": 29,
   "id": "a85d28cb",
   "metadata": {},
   "outputs": [
    {
     "name": "stdout",
     "output_type": "stream",
     "text": [
      "<class 'pandas.core.frame.DataFrame'>\n",
      "RangeIndex: 16444 entries, 0 to 16443\n",
      "Data columns (total 12 columns):\n",
      " #   Column           Non-Null Count  Dtype  \n",
      "---  ------           --------------  -----  \n",
      " 0   name             16444 non-null  object \n",
      " 1   platform         16444 non-null  object \n",
      " 2   year_of_release  16444 non-null  float64\n",
      " 3   genre            16444 non-null  object \n",
      " 4   na_sales         16444 non-null  float64\n",
      " 5   eu_sales         16444 non-null  float64\n",
      " 6   jp_sales         16444 non-null  float64\n",
      " 7   other_sales      16444 non-null  float64\n",
      " 8   critic_score     16444 non-null  float64\n",
      " 9   user_score       16444 non-null  float64\n",
      " 10  rating           16444 non-null  object \n",
      " 11  total_sales      16444 non-null  float64\n",
      "dtypes: float64(8), object(4)\n",
      "memory usage: 1.5+ MB\n"
     ]
    }
   ],
   "source": [
    "game_data['total_sales'] = game_data['na_sales'] + game_data['eu_sales'] + game_data['jp_sales'] + game_data['other_sales']\n",
    "game_data.info()"
   ]
  },
  {
   "cell_type": "markdown",
   "id": "f549e702",
   "metadata": {},
   "source": [
    "Let's change the datatypes of 'year_of_release' and 'critic_score' to integer. these will always be whole numbers, so we should change the type accordingly:"
   ]
  },
  {
   "cell_type": "code",
   "execution_count": 30,
   "id": "6da26c49",
   "metadata": {},
   "outputs": [
    {
     "name": "stdout",
     "output_type": "stream",
     "text": [
      "<class 'pandas.core.frame.DataFrame'>\n",
      "RangeIndex: 16444 entries, 0 to 16443\n",
      "Data columns (total 12 columns):\n",
      " #   Column           Non-Null Count  Dtype  \n",
      "---  ------           --------------  -----  \n",
      " 0   name             16444 non-null  object \n",
      " 1   platform         16444 non-null  object \n",
      " 2   year_of_release  16444 non-null  int64  \n",
      " 3   genre            16444 non-null  object \n",
      " 4   na_sales         16444 non-null  float64\n",
      " 5   eu_sales         16444 non-null  float64\n",
      " 6   jp_sales         16444 non-null  float64\n",
      " 7   other_sales      16444 non-null  float64\n",
      " 8   critic_score     16444 non-null  int64  \n",
      " 9   user_score       16444 non-null  float64\n",
      " 10  rating           16444 non-null  object \n",
      " 11  total_sales      16444 non-null  float64\n",
      "dtypes: float64(6), int64(2), object(4)\n",
      "memory usage: 1.5+ MB\n"
     ]
    }
   ],
   "source": [
    "lis= ['year_of_release', 'critic_score']\n",
    "for i in lis:\n",
    "    game_data[i] = game_data[i].astype('int')\n",
    "game_data.info()"
   ]
  },
  {
   "cell_type": "markdown",
   "id": "ef83be33",
   "metadata": {},
   "source": [
    "Looks like our data is ready to go!"
   ]
  },
  {
   "cell_type": "markdown",
   "id": "1848c168",
   "metadata": {},
   "source": [
    "### Conclusion:\n",
    "In this step, We changed the column names to lowercase, We handled missing values: Deleted the missing values from the 'name' and 'year_of_release' columns, filled some in the 'critic_score' and 'user_score' columns, and left some. We also encountered the 'tbd' value, understood it's meaning and filled the data accordingly. Finally, We changed some columns datatypes."
   ]
  },
  {
   "cell_type": "markdown",
   "id": "493a89ca",
   "metadata": {},
   "source": [
    "# Step 3: Analysing the data:"
   ]
  },
  {
   "cell_type": "markdown",
   "id": "e32be127",
   "metadata": {},
   "source": [
    "Let's create a graph showing how many games were made each year:"
   ]
  },
  {
   "cell_type": "code",
   "execution_count": 31,
   "id": "661cc030",
   "metadata": {},
   "outputs": [
    {
     "data": {
      "image/png": "[encoded data removed]",
      "text/plain": [
       "<Figure size 432x288 with 1 Axes>"
      ]
     },
     "metadata": {
      "needs_background": "light"
     },
     "output_type": "display_data"
    }
   ],
   "source": [
    "ax = plt.plot(game_data['year_of_release'].value_counts().sort_index(), color = 'red', marker = 'o')\n",
    "plt.title('Number of games made per year')\n",
    "plt.xlabel('Years')\n",
    "plt.ylabel('Number of games')\n",
    "plt.grid();"
   ]
  },
  {
   "cell_type": "markdown",
   "id": "36e1f0b7",
   "metadata": {},
   "source": [
    "This is a very interesting graph. We can see from 1980 to 1995 the number of games made was very small, close to 0. Then, in about 10 years, the number of games per year shot up to about 1400 games per year! After 2010, The number of games starts to go down and it's declining to this day. When we see this graph, we can tell how the gaming industry changed during the course of time. For our analysis, we can note that the period between 1980 and 1995 isn't relevant, because the gaming industry was in a very different place back then. "
   ]
  },
  {
   "cell_type": "markdown",
   "id": "1542b070",
   "metadata": {},
   "source": [
    "In order to look at what affects a game's price, we should look at the platforms first. If we have the same game that is sold on different platforms, By finding the price differnces, we can easlly see if the platform affects the price."
   ]
  },
  {
   "cell_type": "markdown",
   "id": "0ffb7aef",
   "metadata": {},
   "source": [
    "Now let's take a look at the platforms. We'll check which platform sold the most:"
   ]
  },
  {
   "cell_type": "code",
   "execution_count": 32,
   "id": "e4eb905e",
   "metadata": {},
   "outputs": [
    {
     "data": {
      "image/png": "[encoded data removed]",
      "text/plain": [
       "<Figure size 720x720 with 1 Axes>"
      ]
     },
     "metadata": {
      "needs_background": "light"
     },
     "output_type": "display_data"
    }
   ],
   "source": [
    "game_data.pivot_table(index = 'platform', values = 'total_sales', aggfunc = 'sum').plot(kind = 'bar', figsize = (10,10))\n",
    "plt.title('Sales per platform')\n",
    "plt.xlabel('Platform')\n",
    "plt.ylabel('Sales(in millions)');"
   ]
  },
  {
   "cell_type": "markdown",
   "id": "b1e19eaa",
   "metadata": {},
   "source": [
    "We see we have 6 platforms that have much more sales revenue than the rest: DS,P5,PS2,PS3,Wii and X360. Let's see how do their sales look per year:"
   ]
  },
  {
   "cell_type": "code",
   "execution_count": 33,
   "id": "bf9e706d",
   "metadata": {},
   "outputs": [
    {
     "data": {
      "image/png": "[encoded data removed]",
      "text/plain": [
       "<Figure size 648x648 with 1 Axes>"
      ]
     },
     "metadata": {
      "needs_background": "light"
     },
     "output_type": "display_data"
    }
   ],
   "source": [
    "pop_platform = game_data.query('platform == (\"DS\",\"PS\",\"PS2\",\"PS3\", \"Wii\",\"X360\")')\n",
    "pop_platform.pivot_table(index = 'year_of_release', columns = 'platform', values = 'total_sales', aggfunc = 'sum').plot(figsize = (9,9), linewidth = 2.5)\n",
    "plt.title(\"Total sales per year\")\n",
    "plt.xlabel('Years')\n",
    "plt.ylabel('Sales (in millions)')\n",
    "plt.grid();"
   ]
  },
  {
   "cell_type": "markdown",
   "id": "8b6cce73",
   "metadata": {},
   "source": [
    "It seems like our most popular platforms barely have any sales now. Let's check other platforms that don't have sales now:"
   ]
  },
  {
   "cell_type": "code",
   "execution_count": 34,
   "id": "ae6219f7",
   "metadata": {},
   "outputs": [
    {
     "name": "stdout",
     "output_type": "stream",
     "text": [
      "NES\n",
      "GB\n",
      "DS\n",
      "PS2\n",
      "SNES\n",
      "GBA\n",
      "N64\n",
      "PS\n",
      "XB\n",
      "2600\n",
      "PSP\n",
      "GC\n",
      "GEN\n",
      "DC\n",
      "SAT\n",
      "SCD\n",
      "WS\n",
      "NG\n",
      "TG16\n",
      "3DO\n",
      "GG\n",
      "PCFX\n"
     ]
    }
   ],
   "source": [
    "new_games = game_data.query('year_of_release == 2016')\n",
    "game_plat = game_data['platform'].unique()\n",
    "new_game_plat = new_games['platform'].unique()\n",
    "for i in game_plat:\n",
    "    if i not in new_game_plat:\n",
    "        print(i)"
   ]
  },
  {
   "cell_type": "markdown",
   "id": "c9e86876",
   "metadata": {},
   "source": [
    "We can see that most of the platforms, even very popular ones like PS or DS, don't have any sales this year! From the graph we saw, It lookes as if a typical platform has a lifetime: It starts from a low point, within 5 years it reaches it's peak, and within 10 years it dosen't sell anymore. This is probably due to the huge development of the gaming world: A new big platform comes every 5 years and takes away the popular platform's sales. "
   ]
  },
  {
   "cell_type": "markdown",
   "id": "59c1a3b6",
   "metadata": {},
   "source": [
    "From the data above, We can determine that in order to predict a game's price for the following year, We need to look at data only from the past 2 years. In both graphs, We can see how quickly the gaming market is changing: We have much less games made, And historiclly popular platforms are no longer popular. This means that the only relevant data for us to use is from 2 years ago."
   ]
  },
  {
   "cell_type": "markdown",
   "id": "93d3c81a",
   "metadata": {},
   "source": [
    "Let's filter our data to contain only games from the past 2 years:"
   ]
  },
  {
   "cell_type": "code",
   "execution_count": 36,
   "id": "59dbe6d0",
   "metadata": {},
   "outputs": [
    {
     "name": "stdout",
     "output_type": "stream",
     "text": [
      "<class 'pandas.core.frame.DataFrame'>\n",
      "Int64Index: 1108 entries, 31 to 16443\n",
      "Data columns (total 12 columns):\n",
      " #   Column           Non-Null Count  Dtype  \n",
      "---  ------           --------------  -----  \n",
      " 0   name             1108 non-null   object \n",
      " 1   platform         1108 non-null   object \n",
      " 2   year_of_release  1108 non-null   int64  \n",
      " 3   genre            1108 non-null   object \n",
      " 4   na_sales         1108 non-null   float64\n",
      " 5   eu_sales         1108 non-null   float64\n",
      " 6   jp_sales         1108 non-null   float64\n",
      " 7   other_sales      1108 non-null   float64\n",
      " 8   critic_score     1108 non-null   int64  \n",
      " 9   user_score       1108 non-null   float64\n",
      " 10  rating           1108 non-null   object \n",
      " 11  total_sales      1108 non-null   float64\n",
      "dtypes: float64(6), int64(2), object(4)\n",
      "memory usage: 112.5+ KB\n"
     ]
    }
   ],
   "source": [
    "past_two_years = game_data.query('year_of_release >= 2015')\n",
    "past_two_years.info()"
   ]
  },
  {
   "cell_type": "markdown",
   "id": "fce3fe6b",
   "metadata": {},
   "source": [
    "We lost a lot of data, but we are left with the most relevant."
   ]
  },
  {
   "cell_type": "markdown",
   "id": "6ebcd0cb",
   "metadata": {},
   "source": [
    "Let's check what platform sold the most during the 2 years:"
   ]
  },
  {
   "cell_type": "code",
   "execution_count": 1,
   "id": "8732576c",
   "metadata": {},
   "outputs": [
    {
     "ename": "NameError",
     "evalue": "name 'past_two_years' is not defined",
     "output_type": "error",
     "traceback": [
      "\u001b[1;31m---------------------------------------------------------------------------\u001b[0m",
      "\u001b[1;31mNameError\u001b[0m                                 Traceback (most recent call last)",
      "\u001b[1;32m<ipython-input-1-e66ff3201182>\u001b[0m in \u001b[0;36m<module>\u001b[1;34m\u001b[0m\n\u001b[1;32m----> 1\u001b[1;33m \u001b[0mpast_two_years\u001b[0m\u001b[1;33m.\u001b[0m\u001b[0mgroupby\u001b[0m\u001b[1;33m(\u001b[0m\u001b[1;34m'platform'\u001b[0m\u001b[1;33m)\u001b[0m\u001b[1;33m[\u001b[0m\u001b[1;34m'total_sales'\u001b[0m\u001b[1;33m]\u001b[0m\u001b[1;33m.\u001b[0m\u001b[0msum\u001b[0m\u001b[1;33m(\u001b[0m\u001b[1;33m)\u001b[0m\u001b[1;33m.\u001b[0m\u001b[0mplot\u001b[0m\u001b[1;33m(\u001b[0m\u001b[0my\u001b[0m \u001b[1;33m=\u001b[0m \u001b[1;34m'platform'\u001b[0m\u001b[1;33m,\u001b[0m\u001b[0mkind\u001b[0m \u001b[1;33m=\u001b[0m \u001b[1;34m'pie'\u001b[0m\u001b[1;33m,\u001b[0m \u001b[0mfigsize\u001b[0m \u001b[1;33m=\u001b[0m \u001b[1;33m(\u001b[0m\u001b[1;36m10\u001b[0m\u001b[1;33m,\u001b[0m\u001b[1;36m10\u001b[0m\u001b[1;33m)\u001b[0m\u001b[1;33m,\u001b[0m\u001b[0mautopct\u001b[0m\u001b[1;33m=\u001b[0m\u001b[1;34m\"%.2f\"\u001b[0m\u001b[1;33m,\u001b[0m\u001b[0mfontsize\u001b[0m\u001b[1;33m=\u001b[0m\u001b[1;36m15\u001b[0m\u001b[1;33m)\u001b[0m\u001b[1;33m\u001b[0m\u001b[1;33m\u001b[0m\u001b[0m\n\u001b[0m\u001b[0;32m      2\u001b[0m \u001b[0mplt\u001b[0m\u001b[1;33m.\u001b[0m\u001b[0mtitle\u001b[0m\u001b[1;33m(\u001b[0m\u001b[1;34m\"Percentage of total sales per platform - past 2 years\"\u001b[0m\u001b[1;33m)\u001b[0m\u001b[1;33m\u001b[0m\u001b[1;33m\u001b[0m\u001b[0m\n\u001b[0;32m      3\u001b[0m \u001b[0mplt\u001b[0m\u001b[1;33m.\u001b[0m\u001b[0mylabel\u001b[0m\u001b[1;33m(\u001b[0m\u001b[1;34m\"100% = Total game sales\"\u001b[0m\u001b[1;33m)\u001b[0m\u001b[1;33m\u001b[0m\u001b[1;33m\u001b[0m\u001b[0m\n",
      "\u001b[1;31mNameError\u001b[0m: name 'past_two_years' is not defined"
     ]
    }
   ],
   "source": [
    "past_two_years.groupby('platform')['total_sales'].sum().plot(y = 'platform',kind = 'pie', figsize = (10,10),autopct=\"%.2f\",fontsize=15)\n",
    "plt.title(\"Percentage of total sales per platform - past 2 years\")\n",
    "plt.ylabel(\"100% = Total game sales\")"
   ]
  },
  {
   "cell_type": "markdown",
   "id": "31b02411",
   "metadata": {},
   "source": [
    "We see we have 3 dominant platforms: PS4,XOne, and 3DS. Out of them, Let's check growth: "
   ]
  },
  {
   "cell_type": "code",
   "execution_count": 38,
   "id": "504f1bb7",
   "metadata": {
    "scrolled": true
   },
   "outputs": [
    {
     "data": {
      "image/png": "[encoded data removed]",
      "text/plain": [
       "<Figure size 504x432 with 1 Axes>"
      ]
     },
     "metadata": {
      "needs_background": "light"
     },
     "output_type": "display_data"
    }
   ],
   "source": [
    "past_two_years.query('platform == (\"PS4\",\"XOne\",\"3DS\")').pivot_table(index = 'year_of_release', columns = 'platform', values = 'total_sales', aggfunc = 'sum').plot(figsize = (7,6), linewidth = 4, marker = 'o')\n",
    "plt.title('Number of platform sales per year for the past 2 years')\n",
    "plt.xlabel('Years')\n",
    "plt.ylabel('Sales(in millions)')\n",
    "plt.grid();"
   ]
  },
  {
   "cell_type": "markdown",
   "id": "de658317",
   "metadata": {},
   "source": [
    "We can see that all of the games had a decrease in sales in 2016. This shows the decrease in the gaming industry for the past 5 years that we saw in the first graph. We see that even the most popular platforms had a decrease in the past year."
   ]
  },
  {
   "cell_type": "markdown",
   "id": "0cf0232d",
   "metadata": {},
   "source": [
    "Let's check how the sales of the platform distribute in the past 2 years:"
   ]
  },
  {
   "cell_type": "code",
   "execution_count": 39,
   "id": "90164817",
   "metadata": {},
   "outputs": [
    {
     "data": {
      "image/png": "[encoded data removed]",
      "text/plain": [
       "<Figure size 720x720 with 1 Axes>"
      ]
     },
     "metadata": {
      "needs_background": "light"
     },
     "output_type": "display_data"
    }
   ],
   "source": [
    "past_two_years.boxplot('total_sales', by = 'platform', figsize = (10,10))\n",
    "plt.title('Distrinution of Sales based on platform');"
   ]
  },
  {
   "cell_type": "markdown",
   "id": "2c10923a",
   "metadata": {},
   "source": [
    "We see we have a lot of outliners. Let's determine the range:"
   ]
  },
  {
   "cell_type": "code",
   "execution_count": 40,
   "id": "16ada5a5",
   "metadata": {},
   "outputs": [
    {
     "data": {
      "image/png": "[encoded data removed]",
      "text/plain": [
       "<Figure size 720x720 with 1 Axes>"
      ]
     },
     "metadata": {
      "needs_background": "light"
     },
     "output_type": "display_data"
    }
   ],
   "source": [
    "past_two_years.boxplot('total_sales', by = 'platform', figsize = (10,10))\n",
    "plt.ylim(0,2)\n",
    "plt.title('Distrinution of Sales based on platform');"
   ]
  },
  {
   "cell_type": "markdown",
   "id": "9bd13b27",
   "metadata": {},
   "source": [
    "We can see that the median number of sales for all platforms don't have significant differnces, and are all very low(the high ones get to 0.25). The big suprise is 'WiiU', That has the highest median value, but only has 5% of the sales. Let's check the average number:"
   ]
  },
  {
   "cell_type": "code",
   "execution_count": 41,
   "id": "d834b4c3",
   "metadata": {},
   "outputs": [
    {
     "data": {
      "image/png": "[encoded data removed]",
      "text/plain": [
       "<Figure size 720x720 with 1 Axes>"
      ]
     },
     "metadata": {
      "needs_background": "light"
     },
     "output_type": "display_data"
    }
   ],
   "source": [
    "past_two_years.pivot_table(index = 'platform', values = 'total_sales').plot(kind = 'bar', figsize = (10,10))\n",
    "plt.title('Distrinution of Average sale based on platform');"
   ]
  },
  {
   "cell_type": "markdown",
   "id": "b4d1b800",
   "metadata": {},
   "source": [
    "Here we see significant differences between the maximum 0.6 to the minimum 0.1."
   ]
  },
  {
   "cell_type": "markdown",
   "id": "2c52b05f",
   "metadata": {},
   "source": [
    "We can learn a few things from these graphs. The main thing is the much bigger range in relation to the median. For platforms with high average sales, We can learn that the range of their sales is very high; This might be because of the platform's increasing/ decreasing popularity, or because we have games on the specific platform that have a huge amount of sales."
   ]
  },
  {
   "cell_type": "markdown",
   "id": "19865eca",
   "metadata": {},
   "source": [
    "Now the platforms with the highest average sale are indeed PS4 and XOne, but WiiU is not far behind them! The WiiU's median and average values in relation to it's sales meen that the platform is very stable: This platform sells games at good prices, But they don't sell a lot of them. We definetly need to take that into account when we determine game prices."
   ]
  },
  {
   "cell_type": "markdown",
   "id": "4d717a44",
   "metadata": {},
   "source": [
    "Now that we saw how the platform type affects the price, let's check the critics. Our assumption would be that the critic's and user's opinion would affect the sales. In order to check this, We'll use our most popular platform: PS4.\n"
   ]
  },
  {
   "cell_type": "code",
   "execution_count": 42,
   "id": "c7ba08dd",
   "metadata": {},
   "outputs": [
    {
     "data": {
      "image/png": "[encoded data removed]",
      "text/plain": [
       "<Figure size 720x720 with 1 Axes>"
      ]
     },
     "metadata": {
      "needs_background": "light"
     },
     "output_type": "display_data"
    },
    {
     "data": {
      "image/png": "[encoded data removed]",
      "text/plain": [
       "<Figure size 720x720 with 1 Axes>"
      ]
     },
     "metadata": {
      "needs_background": "light"
     },
     "output_type": "display_data"
    }
   ],
   "source": [
    "ax = past_two_years.query('platform == \"PS4\"').plot.scatter(x= 'critic_score', y = 'total_sales', color = 'Blue', label = 'Critic score', figsize = (10,10), xlim = (0,100))\n",
    "plt.title(\"Distribution of sales depending on critics\")\n",
    "plt.xlabel(\"Critic scores\")\n",
    "plt.ylabel(\"Total Sales\");\n",
    "past_two_years.query('platform == \"PS4\"').plot.scatter( x = 'user_score', y = 'total_sales', color = 'Red', label = 'User score', figsize = (10,10), xlim = (0,10))\n",
    "plt.title(\"Distribution of sales depending on user score\")\n",
    "plt.xlabel(\"User scores\")\n",
    "plt.ylabel(\"Total Sales\");"
   ]
  },
  {
   "cell_type": "markdown",
   "id": "4b69af10",
   "metadata": {},
   "source": [
    "Just from the look at the scatter plots, we can see that the reviews definetly affect sales in some messure: The sales go up only after a certain score in both graphs. We can see that crtic scores matter a bit more though, As we can see that as we go higher in the critic score, Our sales are higher. Let's check the correlation between these columns:"
   ]
  },
  {
   "cell_type": "code",
   "execution_count": 43,
   "id": "9ad7fc63",
   "metadata": {},
   "outputs": [
    {
     "data": {
      "text/html": [
       "<div>\n",
       "<style scoped>\n",
       "    .dataframe tbody tr th:only-of-type {\n",
       "        vertical-align: middle;\n",
       "    }\n",
       "\n",
       "    .dataframe tbody tr th {\n",
       "        vertical-align: top;\n",
       "    }\n",
       "\n",
       "    .dataframe thead th {\n",
       "        text-align: right;\n",
       "    }\n",
       "</style>\n",
       "<table border=\"1\" class=\"dataframe\">\n",
       "  <thead>\n",
       "    <tr style=\"text-align: right;\">\n",
       "      <th></th>\n",
       "      <th>total_sales</th>\n",
       "      <th>critic_score</th>\n",
       "      <th>user_score</th>\n",
       "    </tr>\n",
       "  </thead>\n",
       "  <tbody>\n",
       "    <tr>\n",
       "      <th>total_sales</th>\n",
       "      <td>1.000000</td>\n",
       "      <td>0.155614</td>\n",
       "      <td>0.060363</td>\n",
       "    </tr>\n",
       "    <tr>\n",
       "      <th>critic_score</th>\n",
       "      <td>0.155614</td>\n",
       "      <td>1.000000</td>\n",
       "      <td>0.962642</td>\n",
       "    </tr>\n",
       "    <tr>\n",
       "      <th>user_score</th>\n",
       "      <td>0.060363</td>\n",
       "      <td>0.962642</td>\n",
       "      <td>1.000000</td>\n",
       "    </tr>\n",
       "  </tbody>\n",
       "</table>\n",
       "</div>"
      ],
      "text/plain": [
       "              total_sales  critic_score  user_score\n",
       "total_sales      1.000000      0.155614    0.060363\n",
       "critic_score     0.155614      1.000000    0.962642\n",
       "user_score       0.060363      0.962642    1.000000"
      ]
     },
     "execution_count": 43,
     "metadata": {},
     "output_type": "execute_result"
    }
   ],
   "source": [
    "past_two_years.query('platform == \"PS4\"')[['total_sales','critic_score','user_score']].corr()"
   ]
  },
  {
   "cell_type": "markdown",
   "id": "29d6bd54",
   "metadata": {},
   "source": [
    "We can see we were right in our assumption, and critic score's correlation to sales is double the user score's correlation. We also see they are both possitive values, which means they do affect the price. However, these are relativly small numbers, so they don't affect sales significantly. "
   ]
  },
  {
   "cell_type": "markdown",
   "id": "69838c2c",
   "metadata": {},
   "source": [
    "Let's check how the same game sells on different platforms:"
   ]
  },
  {
   "cell_type": "code",
   "execution_count": 44,
   "id": "fbd07e9c",
   "metadata": {},
   "outputs": [
    {
     "data": {
      "text/plain": [
       "['LEGO Dimensions',\n",
       " 'Adventure Time: Finn & Jake Investigations',\n",
       " 'Rugby World Cup 2015',\n",
       " 'Just Dance 2016',\n",
       " 'Just Dance 2017',\n",
       " \"LEGO Marvel's Avengers\",\n",
       " 'Skylanders: SuperChargers']"
      ]
     },
     "execution_count": 44,
     "metadata": {},
     "output_type": "execute_result"
    }
   ],
   "source": [
    "#creating a list of games with that were released on more than one platform:\n",
    "number_of_platforms = []\n",
    "for i in past_two_years['name'].value_counts():\n",
    "    if i > 1:\n",
    "        if past_two_years['name'].value_counts().index[i] not in number_of_platforms:\n",
    "            number_of_platforms.append(past_two_years['name'].value_counts().index[i])\n",
    "#check\n",
    "number_of_platforms"
   ]
  },
  {
   "cell_type": "code",
   "execution_count": 45,
   "id": "59493563",
   "metadata": {},
   "outputs": [
    {
     "data": {
      "image/png": "[encoded data removed]",
      "text/plain": [
       "<Figure size 720x720 with 1 Axes>"
      ]
     },
     "metadata": {
      "needs_background": "light"
     },
     "output_type": "display_data"
    }
   ],
   "source": [
    "#creating graph\n",
    "past_two_years.query('name == @number_of_platforms').pivot_table(index = 'name', columns = 'platform', values = 'total_sales', aggfunc = 'sum').plot(kind = 'bar', figsize = (10,10),stacked = True)\n",
    "plt.grid()\n",
    "plt.title('Sales of games on different platforms')\n",
    "plt.xlabel('Game name')\n",
    "plt.ylabel('Sales(in mil)');"
   ]
  },
  {
   "cell_type": "markdown",
   "id": "ca58b31d",
   "metadata": {},
   "source": [
    "Well this is an interesting graph. We can definetly see what platforms dominate what games. It seems as if the 'Wii' platforms dominate the dance games, PS dominate the sports games, PS and XBOX sell the most in the action games, And in the role playing games we see 3DS coming through."
   ]
  },
  {
   "cell_type": "markdown",
   "id": "60fdda7a",
   "metadata": {},
   "source": [
    "Since we saw how big our sports sales are, Let's check the distribution of games per genre:"
   ]
  },
  {
   "cell_type": "code",
   "execution_count": 46,
   "id": "6330142d",
   "metadata": {
    "scrolled": true
   },
   "outputs": [
    {
     "data": {
      "image/png": "[encoded data removed]",
      "text/plain": [
       "<Figure size 432x288 with 1 Axes>"
      ]
     },
     "metadata": {
      "needs_background": "light"
     },
     "output_type": "display_data"
    }
   ],
   "source": [
    "past_two_years.pivot_table(index = 'genre', values = 'name', aggfunc = 'count').plot(kind = 'bar', legend = False)\n",
    "plt.title('Number of games per genre')\n",
    "plt.xlabel('Genre')\n",
    "plt.ylabel('Number of games');"
   ]
  },
  {
   "cell_type": "markdown",
   "id": "ec5bbf80",
   "metadata": {},
   "source": [
    "Now let's check revenue per genre:"
   ]
  },
  {
   "cell_type": "code",
   "execution_count": 47,
   "id": "cd335790",
   "metadata": {},
   "outputs": [
    {
     "data": {
      "image/png": "[encoded data removed]",
      "text/plain": [
       "<Figure size 720x720 with 1 Axes>"
      ]
     },
     "metadata": {
      "needs_background": "light"
     },
     "output_type": "display_data"
    }
   ],
   "source": [
    "past_two_years.pivot_table(index = 'genre', values = 'total_sales', aggfunc = 'sum').plot(kind = 'bar', figsize = (10,10), legend = False)\n",
    "plt.title('Total game sales per genre')\n",
    "plt.xlabel('Genre')\n",
    "plt.ylabel('Sales(in mil)');"
   ]
  },
  {
   "cell_type": "markdown",
   "id": "0f649b5a",
   "metadata": {},
   "source": [
    "We see we have 4 popular game types: 'Action','Role-Playing', 'Shooter' and 'Sports'. We can see from the first graph that action games are made much more than the rest of the games, Yet shooter games still have a greater revenue. We have something in common about these games: These are all genres of games we saw in the previous chart, Of games that are rleased on numerous platforms. This means that the more platforms a game is released on, the better it will sell."
   ]
  },
  {
   "cell_type": "markdown",
   "id": "9c9531e8",
   "metadata": {},
   "source": [
    "# Step 4: Create User ID"
   ]
  },
  {
   "cell_type": "markdown",
   "id": "b6e45586",
   "metadata": {},
   "source": [
    "Let's create a user id. First, Let's check the most profitable platforms for each genre:"
   ]
  },
  {
   "cell_type": "code",
   "execution_count": 48,
   "id": "d25e6e0d",
   "metadata": {},
   "outputs": [
    {
     "data": {
      "image/png": "[encoded data removed]",
      "text/plain": [
       "<Figure size 720x720 with 1 Axes>"
      ]
     },
     "metadata": {
      "needs_background": "light"
     },
     "output_type": "display_data"
    }
   ],
   "source": [
    "#starting with north america:\n",
    "past_two_years.pivot_table(index = 'platform', values = ['na_sales','eu_sales','jp_sales'], aggfunc = 'sum').plot.bar(figsize = (10,10), stacked = True);"
   ]
  },
  {
   "cell_type": "code",
   "execution_count": 49,
   "id": "ba102f4f",
   "metadata": {},
   "outputs": [
    {
     "name": "stdout",
     "output_type": "stream",
     "text": [
      "Top 5 platforms in America:\n",
      "          na_sales\n",
      "platform          \n",
      "PS4          63.86\n",
      "XOne         50.30\n",
      "3DS          10.31\n",
      "WiiU          8.86\n",
      "X360          8.05\n",
      "Top 5 platforms in Europe:\n",
      "          eu_sales\n",
      "platform          \n",
      "PS4          83.54\n",
      "XOne         28.10\n",
      "PC            9.10\n",
      "3DS           7.39\n",
      "PS3           7.30\n",
      "Top 5 platforms in Japan:\n",
      "          jp_sales\n",
      "platform          \n",
      "3DS          23.55\n",
      "PS4          12.05\n",
      "PSV           8.41\n",
      "PS3           4.97\n",
      "WiiU          4.12\n"
     ]
    }
   ],
   "source": [
    "print(\"Top 5 platforms in America:\")\n",
    "print(past_two_years.pivot_table(index = 'platform', values = 'na_sales', aggfunc = 'sum').sort_values('na_sales',ascending = False)[0:5])\n",
    "print(\"Top 5 platforms in Europe:\")\n",
    "print(past_two_years.pivot_table(index = 'platform', values = 'eu_sales', aggfunc = 'sum').sort_values('eu_sales',ascending = False)[0:5])\n",
    "print(\"Top 5 platforms in Japan:\")\n",
    "print(past_two_years.pivot_table(index = 'platform', values = 'jp_sales', aggfunc = 'sum').sort_values('jp_sales',ascending = False)[0:5])"
   ]
  },
  {
   "cell_type": "markdown",
   "id": "5511d91f",
   "metadata": {},
   "source": [
    "We see differences in the regions: In America and Europe, The most popular platforms are PS4 and XOne. All the other platforms behind them are much smaller. In Japan though, The most Popular platform is 3DS, with the next in line, 'PS4', recording nearly half the sales."
   ]
  },
  {
   "cell_type": "markdown",
   "id": "d4536610",
   "metadata": {},
   "source": [
    "Let's check the most popular genres per region:"
   ]
  },
  {
   "cell_type": "code",
   "execution_count": 50,
   "id": "799073a0",
   "metadata": {},
   "outputs": [
    {
     "data": {
      "text/plain": [
       "<AxesSubplot:xlabel='genre'>"
      ]
     },
     "execution_count": 50,
     "metadata": {},
     "output_type": "execute_result"
    },
    {
     "data": {
      "image/png": "[encoded data removed]",
      "text/plain": [
       "<Figure size 720x720 with 1 Axes>"
      ]
     },
     "metadata": {
      "needs_background": "light"
     },
     "output_type": "display_data"
    }
   ],
   "source": [
    "past_two_years.groupby('genre')[['na_sales','eu_sales', 'jp_sales']].sum().plot.bar(figsize = (10,10))"
   ]
  },
  {
   "cell_type": "code",
   "execution_count": 51,
   "id": "90529bbc",
   "metadata": {},
   "outputs": [
    {
     "name": "stdout",
     "output_type": "stream",
     "text": [
      "Top 5 genres in America:\n",
      "              na_sales\n",
      "genre                 \n",
      "Shooter          48.18\n",
      "Action           33.68\n",
      "Sports           26.31\n",
      "Role-Playing     19.82\n",
      "Misc              5.58\n",
      "Top 5 genres in Europe:\n",
      "              eu_sales\n",
      "genre                 \n",
      "Shooter          40.28\n",
      "Action           34.82\n",
      "Sports           27.82\n",
      "Role-Playing     17.21\n",
      "Racing            6.52\n",
      "Top 5 genres in Japan:\n",
      "              jp_sales\n",
      "genre                 \n",
      "Action           23.05\n",
      "Role-Playing     13.41\n",
      "Shooter           3.79\n",
      "Misc              3.19\n",
      "Adventure         2.22\n"
     ]
    }
   ],
   "source": [
    "print(\"Top 5 genres in America:\")\n",
    "print(past_two_years.pivot_table(index = 'genre', values = 'na_sales', aggfunc = 'sum').sort_values('na_sales',ascending = False)[0:5])\n",
    "print(\"Top 5 genres in Europe:\")\n",
    "print(past_two_years.pivot_table(index = 'genre', values = 'eu_sales', aggfunc = 'sum').sort_values('eu_sales',ascending = False)[0:5])\n",
    "print(\"Top 5 genres in Japan:\")\n",
    "print(past_two_years.pivot_table(index = 'genre', values = 'jp_sales', aggfunc = 'sum').sort_values('jp_sales',ascending = False)[0:5])"
   ]
  },
  {
   "cell_type": "markdown",
   "id": "68ef6ec1",
   "metadata": {},
   "source": [
    "We see that in Europe and in North America, The Popular genres are Exactly the same. They are the same popular genres we saw beforehand. This is because they have the same culture. In Japan however, Although we do see a similar popular genre in action, coming in second place is roleplaying, and the rest are way behind them. This is probably because of the different place that games take in Japanease culture."
   ]
  },
  {
   "cell_type": "markdown",
   "id": "b080bab6",
   "metadata": {},
   "source": [
    "Let's check if the ESRB rating affects sales in different regions: "
   ]
  },
  {
   "cell_type": "code",
   "execution_count": 52,
   "id": "5cc52f10",
   "metadata": {},
   "outputs": [
    {
     "data": {
      "image/png": "[encoded data removed]",
      "text/plain": [
       "<Figure size 720x720 with 1 Axes>"
      ]
     },
     "metadata": {
      "needs_background": "light"
     },
     "output_type": "display_data"
    }
   ],
   "source": [
    "ax = past_two_years.pivot_table(index = 'rating', values = ('na_sales','eu_sales','jp_sales'), aggfunc = 'sum').plot.bar(figsize = (10,10));\n"
   ]
  },
  {
   "cell_type": "markdown",
   "id": "bfbdb1c5",
   "metadata": {},
   "source": [
    "We see that in Europe and in North America, The ratings that sell the most are simillar: The 'mature' leads by a lot, after that is 'everyone', then 'teen' and then 'e10'.We already saw the similarity between these 2 regions when we checked genres, and we said it was because of the place of video games in western culture. In Japan however, The rating that sold the most is 'Teen'. This shows that in Japan, Video games are for younger audiences. "
   ]
  },
  {
   "cell_type": "markdown",
   "id": "5f6ea9c8",
   "metadata": {},
   "source": [
    "To conclude, The typical American and European users user will be around the age of 17, they will play action, shooter or sports games, and he they be playing on an 'xbox' or a 'ps'. In Japan, the typical user will be around the age of 12, He will be playing role playing or action games, and he will be using a '3DS'."
   ]
  },
  {
   "cell_type": "markdown",
   "id": "1997e3c7",
   "metadata": {},
   "source": [
    "# Step 5: Testing Hypothesis:"
   ]
  },
  {
   "cell_type": "markdown",
   "id": "986071a2",
   "metadata": {},
   "source": [
    "Let's test the following hypothesis: Average user ratings of the Xbox One and PC platforms are the same. My null hypothesis will be that they are the same, because then i can compare them better. My threshold value will be 0.05, because that is the standard threshold, and 0.01 won't neccerely meen that there is a difference. Let's check:"
   ]
  },
  {
   "cell_type": "markdown",
   "id": "879be75b",
   "metadata": {},
   "source": [
    "H0: Average user ratings of the Xbox One and PC platforms are the same.\n",
    "\n",
    "H1: Average user ratings of the Xbox One and PC platforms are the different.\n",
    "\n",
    "threshold = 0.05"
   ]
  },
  {
   "cell_type": "code",
   "execution_count": 53,
   "id": "49cf2571",
   "metadata": {},
   "outputs": [
    {
     "name": "stdout",
     "output_type": "stream",
     "text": [
      "p-value:  0.24927323177446042\n",
      "We can't reject the null hypothesis\n"
     ]
    }
   ],
   "source": [
    "rat_xbox_one = past_two_years.query('platform == \"XOne\" & user_score > 0')['user_score']\n",
    "rat_pc = past_two_years.query('platform == \"PC\" & user_score > 0')['user_score']\n",
    "alpha = 0.05\n",
    "results = st.ttest_ind(rat_xbox_one, rat_pc)\n",
    "print('p-value: ', results.pvalue)\n",
    "if results.pvalue < alpha:\n",
    "    print(\"We reject the null hypothesis\")\n",
    "else:\n",
    "    print(\"We can't reject the null hypothesis\") "
   ]
  },
  {
   "cell_type": "markdown",
   "id": "0289821e",
   "metadata": {},
   "source": [
    "We can see that our p- value is relativly high. This means that we can't reject our hypothesis that user ratings differ based on platform. This makes sense, because the rating shouldn't have anything to do with the platform, Just with the game.  "
   ]
  },
  {
   "cell_type": "markdown",
   "id": "38ff210a",
   "metadata": {},
   "source": [
    "Now we'll test the hypothesis that the user ratings depend on the genre. We'll test this on the action and sports genres. Again, our null hypothesis is that they are equal to each other, and our threshold is 0.05."
   ]
  },
  {
   "cell_type": "markdown",
   "id": "de71e919",
   "metadata": {},
   "source": [
    "H0: Average user ratings of the action and sports genres are the same.\n",
    "\n",
    "H1: Average user ratings of the action and sports genres are the different.\n",
    "\n",
    "threshold = 0.05"
   ]
  },
  {
   "cell_type": "code",
   "execution_count": 54,
   "id": "16204c2f",
   "metadata": {},
   "outputs": [
    {
     "name": "stdout",
     "output_type": "stream",
     "text": [
      "p-value:  2.948947463447524e-14\n",
      "We reject the null hypothesis\n"
     ]
    }
   ],
   "source": [
    "rat_action = past_two_years.query('genre == \"Action\" & user_score > 0')['user_score']\n",
    "rat_sports = past_two_years.query('genre == \"Sports\" & user_score > 0')['user_score']\n",
    "results = st.ttest_ind(rat_action, rat_sports)\n",
    "print('p-value: ', results.pvalue)\n",
    "if results.pvalue < alpha:\n",
    "    print(\"We reject the null hypothesis\")\n",
    "else:\n",
    "    print(\"We can't reject the null hypothesis\") "
   ]
  },
  {
   "cell_type": "markdown",
   "id": "2932ab2c",
   "metadata": {},
   "source": [
    "So we see we get a very small p-value. This means that we reject our null hypothesis, and it turns out that user ratings does depend on genre. Let's see this in a graph:"
   ]
  },
  {
   "cell_type": "code",
   "execution_count": 55,
   "id": "83cb93b5",
   "metadata": {},
   "outputs": [
    {
     "data": {
      "text/plain": [
       "Text(0, 0.5, 'Average user rating')"
      ]
     },
     "execution_count": 55,
     "metadata": {},
     "output_type": "execute_result"
    },
    {
     "data": {
      "image/png": "[encoded data removed]",
      "text/plain": [
       "<Figure size 720x720 with 1 Axes>"
      ]
     },
     "metadata": {
      "needs_background": "light"
     },
     "output_type": "display_data"
    }
   ],
   "source": [
    "past_two_years.pivot_table(index = 'genre', values = 'user_score').plot.bar(figsize = (10,10), legend = False)\n",
    "plt.title(\"Average user ratings per genres\")\n",
    "plt.xlabel('Genres')\n",
    "plt.ylabel('Average user rating')"
   ]
  },
  {
   "cell_type": "markdown",
   "id": "bee6095c",
   "metadata": {},
   "source": [
    "So we see that our average rating does differ: we have a range of average ratings from 5 to 2, depending on genre."
   ]
  },
  {
   "cell_type": "markdown",
   "id": "48465869",
   "metadata": {},
   "source": [
    "# Conclusion"
   ]
  },
  {
   "cell_type": "markdown",
   "id": "b5eb5e2e",
   "metadata": {},
   "source": [
    "Let's break down what we did in this study:\n",
    "- Read the data and had a look at it, Changed the column names to lowercase, Changed datatypes of the columns: 'user_score','year_of_release','critic_score'.\n",
    "- Dealt with missing values: Some we deleted from the datafame, Some we kept, and to some we assigned different values.\n",
    "- Created a new column of 'total sales'\n",
    "- Analysed the number of games per year and a platform's typical lifetime and filtered the data accordingly.\n",
    "- Analysed platform sales from the past 5 years and found the growing platforms.\n",
    "- Checked how reviews impact the sales.\n",
    "- Looked at the sales of the same games on different platforms.\n",
    "- Discovered the popular genres.\n",
    "- Created a user id for each region: popular platforms, genres and checked how ratings affect the sales.\n",
    "- Tested hypothesises about what affects the user id.\n",
    "\n",
    "My analysis shows that:\n",
    "- The number of games are going down each year.\n",
    "- A typical platform's lifetime is divided into 2: after 5 years it peaks, and after 10 years people don't buy games on it anymore.\n",
    "- Historiclly popular platforms like 'PS3' and 'X360' aren't popular anymore.\n",
    "- The popular sales platforms at the moment are: \"PS4\", \"XOne\" and \"3DS\".\n",
    "- The platform with the best median price is WiiU, Even though it sold only 5% out of video sales. This is because it does sell well, just it dosen't have a lot of games.\n",
    "- Reviews don't significantly affect the sales of a game. They do help, But Don't have a significant influence on the audience.\n",
    "- Different platforms are popular in different genres.\n",
    "- The most popular genres are 'action', 'shooter', 'sports' and 'role-playing'.\n",
    "- A game's sales will be higher if it's released on numerous platforms.\n",
    "- An American and European user id: Mature, playes action, shooter and sports games, and owns an xbox or a ps.\n",
    "- A Japanease user id: A Teen, playes role playes and action games, and owns a 3DS.\n",
    "- User Rating is affected by the genre. There are genres that get a better user score.\n",
    "\n",
    "Regarding 2017, I can reccomend the following:\n",
    "1. Focusing on the 'PS4' and 'XOne' platforms in America and Europe. In Japan, We also should focus on the '3DS'.\n",
    "2.  games on 'WiiU' could potentially be a high winners in the next year.\n",
    "3. When seeing bad reviews on a game, Not to completely give up on it; It might still succeed.\n",
    "4. Focus on the popular genres in relation to platform: Action, Sports and Shooter games for the XBOX and PS, Role Playing for 3DS.\n",
    "5. Watching out for games released on multiple platforms. They could be the big winners this year.\n",
    "6. Regarding marketing, Its crucial to fit a special marketing plan to the japanease market, since the people who buy games there are completly different."
   ]
  }
 ],
 "metadata": {
  "ExecuteTimeLog": [
   {
    "duration": 10109,
    "start_time": "2021-07-08T07:08:46.745Z"
   },
   {
    "duration": 10445,
    "start_time": "2021-07-08T07:08:56.856Z"
   },
   {
    "duration": 6012,
    "start_time": "2021-07-08T07:09:07.303Z"
   },
   {
    "duration": 1354,
    "start_time": "2021-07-08T07:09:13.318Z"
   },
   {
    "duration": 99,
    "start_time": "2021-07-08T07:09:14.674Z"
   },
   {
    "duration": 19,
    "start_time": "2021-07-08T07:09:14.775Z"
   },
   {
    "duration": 14,
    "start_time": "2021-07-08T07:09:14.796Z"
   },
   {
    "duration": 28,
    "start_time": "2021-07-08T07:09:14.812Z"
   },
   {
    "duration": 46,
    "start_time": "2021-07-08T07:09:14.842Z"
   },
   {
    "duration": 6,
    "start_time": "2021-07-08T07:09:14.889Z"
   },
   {
    "duration": 22,
    "start_time": "2021-07-08T07:09:14.896Z"
   },
   {
    "duration": 18,
    "start_time": "2021-07-08T07:09:14.920Z"
   },
   {
    "duration": 22,
    "start_time": "2021-07-08T07:09:14.940Z"
   },
   {
    "duration": 28,
    "start_time": "2021-07-08T07:09:14.963Z"
   },
   {
    "duration": 23,
    "start_time": "2021-07-08T07:09:14.993Z"
   },
   {
    "duration": 24,
    "start_time": "2021-07-08T07:09:15.018Z"
   },
   {
    "duration": 22,
    "start_time": "2021-07-08T07:09:15.043Z"
   },
   {
    "duration": 37,
    "start_time": "2021-07-08T07:09:15.067Z"
   },
   {
    "duration": 28,
    "start_time": "2021-07-08T07:09:15.105Z"
   },
   {
    "duration": 26,
    "start_time": "2021-07-08T07:09:15.134Z"
   },
   {
    "duration": 5,
    "start_time": "2021-07-08T07:09:15.162Z"
   },
   {
    "duration": 27,
    "start_time": "2021-07-08T07:09:15.168Z"
   },
   {
    "duration": 21,
    "start_time": "2021-07-08T07:09:15.198Z"
   },
   {
    "duration": 19,
    "start_time": "2021-07-08T07:09:15.222Z"
   },
   {
    "duration": 16,
    "start_time": "2021-07-08T07:09:15.243Z"
   },
   {
    "duration": 33,
    "start_time": "2021-07-08T07:09:15.261Z"
   },
   {
    "duration": 13,
    "start_time": "2021-07-08T07:09:15.295Z"
   },
   {
    "duration": 13,
    "start_time": "2021-07-08T07:09:15.310Z"
   },
   {
    "duration": 20,
    "start_time": "2021-07-08T07:09:15.324Z"
   },
   {
    "duration": 160,
    "start_time": "2021-07-08T07:09:15.346Z"
   },
   {
    "duration": 910,
    "start_time": "2021-07-08T07:09:15.508Z"
   },
   {
    "duration": 215,
    "start_time": "2021-07-08T07:09:16.419Z"
   },
   {
    "duration": 11,
    "start_time": "2021-07-08T07:09:16.635Z"
   },
   {
    "duration": 32,
    "start_time": "2021-07-08T07:09:16.647Z"
   },
   {
    "duration": 168,
    "start_time": "2021-07-08T07:09:16.681Z"
   },
   {
    "duration": 249,
    "start_time": "2021-07-08T07:09:16.851Z"
   },
   {
    "duration": 261,
    "start_time": "2021-07-08T07:09:17.102Z"
   },
   {
    "duration": 273,
    "start_time": "2021-07-08T07:09:17.365Z"
   },
   {
    "duration": 199,
    "start_time": "2021-07-08T07:09:17.640Z"
   },
   {
    "duration": 333,
    "start_time": "2021-07-08T07:09:17.841Z"
   },
   {
    "duration": 14,
    "start_time": "2021-07-08T07:09:18.175Z"
   },
   {
    "duration": 750,
    "start_time": "2021-07-08T07:09:18.191Z"
   },
   {
    "duration": 347,
    "start_time": "2021-07-08T07:09:18.943Z"
   },
   {
    "duration": 185,
    "start_time": "2021-07-08T07:09:19.292Z"
   },
   {
    "duration": 274,
    "start_time": "2021-07-08T07:09:19.479Z"
   },
   {
    "duration": 234,
    "start_time": "2021-07-08T07:09:19.754Z"
   },
   {
    "duration": 29,
    "start_time": "2021-07-08T07:09:19.991Z"
   },
   {
    "duration": 237,
    "start_time": "2021-07-08T07:09:20.022Z"
   },
   {
    "duration": 34,
    "start_time": "2021-07-08T07:09:20.262Z"
   },
   {
    "duration": 176,
    "start_time": "2021-07-08T07:09:20.297Z"
   },
   {
    "duration": 18,
    "start_time": "2021-07-08T07:09:20.475Z"
   },
   {
    "duration": 30,
    "start_time": "2021-07-08T07:09:20.495Z"
   },
   {
    "duration": 179,
    "start_time": "2021-07-08T07:09:20.527Z"
   },
   {
    "duration": 69,
    "start_time": "2021-07-08T10:32:04.172Z"
   },
   {
    "duration": 9153,
    "start_time": "2021-07-09T09:23:23.514Z"
   },
   {
    "duration": 11966,
    "start_time": "2021-07-09T09:23:32.670Z"
   },
   {
    "duration": 8500,
    "start_time": "2021-07-09T09:23:44.640Z"
   },
   {
    "duration": 2160,
    "start_time": "2021-07-09T09:23:53.143Z"
   },
   {
    "duration": 144,
    "start_time": "2021-07-09T09:23:55.306Z"
   },
   {
    "duration": 28,
    "start_time": "2021-07-09T09:23:55.453Z"
   },
   {
    "duration": 19,
    "start_time": "2021-07-09T09:23:55.484Z"
   },
   {
    "duration": 38,
    "start_time": "2021-07-09T09:23:55.507Z"
   },
   {
    "duration": 62,
    "start_time": "2021-07-09T09:23:55.548Z"
   },
   {
    "duration": 8,
    "start_time": "2021-07-09T09:23:55.613Z"
   },
   {
    "duration": 11,
    "start_time": "2021-07-09T09:23:55.624Z"
   },
   {
    "duration": 14,
    "start_time": "2021-07-09T09:23:55.638Z"
   },
   {
    "duration": 36,
    "start_time": "2021-07-09T09:23:55.654Z"
   },
   {
    "duration": 21,
    "start_time": "2021-07-09T09:23:55.693Z"
   },
   {
    "duration": 19,
    "start_time": "2021-07-09T09:23:55.717Z"
   },
   {
    "duration": 71,
    "start_time": "2021-07-09T09:23:55.739Z"
   },
   {
    "duration": 28,
    "start_time": "2021-07-09T09:23:55.812Z"
   },
   {
    "duration": 46,
    "start_time": "2021-07-09T09:23:55.842Z"
   },
   {
    "duration": 31,
    "start_time": "2021-07-09T09:23:55.891Z"
   },
   {
    "duration": 29,
    "start_time": "2021-07-09T09:23:55.924Z"
   },
   {
    "duration": 33,
    "start_time": "2021-07-09T09:23:55.956Z"
   },
   {
    "duration": 26,
    "start_time": "2021-07-09T09:23:55.991Z"
   },
   {
    "duration": 33,
    "start_time": "2021-07-09T09:23:56.022Z"
   },
   {
    "duration": 52,
    "start_time": "2021-07-09T09:23:56.058Z"
   },
   {
    "duration": 1511,
    "start_time": "2021-07-09T09:23:56.112Z"
   },
   {
    "duration": 20,
    "start_time": "2021-07-09T09:23:57.626Z"
   },
   {
    "duration": 39,
    "start_time": "2021-07-09T09:23:57.649Z"
   },
   {
    "duration": 20,
    "start_time": "2021-07-09T09:23:57.691Z"
   },
   {
    "duration": 20,
    "start_time": "2021-07-09T09:23:57.714Z"
   },
   {
    "duration": 57,
    "start_time": "2021-07-09T09:23:57.737Z"
   },
   {
    "duration": 245,
    "start_time": "2021-07-09T09:23:57.797Z"
   },
   {
    "duration": 1149,
    "start_time": "2021-07-09T09:23:58.045Z"
   },
   {
    "duration": 330,
    "start_time": "2021-07-09T09:23:59.197Z"
   },
   {
    "duration": 16,
    "start_time": "2021-07-09T09:23:59.530Z"
   },
   {
    "duration": 789,
    "start_time": "2021-07-09T09:23:59.548Z"
   },
   {
    "duration": 18,
    "start_time": "2021-07-09T09:24:00.340Z"
   },
   {
    "duration": 264,
    "start_time": "2021-07-09T09:24:00.361Z"
   },
   {
    "duration": 273,
    "start_time": "2021-07-09T09:24:00.627Z"
   },
   {
    "duration": 420,
    "start_time": "2021-07-09T09:24:00.903Z"
   },
   {
    "duration": 413,
    "start_time": "2021-07-09T09:24:01.326Z"
   },
   {
    "duration": 292,
    "start_time": "2021-07-09T09:24:01.742Z"
   },
   {
    "duration": 552,
    "start_time": "2021-07-09T09:24:02.036Z"
   },
   {
    "duration": 20,
    "start_time": "2021-07-09T09:24:02.591Z"
   },
   {
    "duration": 239,
    "start_time": "2021-07-09T09:24:02.614Z"
   },
   {
    "duration": 633,
    "start_time": "2021-07-09T09:24:02.856Z"
   },
   {
    "duration": 256,
    "start_time": "2021-07-09T09:24:03.492Z"
   },
   {
    "duration": 289,
    "start_time": "2021-07-09T09:24:03.750Z"
   },
   {
    "duration": 359,
    "start_time": "2021-07-09T09:24:04.042Z"
   },
   {
    "duration": 42,
    "start_time": "2021-07-09T09:24:04.404Z"
   },
   {
    "duration": 416,
    "start_time": "2021-07-09T09:24:04.449Z"
   },
   {
    "duration": 61,
    "start_time": "2021-07-09T09:24:04.868Z"
   },
   {
    "duration": 689,
    "start_time": "2021-07-09T09:24:04.931Z"
   },
   {
    "duration": 15,
    "start_time": "2021-07-09T09:24:05.623Z"
   },
   {
    "duration": 45,
    "start_time": "2021-07-09T09:24:05.641Z"
   },
   {
    "duration": 284,
    "start_time": "2021-07-09T09:24:05.689Z"
   },
   {
    "duration": 509,
    "start_time": "2021-07-09T09:24:38.310Z"
   },
   {
    "duration": 529,
    "start_time": "2021-07-09T09:25:57.868Z"
   },
   {
    "duration": 163,
    "start_time": "2021-07-09T09:27:14.160Z"
   },
   {
    "duration": 108,
    "start_time": "2021-07-09T09:27:17.381Z"
   },
   {
    "duration": 101,
    "start_time": "2021-07-09T09:27:21.847Z"
   },
   {
    "duration": 678,
    "start_time": "2021-07-09T09:27:30.082Z"
   },
   {
    "duration": 109,
    "start_time": "2021-07-09T09:28:18.605Z"
   },
   {
    "duration": 656,
    "start_time": "2021-07-09T09:28:28.676Z"
   }
  ],
  "kernelspec": {
   "display_name": "Python 3",
   "language": "python",
   "name": "python3"
  },
  "language_info": {
   "codemirror_mode": {
    "name": "ipython",
    "version": 3
   },
   "file_extension": ".py",
   "mimetype": "text/x-python",
   "name": "python",
   "nbconvert_exporter": "python",
   "pygments_lexer": "ipython3",
   "version": "3.8.10"
  },
  "toc": {
   "base_numbering": 1,
   "nav_menu": {},
   "number_sections": true,
   "sideBar": true,
   "skip_h1_title": true,
   "title_cell": "Table of Contents",
   "title_sidebar": "Contents",
   "toc_cell": false,
   "toc_position": {},
   "toc_section_display": true,
   "toc_window_display": false
  }
 },
 "nbformat": 4,
 "nbformat_minor": 5
}
